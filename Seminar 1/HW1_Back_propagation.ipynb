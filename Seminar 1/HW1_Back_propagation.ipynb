{
 "cells": [
  {
   "cell_type": "markdown",
   "metadata": {},
   "source": [
    "## Семинар 1 \"Полносвязные нейронные сети\""
   ]
  },
  {
   "cell_type": "markdown",
   "metadata": {},
   "source": [
    "ФИО: Токаева Александра Александровна"
   ]
  },
  {
   "cell_type": "markdown",
   "metadata": {},
   "source": [
    "В этом задании вам предстоит реализовать проход \"вперед\" для полносвязной нейронную сети. В дальнейшем мы реализуем процедуру обучения и научим сеть распознавать рукописные цифры.\n",
    "\n",
    "На первой лекции мы познакомились с тем, что такое нейронные сети и изучили три слоя — линейный, сигмоида и SoftMax. Из этих слоев можно составлять глубокие архитектуры и обучать их при помощи градиентного спуска. Чтобы конструировать сложные архитектуры, можно реализовать каждый тип слоя как отдельный \"кирпичик\" и затем собирать полную архитектуру как конструктор. Это мы и попробуем сделать на первом и втором семинарах."
   ]
  },
  {
   "cell_type": "markdown",
   "metadata": {},
   "source": [
    "Каждый тип слоя мы будем реализовывать при помощи класса, который будет поддерживать три функции: forward, которая будет применять функцию, реализуемую слоем, к входной матрице и backward, которая будет вычислять градиенты и step, которая будет обновлять веса. Чтобы не применять функцию к каждому объекту в отдельности, мы будем подавать на вход слою матрицу размера (N, d), где N — количество объектов, а d — размерность каждого объекта."
   ]
  },
  {
   "cell_type": "markdown",
   "metadata": {},
   "source": [
    "<img src=backprop.pdf width=400/>"
   ]
  },
  {
   "cell_type": "markdown",
   "metadata": {},
   "source": [
    "Функция forward будет вычислять по $x$ значение $y$, backward — по $\\frac{\\partial L}{\\partial y}$ вычислять $\\frac{\\partial L}{\\partial x}$ и обновлять внутри себя $\\frac{\\partial L}{\\partial w}$.\n",
    "\n",
    "Важным требованием к реализации является векторизация всех слоев: все операции должны быть сведены к матричным, не должно быть циклов. Это значительно уменьшает временные затраты."
   ]
  },
  {
   "cell_type": "code",
   "execution_count": 1,
   "metadata": {},
   "outputs": [],
   "source": [
    "import matplotlib.pyplot as plt\n",
    "import numpy as np\n",
    "%matplotlib inline"
   ]
  },
  {
   "cell_type": "markdown",
   "metadata": {},
   "source": [
    "### Часть 1: Линейный слой\n"
   ]
  },
  {
   "cell_type": "markdown",
   "metadata": {},
   "source": [
    "Приведем пример вычисления градиентов для линейного слоя: $y = Wx$, $x \\in \\mathbb{R}^{K \\times n}$, $y \\in \\mathbb{R}^{K \\times n}$, $W \\in \\mathbb{R}^{n \\times m}$, где $K$ — число объектов.\n",
    "\n",
    "Рассмотрим $L$ как функцию от выходов нейронной сети: $L = L(y_{11}, y_{12}, \\dots)$\n",
    "\n",
    "$$y_{kt} = (Wx)_{kt} = \\sum_{z=1}^{n} x_{kz}W_{zt}$$\n",
    "\n",
    "$$\\frac{\\partial L}{\\partial x_{ij}} = \\sum_{kt} \\frac{\\partial L}{\\partial y_{kt}}\\frac{\\partial y_{kt}}{\\partial x_{ij}} = \\sum_{kt} \\frac{\\partial L}{\\partial y_{kt}}\\frac{\\partial \\sum_z x_{kz}w_{zt}}{\\partial x_{ij}}= \\sum_{t} \\frac{\\partial L}{\\partial y_{it}}\\frac{\\partial w_{jt}}{\\partial x_{ij}}$$\n",
    "\n",
    "$$\\frac{\\partial{L}}{\\partial x} = \\frac{\\partial{L}}{\\partial y}W^T$$"
   ]
  },
  {
   "cell_type": "code",
   "execution_count": 2,
   "metadata": {},
   "outputs": [],
   "source": [
    "class Linear:\n",
    "    def __init__(self, input_size, output_size):\n",
    "        '''\n",
    "        Creates weights and biases for linear layer.\n",
    "        Dimention of inputs is *input_size*, of output: *output_size*.\n",
    "        '''\n",
    "        self.W = np.random.randn(input_size, output_size) * 0.01\n",
    "        self.b = np.zeros(output_size)      \n",
    "    \n",
    "    def forward(self, X):\n",
    "        '''\n",
    "        Passes objects through this layer.\n",
    "        X is np.array of size (N, input_size).\n",
    "        Returns output of size (N, output_size).\n",
    "        Hint: You may need to store X for backward pass\n",
    "        '''\n",
    "        \n",
    "        self.X = X\n",
    "        return X @ self.W + self.b\n",
    "    \n",
    "    def backward(self, dLdy):\n",
    "        '''\n",
    "        1. Compute dLdw and dLdx.\n",
    "        2. Store dLdw for step() call\n",
    "        3. Return dLdx\n",
    "        '''\n",
    "        \n",
    "        #y = WX + b\n",
    "        #dLdW = dLdy * dydw\n",
    "        #dydw = x\n",
    "        \n",
    "        self.dLdW = (dLdy.T @ self.X).T\n",
    "        self.dLdb = (dLdy.T@np.ones(dLdy.shape[0]).reshape(-1,1)).flatten()\n",
    "        dLdx =  dLdy @ self.W.T\n",
    "        \n",
    "        return dLdx\n",
    "    \n",
    "    def step(self, learning_rate):\n",
    "        '''\n",
    "        1. Apply gradient dLdw to network:\n",
    "        w <- w - l*dLdw\n",
    "        '''\n",
    "        \n",
    "        self.W -= learning_rate * self.dLdW\n",
    "        self.b -= learning_rate * self.dLdb\n",
    "#         if (len(self.b)==1):\n",
    "#             print(\"b=\",self.b, self.W[0:10])"
   ]
  },
  {
   "cell_type": "markdown",
   "metadata": {},
   "source": [
    "### Часть 2: Численный градиент"
   ]
  },
  {
   "cell_type": "markdown",
   "metadata": {},
   "source": [
    "Релизуйте функцию проверки численного градиента. Для этого для каждой переменной, по которой считается градиент, надо вычислить численный градиент: $f'(x) \\approx \\frac{f(x+\\epsilon)-f(x-\\epsilon)}{2\\epsilon}$. Функция должна возвращать максимальное абсолютное отклонение аналитического градиента от численного. В качестве $\\epsilon$ рекомендуется взять $10^{-6}$. При правильной реализации максимальное отличие будет иметь порядок $10^{-8}-10^{-6}$."
   ]
  },
  {
   "cell_type": "code",
   "execution_count": 3,
   "metadata": {},
   "outputs": [],
   "source": [
    "def check_gradient(func, X, gradient):\n",
    "    '''\n",
    "    Computes numerical gradient and compares it with analytcal.\n",
    "    func: callable, function of which gradient we are interested. Example call: func(X)\n",
    "    X: np.array of size (n x m)\n",
    "    gradient: np.array of size (n x m)\n",
    "    Returns: maximum absolute diviation between numerical gradient and analytical.\n",
    "    '''\n",
    "    eps = 10**(-5)\n",
    "    \n",
    "    f_grad = np.zeros(gradient.shape)\n",
    "    \n",
    "\n",
    "    for i in range(X.shape[0]):\n",
    "        for j in range(X.shape[1]):\n",
    "            \n",
    "            X[i, j] += eps            \n",
    "            f_r = func(X)\n",
    "            X[i, j] -= 2*eps            \n",
    "            f_l = func(X)            \n",
    "            X[i, j] += eps     \n",
    "            f_grad[i, j] = (f_r - f_l) / 2 / eps\n",
    "            \n",
    "    #print(\"fgrad=\",f_grad)\n",
    "    return np.max(np.abs(gradient - f_grad))"
   ]
  },
  {
   "cell_type": "markdown",
   "metadata": {},
   "source": [
    "Проверим саму функцию check_gradient:"
   ]
  },
  {
   "cell_type": "code",
   "execution_count": 4,
   "metadata": {},
   "outputs": [
    {
     "data": {
      "text/plain": [
       "5.662181834509283e-10"
      ]
     },
     "execution_count": 4,
     "metadata": {},
     "output_type": "execute_result"
    }
   ],
   "source": [
    "np.random.seed(777)\n",
    "x = np.random.rand(10, 20)\n",
    "func = lambda x: (x**2).sum()\n",
    "gradient = 2*x\n",
    "check_gradient(func, x, gradient)"
   ]
  },
  {
   "cell_type": "markdown",
   "metadata": {},
   "source": [
    "Протестируйте линейный слой при помощи реализованной функции check_gradient: $\\frac{\\partial L}{\\partial x}$ и $\\frac{\\partial L}{\\partial w}$."
   ]
  },
  {
   "cell_type": "markdown",
   "metadata": {},
   "source": [
    "Проверяем $\\frac{\\partial L}{\\partial w}$"
   ]
  },
  {
   "cell_type": "code",
   "execution_count": 5,
   "metadata": {},
   "outputs": [
    {
     "data": {
      "text/plain": [
       "9.583001059354501e-12"
      ]
     },
     "execution_count": 5,
     "metadata": {},
     "output_type": "execute_result"
    }
   ],
   "source": [
    "np.random.seed(777)\n",
    "\n",
    "XX = np.array([[0, 1], [1, 1]],dtype=np.float64)\n",
    "YY = np.array([[0], [1]],dtype=np.float64)\n",
    "\n",
    "l = Linear(2, 1)\n",
    "\n",
    "def lossW(W): #путь лосс такой, на нем проверять будем\n",
    "    l.W = W\n",
    "    \n",
    "    res = l.forward(XX)\n",
    "    \n",
    "    return np.sum((res - YY)**2)\n",
    "\n",
    "res = l.forward(XX)\n",
    "#print(\"res=\",res)\n",
    "dLdy = 2*(res - YY)\n",
    "#print(\"dLdy=\",dLdy)\n",
    "\n",
    "l.backward(dLdy)\n",
    "\n",
    "#print(\"l.dLdW=\",l.dLdW)\n",
    "\n",
    "check_gradient(lossW, l.W, l.dLdW)"
   ]
  },
  {
   "cell_type": "markdown",
   "metadata": {},
   "source": [
    "Проверяем $\\frac{\\partial L}{\\partial x}$"
   ]
  },
  {
   "cell_type": "code",
   "execution_count": 6,
   "metadata": {},
   "outputs": [
    {
     "data": {
      "text/plain": [
       "1.286223905161421e-11"
      ]
     },
     "execution_count": 6,
     "metadata": {},
     "output_type": "execute_result"
    }
   ],
   "source": [
    "np.random.seed(777)\n",
    "\n",
    "XX = np.array([[0.0, 1.0], [1.0, 1.0]],dtype=np.float64)\n",
    "YY = np.array([[0.0], [1.0]],dtype=np.float64)\n",
    "\n",
    "l = Linear(2, 1)\n",
    "#l.W = np.array([[1],[1]])\n",
    "\n",
    "def lossX(XTEK): #путь лосс такой, на нем проверять будем\n",
    "    #l.W = np.array([[1],[1]]) #а какие веса взять-то?\n",
    "    \n",
    "    res = l.forward(XTEK)\n",
    "    return np.sum((res - YY)**2)\n",
    "\n",
    "res = l.forward(XX)\n",
    "dLdy = 2*(res - YY)\n",
    "dLdx=l.backward(dLdy)\n",
    "\n",
    "\n",
    "#print(\"dLdx=\",dLdx)\n",
    "check_gradient(lossX, XX, dLdx)"
   ]
  },
  {
   "cell_type": "markdown",
   "metadata": {},
   "source": [
    "### Часть 3: Сигмоида"
   ]
  },
  {
   "cell_type": "code",
   "execution_count": 7,
   "metadata": {},
   "outputs": [],
   "source": [
    "def sigmoida(x):\n",
    "    return 1 / (1 + np.exp(-x))\n",
    "\n",
    "class Sigmoid:\n",
    "    def __init__(self):\n",
    "        pass\n",
    "    \n",
    "    def forward(self, X):\n",
    "        '''\n",
    "        Passes objects through this layer.\n",
    "        X is np.array of size (N, d)\n",
    "        '''\n",
    "        #### YOUR CODE HERE\n",
    "        #### Apply layer to input\n",
    "        self.X=X\n",
    "        self.y=sigmoida(X)\n",
    "        return self.y\n",
    "    \n",
    "    def backward(self, dLdy):\n",
    "        '''\n",
    "        1. Compute dLdx.\n",
    "        2. Return dLdx\n",
    "        '''\n",
    "        #### YOUR CODE HERE\n",
    "        return dLdy*sigmoida(self.X)*(1-sigmoida(self.X))\n",
    "    \n",
    "    def step(self, learning_rate):\n",
    "        pass #because no weights in layer-sigmoida"
   ]
  },
  {
   "cell_type": "markdown",
   "metadata": {},
   "source": [
    "Протестируйте слой при помощи реализованной функции check_gradient: $\\frac{\\partial L}{\\partial x}$."
   ]
  },
  {
   "cell_type": "code",
   "execution_count": 8,
   "metadata": {},
   "outputs": [
    {
     "data": {
      "text/plain": [
       "4.783617946202412e-12"
      ]
     },
     "execution_count": 8,
     "metadata": {},
     "output_type": "execute_result"
    }
   ],
   "source": [
    "#### YOUR CODE HERE\n",
    "np.random.seed(777)\n",
    "\n",
    "XX = np.array([[0.0, 1.0], [1.0, 1.0]],dtype=np.float64)\n",
    "YY = np.array([[0.0], [1.0]],dtype=np.float64)\n",
    "\n",
    "l = Sigmoid()\n",
    "#l.W = np.array([[1],[1]])\n",
    "\n",
    "def lossX(XTEK): #путь лосс такой, на нем проверять будем\n",
    "    #l.W = np.array([[1],[1]]) #а какие веса взять-то? Ответ-они и так уже рандомно инициализировались\n",
    "    \n",
    "    res = l.forward(XTEK)\n",
    "    return np.sum((res - YY)**2)\n",
    "\n",
    "res = l.forward(XX)\n",
    "dLdy = 2*(res - YY)\n",
    "dLdx=l.backward(dLdy)\n",
    "\n",
    "check_gradient(lossX, XX, dLdx)"
   ]
  },
  {
   "cell_type": "markdown",
   "metadata": {},
   "source": [
    "### Часть 4: Функция потерь"
   ]
  },
  {
   "cell_type": "markdown",
   "metadata": {},
   "source": [
    "Как мы увидели на семинаре, вычисление производной для связки SoftMax + Negative log-likelihood проще чем для этих двух слоев по отдельности. Поэтому мы реализуем их как один класс. Важное замечание: на проходе \"вперед\" важно воспользоваться трюком <a href=\"https://blog.feedly.com/tricks-of-the-trade-logsumexp/\">log-sum-exp</a>, чтобы не столкнуться с численными неустойчивостями."
   ]
  },
  {
   "cell_type": "code",
   "execution_count": 9,
   "metadata": {},
   "outputs": [],
   "source": [
    "class NLLLoss:\n",
    "    def __init__(self):\n",
    "        '''\n",
    "        Applies Softmax operation to inputs and computes NLL loss\n",
    "        '''\n",
    "        #### YOUR CODE HERE\n",
    "        #### (Hint: No code is expected here, just joking)\n",
    "        \n",
    "    \n",
    "    def forward(self, X, y):\n",
    "        '''\n",
    "        Passes objects through this layer.\n",
    "        X is np.array of size (N, C), where C is the number of classes; X is actually y_pred\n",
    "        y is np.array of size (N), contains correct labels; y is actually y_true\n",
    "        '''\n",
    "        #### YOUR CODE HERE\n",
    "        #### Apply layer to input\n",
    "        self.X=X\n",
    "        self.y=y\n",
    "        c=np.max(X)\n",
    "        #we use log-sum-exp here:\n",
    "        return -np.sum(X[np.arange(X.shape[0]),y.flatten()]) + np.sum(c+np.log(np.exp(X-c).sum(axis=1)))\n",
    "        \n",
    "    \n",
    "    def backwardCycle(self):\n",
    "        '''\n",
    "        Note that here dLdy = 1 since L = y\n",
    "        1. Compute dLdx\n",
    "        2. Return dLdx\n",
    "        '''\n",
    "        def indic_func(a,b):\n",
    "            return (a==b).astype(int)\n",
    "        \n",
    "        #### YOUR CODE HERE\n",
    "        otv=np.zeros(self.X.shape)\n",
    "        for i in range(self.X.shape[0]):\n",
    "            for j in range(self.X.shape[1]):\n",
    "                otv[i,j]=-indic_func(j,self.y[i]) + np.exp(self.X[i,j])/(np.exp(self.X[i,:]).sum())\n",
    "        return otv\n",
    "    \n",
    "    \n",
    "    def backward(self):\n",
    "        '''\n",
    "        Note that here dLdy = 1 since L = y\n",
    "        1. Compute dLdx\n",
    "        2. Return dLdx\n",
    "        '''\n",
    "        \n",
    "        \n",
    "        #### YOUR CODE HERE\n",
    "        \n",
    "        y=self.y.flatten()\n",
    "        \n",
    "        \n",
    "        amt_of_classes=self.X.shape[1]\n",
    "        matr=[]\n",
    "        for i in range(0,amt_of_classes):\n",
    "            yi=(y==i).astype(float)\n",
    "            matr.append(yi)\n",
    "        matr=np.array(matr)\n",
    "        matr=matr.T\n",
    "        \n",
    "\n",
    "        \n",
    "        otv=-matr+(np.exp(self.X)/(np.exp(self.X).sum(axis=1)).reshape(-1,1))\n",
    "        \n",
    "        return otv\n",
    "    \n",
    "    "
   ]
  },
  {
   "cell_type": "markdown",
   "metadata": {},
   "source": [
    "Протестируйте слой при помощи реализованной функции check_gradient: $\\frac{\\partial L}{\\partial x}$."
   ]
  },
  {
   "cell_type": "code",
   "execution_count": 10,
   "metadata": {},
   "outputs": [
    {
     "name": "stdout",
     "output_type": "stream",
     "text": [
      "dLdx= [[-0.73105858  0.73105858]\n",
      " [-0.5         0.5       ]]\n",
      "backwardCycle= [[-0.73105858  0.73105858]\n",
      " [-0.5         0.5       ]]\n"
     ]
    },
    {
     "data": {
      "text/plain": [
       "2.5480062504357193e-11"
      ]
     },
     "execution_count": 10,
     "metadata": {},
     "output_type": "execute_result"
    }
   ],
   "source": [
    "#### YOUR CODE HERE\n",
    "np.random.seed(777)\n",
    "\n",
    "XX = np.array([[0, 1], [1, 1]],dtype=np.float64)\n",
    "YY = np.array([[0], [0]])\n",
    "\n",
    "l = NLLLoss()\n",
    "\n",
    "\n",
    "def TekLoss(XTEK):\n",
    "    return l.forward(XTEK,YY)\n",
    "\n",
    "res = l.forward(XX,YY)\n",
    "\n",
    "dLdx=l.backward()\n",
    "\n",
    "print(\"dLdx=\",dLdx)\n",
    "print(\"backwardCycle=\",l.backwardCycle())\n",
    "check_gradient(TekLoss, XX, dLdx)\n",
    "\n"
   ]
  },
  {
   "cell_type": "markdown",
   "metadata": {},
   "source": [
    "### Часть 5, нейронная сеть"
   ]
  },
  {
   "cell_type": "markdown",
   "metadata": {},
   "source": [
    "Теперь, когда у нас есть \"кирпичики\", мы можем написать класс, который будет собирать всю сеть вместе "
   ]
  },
  {
   "cell_type": "code",
   "execution_count": 11,
   "metadata": {},
   "outputs": [],
   "source": [
    "class NeuralNetwork:\n",
    "    def __init__(self, modules):\n",
    "        '''\n",
    "        Constructs network with *modules* as its layers\n",
    "        '''\n",
    "        #### YOUR CODE HERE\n",
    "        self.layers=list(modules)\n",
    "    \n",
    "    def forward(self, X):\n",
    "        #### YOUR CODE HERE\n",
    "        #### Apply layers to input\n",
    "        for layer in self.layers:\n",
    "            X=layer.forward(X)\n",
    "        return X\n",
    "    \n",
    "    def backward(self, dLdy):\n",
    "        '''\n",
    "        dLdy here is a gradient from loss function\n",
    "        '''\n",
    "        #### YOUR CODE HERE\n",
    "        for layer in self.layers[::-1]:\n",
    "            dLdy=layer.backward(dLdy)\n",
    "        return dLdy #truly it is dLdx \n",
    "    \n",
    "    def step(self, learning_rate):\n",
    "        for layer in self.layers:\n",
    "            layer.step(learning_rate)\n",
    "        "
   ]
  },
  {
   "cell_type": "markdown",
   "metadata": {},
   "source": [
    "### Часть 6, обучение на простых данных"
   ]
  },
  {
   "cell_type": "code",
   "execution_count": 12,
   "metadata": {},
   "outputs": [
    {
     "data": {
      "image/png": "[encoded data removed]",
      "text/plain": [
       "<Figure size 432x288 with 1 Axes>"
      ]
     },
     "metadata": {
      "needs_background": "light"
     },
     "output_type": "display_data"
    }
   ],
   "source": [
    "data = np.load('data.npz')\n",
    "X, y = data['arr_0'], data['arr_1']\n",
    "plt.scatter(X[:, 0], X[:, 1], c=y)\n",
    "plt.axis('equal')\n",
    "plt.show()"
   ]
  },
  {
   "cell_type": "markdown",
   "metadata": {},
   "source": [
    "Обучите архитектуру вида 2 -> 10 -> 10 -> 3:\n",
    "* Linear(2, 10)\n",
    "* Sigmoid()\n",
    "* Linear(10, 10)\n",
    "* Sigmoid()\n",
    "* Linear(10, 3)\n",
    "\n",
    "В качестве функции потерь используйте NLLLoss.\n",
    "1. Создайте сеть, в цикле запускайте forward, backward, step (используйте learning rate 0.005). \n",
    "2. Нарисуйте график сходимости (величина NLL после каждого обновления).\n",
    "3. Нарисуйте разделяющую поверхность\n",
    "4. Попробуйте подобрать темп обучения. Как меняется сходимость?"
   ]
  },
  {
   "cell_type": "code",
   "execution_count": 13,
   "metadata": {},
   "outputs": [
    {
     "name": "stderr",
     "output_type": "stream",
     "text": [
      "100%|██████████| 100000/100000 [01:17<00:00, 1297.33it/s]\n"
     ]
    }
   ],
   "source": [
    "#1\n",
    "from tqdm import tqdm\n",
    "modules=[Linear(2, 10),Sigmoid(),Linear(10, 10),Sigmoid(),Linear(10, 3)]\n",
    "nn=NeuralNetwork(modules)\n",
    "loss_neuron=NLLLoss()\n",
    "mas_of_losses=[]\n",
    "for ep in tqdm(range(100000)):\n",
    "    res=nn.forward(X)\n",
    "    tek_loss=loss_neuron.forward(res,y)\n",
    "    #print(ep,tek_loss)\n",
    "    mas_of_losses.append(tek_loss)\n",
    "    dLdy=loss_neuron.backward()\n",
    "    nn.backward(dLdy)\n",
    "    nn.step(learning_rate=0.005)"
   ]
  },
  {
   "cell_type": "code",
   "execution_count": 14,
   "metadata": {},
   "outputs": [
    {
     "data": {
      "text/plain": [
       "0.004949968904838897"
      ]
     },
     "execution_count": 14,
     "metadata": {},
     "output_type": "execute_result"
    }
   ],
   "source": [
    "#Посмотрим на конечный лосс:\n",
    "mas_of_losses[-1]"
   ]
  },
  {
   "cell_type": "code",
   "execution_count": 15,
   "metadata": {},
   "outputs": [
    {
     "data": {
      "image/png": "[encoded data removed]",
      "text/plain": [
       "<Figure size 1080x360 with 1 Axes>"
      ]
     },
     "metadata": {
      "needs_background": "light"
     },
     "output_type": "display_data"
    }
   ],
   "source": [
    "#2\n",
    "fig, axes = plt.subplots()\n",
    "fig.set_figheight(5)\n",
    "fig.set_figwidth(15)\n",
    "\n",
    "\n",
    "axes.plot(np.arange(len(mas_of_losses)),mas_of_losses) \n",
    "axes.set_title(\"NLLLoss per epoch\")\n",
    "plt.show()"
   ]
  },
  {
   "cell_type": "code",
   "execution_count": 16,
   "metadata": {},
   "outputs": [],
   "source": [
    "#3\n",
    "min_x, max_x=np.min(X[:,0]),np.max(X[:,0])\n",
    "min_y, max_y=np.min(X[:,1]),np.max(X[:,1])\n",
    "Nx=100\n",
    "Ny=100\n",
    "my_grid=[]\n",
    "my_otvs=[]\n",
    "for tek_x in np.linspace(min_x, max_x, Nx):\n",
    "    for tek_y in np.linspace(min_y, max_y, Ny):\n",
    "        my_grid.append([tek_x,tek_y])\n",
    "        my_otvs.append(nn.forward([tek_x,tek_y]).argmax())\n",
    "my_grid=np.array(my_grid)\n",
    "my_otvs=np.array(my_otvs)"
   ]
  },
  {
   "cell_type": "code",
   "execution_count": 17,
   "metadata": {},
   "outputs": [
    {
     "data": {
      "image/png": "[encoded data removed]",
      "text/plain": [
       "<Figure size 432x288 with 1 Axes>"
      ]
     },
     "metadata": {
      "needs_background": "light"
     },
     "output_type": "display_data"
    }
   ],
   "source": [
    "plt.scatter(my_grid[:,0],my_grid[:,1],c=my_otvs)\n",
    "plt.title(\"Разделяющая поверхность для NLLLoss\")\n",
    "plt.show()"
   ]
  },
  {
   "cell_type": "code",
   "execution_count": 18,
   "metadata": {},
   "outputs": [
    {
     "name": "stdout",
     "output_type": "stream",
     "text": [
      "0.001 1.1492356099793142\n",
      "0.005 0.07794036254472303\n",
      "0.01 0.03661378120068548\n",
      "0.005 0.07816456537148042\n",
      "0.1 5823.148082743074\n"
     ]
    },
    {
     "name": "stderr",
     "output_type": "stream",
     "text": [
      "/Users/aleksandra/anaconda3/lib/python3.7/site-packages/ipykernel_launcher.py:2: RuntimeWarning: overflow encountered in exp\n",
      "  \n"
     ]
    },
    {
     "name": "stdout",
     "output_type": "stream",
     "text": [
      "0.5 17908.30743617328\n"
     ]
    }
   ],
   "source": [
    "#4\n",
    "#Если темп обучения большой, то сходимость маленькая, или вообще ее нет, лосс болтается\n",
    "\n",
    "m=[]\n",
    "for learn_r in [0.001,0.005,0.01,0.005,0.1,0.5]:\n",
    "    modules=[Linear(2, 10),Sigmoid(),Linear(10, 10),Sigmoid(),Linear(10, 3)]\n",
    "    nn=NeuralNetwork(modules)\n",
    "    loss_neuron=NLLLoss()\n",
    "    mas_of_losses=[]\n",
    "    for ep in range(10000):\n",
    "        res=nn.forward(X)\n",
    "        tek_loss=loss_neuron.forward(res,y)\n",
    "        #print(ep,tek_loss)\n",
    "        mas_of_losses.append(tek_loss)\n",
    "        dLdy=loss_neuron.backward()\n",
    "        nn.backward(dLdy)\n",
    "        nn.step(learning_rate=learn_r)\n",
    "    m.append(mas_of_losses[-1])\n",
    "    print(learn_r,mas_of_losses[-1])"
   ]
  },
  {
   "cell_type": "markdown",
   "metadata": {},
   "source": [
    "Видим, что оптимальный темп обучения среди этих - это 0.01"
   ]
  },
  {
   "cell_type": "markdown",
   "metadata": {},
   "source": [
    "Отличная визуализация: http://playground.tensorflow.org/"
   ]
  },
  {
   "cell_type": "markdown",
   "metadata": {},
   "source": [
    "## Домашнее задание:"
   ]
  },
  {
   "cell_type": "markdown",
   "metadata": {},
   "source": [
    "* Подоберите темп обучения. Как меняется сходимость? Нарисуйте график оптимального значения функции потерь для различных значений learning_rate\n",
    "* Решите поставленную выше задачу как задачу регрессии с MSE. Изменилась ли разделяющая поверхность?"
   ]
  },
  {
   "cell_type": "code",
   "execution_count": 19,
   "metadata": {},
   "outputs": [
    {
     "name": "stdout",
     "output_type": "stream",
     "text": [
      "0.001 1.241296072661953\n",
      "0.0046315789473684215 0.08937040274486208\n",
      "0.008263157894736844 0.04325440240245371\n",
      "0.011894736842105263 0.028196297518661595\n",
      "0.015526315789473687 0.017178405285449116\n",
      "0.01915789473684211 0.01618012442759209\n",
      "0.02278947368421053 0.013727812399793038\n",
      "0.02642105263157895 0.01398477555358113\n",
      "0.030052631578947372 0.008650322752146167\n",
      "0.033684210526315796 0.01140016433691926\n",
      "0.03731578947368422 1040.377538113045\n",
      "0.040947368421052635 1185.5629151498697\n",
      "0.04457894736842106 1580.7330956992703\n",
      "0.04821052631578948 0.047888030959711614\n",
      "0.0518421052631579 2953.1379163563624\n",
      "0.05547368421052632 1067.681141765878\n",
      "0.059105263157894744 1613.3860108737929\n",
      "0.06273684210526316 2504.116137463265\n",
      "0.06636842105263159 3047.857838434175\n",
      "0.07 2533.885244558762\n"
     ]
    }
   ],
   "source": [
    "m=[]\n",
    "for learn_r in np.linspace(0.001,0.07,20):\n",
    "    modules=[Linear(2, 10),Sigmoid(),Linear(10, 10),Sigmoid(),Linear(10, 3)]\n",
    "    nn=NeuralNetwork(modules)\n",
    "    loss_neuron=NLLLoss()\n",
    "    mas_of_losses=[]\n",
    "    for ep in range(10000):\n",
    "        res=nn.forward(X)\n",
    "        tek_loss=loss_neuron.forward(res,y)\n",
    "        #print(ep,tek_loss)\n",
    "        mas_of_losses.append(tek_loss)\n",
    "        dLdy=loss_neuron.backward()\n",
    "        nn.backward(dLdy)\n",
    "        nn.step(learning_rate=learn_r)\n",
    "    m.append(mas_of_losses[-1])\n",
    "    print(learn_r,mas_of_losses[-1])"
   ]
  },
  {
   "cell_type": "code",
   "execution_count": 20,
   "metadata": {},
   "outputs": [
    {
     "data": {
      "image/png": "[encoded data removed]",
      "text/plain": [
       "<Figure size 432x288 with 1 Axes>"
      ]
     },
     "metadata": {
      "needs_background": "light"
     },
     "output_type": "display_data"
    }
   ],
   "source": [
    "plt.plot(np.linspace(0.001,0.07,20),m)\n",
    "plt.title(\"NLLLoss vs learn_rate\")\n",
    "plt.show()"
   ]
  },
  {
   "cell_type": "code",
   "execution_count": null,
   "metadata": {},
   "outputs": [],
   "source": []
  },
  {
   "cell_type": "markdown",
   "metadata": {},
   "source": [
    "Теперь делаем MSELoss, только он внутри себя к 3 числам еще softmax применяет, получает вероятности, и еще y размножает на 3 столбика, типа 1,0,0"
   ]
  },
  {
   "cell_type": "code",
   "execution_count": 21,
   "metadata": {},
   "outputs": [],
   "source": [
    "def softmax(X):\n",
    "    #tmp=np.tile(np.exp(X).sum(axis=1).T,X.shape[1]).reshape(X.shape[1],-1).T\n",
    "    return np.exp(X)/np.exp(X).sum(axis=1).reshape(-1,1)\n",
    "\n",
    "class MSELoss:\n",
    "    def __init__(self):\n",
    "        '''\n",
    "        Applies Softmax operation to inputs and computes NLL loss\n",
    "        '''\n",
    "        #### YOUR CODE HERE\n",
    "        #### (Hint: No code is expected here, just joking)\n",
    "        \n",
    "    \n",
    "    def forward(self, X, y):\n",
    "        '''\n",
    "        Passes objects through this layer.\n",
    "        X is np.array of size (N, C), where C is the number of classes; X is actually y_pred\n",
    "        y is np.array of size (N), contains correct labels; y is actually y_true\n",
    "        '''\n",
    "        #### YOUR CODE HERE\n",
    "        #### Apply layer to input\n",
    "        \n",
    "        \n",
    "        \n",
    "        self.X=X\n",
    "        \n",
    "        X=softmax(X)\n",
    "        y=y.flatten()\n",
    "        \n",
    "        amt_of_classes=X.shape[1]\n",
    "        ynew=[]\n",
    "        for i in range(0,amt_of_classes):\n",
    "            yi=(y==i).astype(float)\n",
    "            ynew.append(yi)\n",
    "        ynew=np.array(ynew)\n",
    "        ynew=ynew.T\n",
    "        self.y=ynew\n",
    "        y=ynew\n",
    "        #print(ynew)\n",
    "        \n",
    "        return (((X-y)**2).sum())/X.shape[0]\n",
    "        \n",
    "    \n",
    "    def backward(self):\n",
    "        '''\n",
    "        Note that here dLdy = 1 since L = y\n",
    "        1. Compute dLdx\n",
    "        2. Return dLdx\n",
    "        '''\n",
    "        \n",
    "        \n",
    "        #### YOUR CODE HERE\n",
    "        #return 2*(self.X-self.y)/self.X.shape[0]\n",
    "        s=softmax(self.X)\n",
    "        return (2*s*(s-self.y)-2*s*(((s-self.y)*s).sum(axis=1)).reshape(-1,1))/self.X.shape[0]"
   ]
  },
  {
   "cell_type": "markdown",
   "metadata": {},
   "source": [
    "Протестируйте слой при помощи реализованной функции check_gradient: $\\frac{\\partial L}{\\partial x}$."
   ]
  },
  {
   "cell_type": "code",
   "execution_count": 22,
   "metadata": {},
   "outputs": [
    {
     "data": {
      "text/plain": [
       "1.4544439726669915e-11"
      ]
     },
     "execution_count": 22,
     "metadata": {},
     "output_type": "execute_result"
    }
   ],
   "source": [
    "np.random.seed(777)\n",
    "\n",
    "XX = np.array([[0, 1,10], [1, 1,20],[2,30,2]],dtype=np.float64)\n",
    "YY = np.array([[0], [0],[2]])\n",
    "\n",
    "l = MSELoss()\n",
    "\n",
    "\n",
    "def TekLoss(XTEK):\n",
    "    return l.forward(XTEK,YY)\n",
    "\n",
    "res = l.forward(XX,YY)\n",
    "\n",
    "\n",
    "dLdx=l.backward()\n",
    "\n",
    "\n",
    "#print(\"dLdx=\",dLdx)\n",
    "check_gradient(TekLoss, XX, dLdx)"
   ]
  },
  {
   "cell_type": "code",
   "execution_count": null,
   "metadata": {},
   "outputs": [],
   "source": []
  },
  {
   "cell_type": "markdown",
   "metadata": {},
   "source": [
    "Теперь делаем все 4 задания для MSELoss:"
   ]
  },
  {
   "cell_type": "markdown",
   "metadata": {},
   "source": [
    "ВНИМАНИЕ: берем learning_rate=0.5, а не 0.005, потому что для 0.005 почему-то разделающая поверхность - просто фиолетовый экран!"
   ]
  },
  {
   "cell_type": "code",
   "execution_count": 23,
   "metadata": {},
   "outputs": [
    {
     "data": {
      "image/png": "[encoded data removed]",
      "text/plain": [
       "<Figure size 432x288 with 1 Axes>"
      ]
     },
     "metadata": {
      "needs_background": "light"
     },
     "output_type": "display_data"
    }
   ],
   "source": [
    "data = np.load('data.npz')\n",
    "X, y = data['arr_0'], data['arr_1']\n",
    "plt.scatter(X[:, 0], X[:, 1], c=y)\n",
    "plt.axis('equal')\n",
    "plt.show()"
   ]
  },
  {
   "cell_type": "code",
   "execution_count": 24,
   "metadata": {},
   "outputs": [
    {
     "name": "stderr",
     "output_type": "stream",
     "text": [
      "100%|██████████| 10000/10000 [00:08<00:00, 1244.81it/s]\n"
     ]
    }
   ],
   "source": [
    "#1\n",
    "from tqdm import tqdm\n",
    "modules=[Linear(2, 10),Sigmoid(),Linear(10, 10),Sigmoid(),Linear(10, 3)]\n",
    "nn=NeuralNetwork(modules)\n",
    "loss_neuron=MSELoss()\n",
    "mas_of_losses=[]\n",
    "for ep in tqdm(range(10000)):\n",
    "    res=nn.forward(X)\n",
    "    tek_loss=loss_neuron.forward(res,y)\n",
    "    #print(ep,tek_loss)\n",
    "    mas_of_losses.append(tek_loss)\n",
    "    dLdy=loss_neuron.backward()\n",
    "    nn.backward(dLdy)\n",
    "    nn.step(learning_rate=0.5)"
   ]
  },
  {
   "cell_type": "code",
   "execution_count": 25,
   "metadata": {},
   "outputs": [
    {
     "data": {
      "image/png": "[encoded data removed]",
      "text/plain": [
       "<Figure size 1080x360 with 1 Axes>"
      ]
     },
     "metadata": {
      "needs_background": "light"
     },
     "output_type": "display_data"
    }
   ],
   "source": [
    "#2\n",
    "fig, axes = plt.subplots()\n",
    "fig.set_figheight(5)\n",
    "fig.set_figwidth(15)\n",
    "\n",
    "\n",
    "axes.plot(np.arange(len(mas_of_losses)),mas_of_losses) \n",
    "axes.set_title(\"MSELoss per epoch, learn_rate=0.5!\")\n",
    "plt.show()"
   ]
  },
  {
   "cell_type": "code",
   "execution_count": 26,
   "metadata": {},
   "outputs": [
    {
     "data": {
      "text/plain": [
       "0.004405808854026415"
      ]
     },
     "execution_count": 26,
     "metadata": {},
     "output_type": "execute_result"
    }
   ],
   "source": [
    "mas_of_losses[-1]"
   ]
  },
  {
   "cell_type": "code",
   "execution_count": 27,
   "metadata": {},
   "outputs": [
    {
     "data": {
      "image/png": "[encoded data removed]",
      "text/plain": [
       "<Figure size 432x288 with 1 Axes>"
      ]
     },
     "metadata": {
      "needs_background": "light"
     },
     "output_type": "display_data"
    }
   ],
   "source": [
    "#3\n",
    "min_x, max_x=np.min(X[:,0]),np.max(X[:,0])\n",
    "min_y, max_y=np.min(X[:,1]),np.max(X[:,1])\n",
    "Nx=100\n",
    "Ny=100\n",
    "my_grid=[]\n",
    "my_otvs=[]\n",
    "for tek_x in np.linspace(min_x, max_x, Nx):\n",
    "    for tek_y in np.linspace(min_y, max_y, Ny):\n",
    "        my_grid.append([tek_x,tek_y])\n",
    "        my_otvs.append(nn.forward([tek_x,tek_y]).argmax())\n",
    "my_grid=np.array(my_grid)\n",
    "my_otvs=np.array(my_otvs)\n",
    "\n",
    "plt.scatter(my_grid[:,0],my_grid[:,1],c=my_otvs)\n",
    "plt.title(\"Разделяющая поверхность для MSELoss\")\n",
    "plt.show()"
   ]
  },
  {
   "cell_type": "markdown",
   "metadata": {},
   "source": [
    "Разделяющая поверхность изменилась!"
   ]
  },
  {
   "cell_type": "code",
   "execution_count": 28,
   "metadata": {},
   "outputs": [
    {
     "name": "stdout",
     "output_type": "stream",
     "text": [
      "0.001 0.6382627431070317\n",
      "0.0046315789473684215 0.6382599278949349\n",
      "0.008263157894736844 0.6382611042687539\n",
      "0.011894736842105263 0.6382607466728608\n",
      "0.015526315789473687 0.6382596114330668\n",
      "0.01915789473684211 0.6382591541286838\n",
      "0.02278947368421053 0.6382599186283268\n",
      "0.02642105263157895 0.6382587163700211\n",
      "0.030052631578947372 0.6382594045284645\n",
      "0.033684210526315796 0.6382583018089716\n",
      "0.03731578947368422 0.638258867901777\n",
      "0.040947368421052635 0.6382598957196497\n",
      "0.04457894736842106 0.6382596035795727\n",
      "0.04821052631578948 0.6382594609729466\n",
      "0.0518421052631579 0.63825798644632\n",
      "0.05547368421052632 0.6382575842227398\n",
      "0.059105263157894744 0.6382585131952762\n",
      "0.06273684210526316 0.638257225227814\n",
      "0.06636842105263159 0.638258063701513\n",
      "0.07 0.6382585910658594\n"
     ]
    }
   ],
   "source": [
    "#4\n",
    "mMSE=[]\n",
    "for learn_r in np.linspace(0.001,0.07,20):\n",
    "    modules=[Linear(2, 10),Sigmoid(),Linear(10, 10),Sigmoid(),Linear(10, 3)]\n",
    "    nn=NeuralNetwork(modules)\n",
    "    loss_neuron=MSELoss()\n",
    "    mas_of_losses=[]\n",
    "    for ep in range(10000):\n",
    "        res=nn.forward(X)\n",
    "        tek_loss=loss_neuron.forward(res,y)\n",
    "        #print(ep,tek_loss)\n",
    "        mas_of_losses.append(tek_loss)\n",
    "        dLdy=loss_neuron.backward()\n",
    "        nn.backward(dLdy)\n",
    "        nn.step(learning_rate=learn_r)\n",
    "    mMSE.append(mas_of_losses[-1])\n",
    "    print(learn_r,mas_of_losses[-1])"
   ]
  },
  {
   "cell_type": "code",
   "execution_count": 29,
   "metadata": {},
   "outputs": [
    {
     "data": {
      "image/png": "[encoded data removed]",
      "text/plain": [
       "<Figure size 432x288 with 1 Axes>"
      ]
     },
     "metadata": {
      "needs_background": "light"
     },
     "output_type": "display_data"
    }
   ],
   "source": [
    "plt.plot(np.linspace(0.001,0.07,20),mMSE)\n",
    "plt.title(\"MSELoss vs learn_rate\")\n",
    "plt.show()"
   ]
  },
  {
   "cell_type": "code",
   "execution_count": null,
   "metadata": {},
   "outputs": [],
   "source": []
  },
  {
   "cell_type": "markdown",
   "metadata": {},
   "source": [
    "Теперь напишем обычный MSE_loss, который предсказывает класс (а не 3 числа, как раньше)"
   ]
  },
  {
   "cell_type": "code",
   "execution_count": 30,
   "metadata": {},
   "outputs": [],
   "source": [
    "def softmax(X):\n",
    "    #tmp=np.tile(np.exp(X).sum(axis=1).T,X.shape[1]).reshape(X.shape[1],-1).T\n",
    "    return np.exp(X)/np.exp(X).sum(axis=1).reshape(-1,1)\n",
    "\n",
    "class MSELoss_10_1:\n",
    "    def __init__(self):\n",
    "        '''\n",
    "        Applies Softmax operation to inputs and computes NLL loss\n",
    "        '''\n",
    "        #### YOUR CODE HERE\n",
    "        #### (Hint: No code is expected here, just joking)\n",
    "        \n",
    "    \n",
    "    def forward(self, X, y):\n",
    "        '''\n",
    "        Passes objects through this layer.\n",
    "        X is np.array of size (N, C), where C is the number of classes; X is actually y_pred\n",
    "        y is np.array of size (N), contains correct labels; y is actually y_true\n",
    "        '''\n",
    "        #### YOUR CODE HERE\n",
    "        #### Apply layer to input\n",
    "        \n",
    "        self.X=X\n",
    "        self.y=y.reshape(-1,1)\n",
    "        \n",
    "        return (((self.X-self.y)**2).sum())/self.X.shape[0]\n",
    "        \n",
    "    \n",
    "    def backward(self):\n",
    "        '''\n",
    "        Note that here dLdy = 1 since L = y\n",
    "        1. Compute dLdx\n",
    "        2. Return dLdx\n",
    "        '''\n",
    "        \n",
    "        \n",
    "        #### YOUR CODE HERE\n",
    "    \n",
    "        return 2*(self.X-self.y)/self.X.shape[0]\n",
    "        "
   ]
  },
  {
   "cell_type": "code",
   "execution_count": 31,
   "metadata": {},
   "outputs": [
    {
     "data": {
      "image/png": "[encoded data removed]",
      "text/plain": [
       "<Figure size 432x288 with 1 Axes>"
      ]
     },
     "metadata": {
      "needs_background": "light"
     },
     "output_type": "display_data"
    }
   ],
   "source": [
    "data = np.load('data.npz')\n",
    "X, y = data['arr_0'], data['arr_1']\n",
    "plt.scatter(X[:, 0], X[:, 1], c=y)\n",
    "plt.axis('equal')\n",
    "plt.show()"
   ]
  },
  {
   "cell_type": "code",
   "execution_count": 32,
   "metadata": {},
   "outputs": [
    {
     "name": "stderr",
     "output_type": "stream",
     "text": [
      "100%|██████████| 200000/200000 [02:14<00:00, 1482.74it/s]\n"
     ]
    }
   ],
   "source": [
    "#1\n",
    "from tqdm import tqdm\n",
    "modules=[Linear(2, 10),Sigmoid(),Linear(10, 10),Sigmoid(), Linear(10, 1)]\n",
    "#modules=[Linear(2, 5),Sigmoid(),Linear(5,5), Sigmoid(),Linear(5, 1)]\n",
    "nn=NeuralNetwork(modules)\n",
    "loss_neuron=MSELoss_10_1()\n",
    "mas_of_losses=[]\n",
    "for ep in tqdm(range(200000)):\n",
    "    res=nn.forward(X)\n",
    "    tek_loss=loss_neuron.forward(res,y)\n",
    "    #print(ep,tek_loss)\n",
    "    mas_of_losses.append(tek_loss)\n",
    "    dLdy=loss_neuron.backward()\n",
    "    nn.backward(dLdy)\n",
    "    nn.step(learning_rate=0.5)"
   ]
  },
  {
   "cell_type": "code",
   "execution_count": 33,
   "metadata": {},
   "outputs": [
    {
     "data": {
      "image/png": "[encoded data removed]",
      "text/plain": [
       "<Figure size 1080x360 with 1 Axes>"
      ]
     },
     "metadata": {
      "needs_background": "light"
     },
     "output_type": "display_data"
    }
   ],
   "source": [
    "#2\n",
    "fig, axes = plt.subplots()\n",
    "fig.set_figheight(5)\n",
    "fig.set_figwidth(15)\n",
    "\n",
    "\n",
    "axes.plot(np.arange(len(mas_of_losses)),mas_of_losses) \n",
    "axes.set_title(\"MSELoss per epoch, learn_rate=0.5!\")\n",
    "plt.show()"
   ]
  },
  {
   "cell_type": "code",
   "execution_count": 34,
   "metadata": {},
   "outputs": [
    {
     "data": {
      "text/plain": [
       "0.0002519184450506153"
      ]
     },
     "execution_count": 34,
     "metadata": {},
     "output_type": "execute_result"
    }
   ],
   "source": [
    "mas_of_losses[-1]"
   ]
  },
  {
   "cell_type": "code",
   "execution_count": 35,
   "metadata": {},
   "outputs": [
    {
     "data": {
      "text/plain": [
       "<matplotlib.axes._subplots.AxesSubplot at 0x7feb9ef1c6d8>"
      ]
     },
     "execution_count": 35,
     "metadata": {},
     "output_type": "execute_result"
    },
    {
     "data": {
      "image/png": "[encoded data removed]",
      "text/plain": [
       "<Figure size 432x288 with 2 Axes>"
      ]
     },
     "metadata": {
      "needs_background": "light"
     },
     "output_type": "display_data"
    }
   ],
   "source": [
    "#3\n",
    "import numpy as np\n",
    "import seaborn as sns\n",
    "\n",
    "\n",
    "\n",
    "min_x, max_x=np.min(X[:,0]),np.max(X[:,0])\n",
    "min_y, max_y=np.min(X[:,1]),np.max(X[:,1])\n",
    "Nx=100\n",
    "Ny=100\n",
    "my_grid=[]\n",
    "my_otvs=[]\n",
    "for tek_x in np.linspace(min_x, max_x, Nx):\n",
    "    for tek_y in np.linspace(min_y, max_y, Ny):\n",
    "        my_grid.append([tek_x,tek_y])\n",
    "        my_otvs.append(nn.forward([tek_x,tek_y]))\n",
    "my_grid=np.array(my_grid)\n",
    "my_otvs=np.array(my_otvs).reshape(Nx,Ny)\n",
    "\n",
    "# plt.scatter(my_grid[:,0],my_grid[:,1],c=my_otvs)\n",
    "# plt.title(\"Разделяющая поверхность для MSELoss\")\n",
    "# plt.show()\n",
    "\n",
    "sns.heatmap(my_otvs)"
   ]
  },
  {
   "cell_type": "markdown",
   "metadata": {},
   "source": [
    "Разделяющая поверхность похожа на ту, которая у NLLLoss!"
   ]
  },
  {
   "cell_type": "code",
   "execution_count": null,
   "metadata": {},
   "outputs": [],
   "source": []
  }
 ],
 "metadata": {
  "kernelspec": {
   "display_name": "Python 3",
   "language": "python",
   "name": "python3"
  },
  "language_info": {
   "codemirror_mode": {
    "name": "ipython",
    "version": 3
   },
   "file_extension": ".py",
   "mimetype": "text/x-python",
   "name": "python",
   "nbconvert_exporter": "python",
   "pygments_lexer": "ipython3",
   "version": "3.7.3"
  }
 },
 "nbformat": 4,
 "nbformat_minor": 2
}
