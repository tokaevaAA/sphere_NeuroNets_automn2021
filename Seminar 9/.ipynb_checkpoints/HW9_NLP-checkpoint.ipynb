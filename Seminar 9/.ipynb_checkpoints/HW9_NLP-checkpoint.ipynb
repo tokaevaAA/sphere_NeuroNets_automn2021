{
 "cells": [
  {
   "cell_type": "markdown",
   "metadata": {},
   "source": [
    "## Семинар 10: \"Генерация текстов\""
   ]
  },
  {
   "cell_type": "markdown",
   "metadata": {},
   "source": [
    "ФИО: Токаева Александра"
   ]
  },
  {
   "cell_type": "code",
   "execution_count": 130,
   "metadata": {},
   "outputs": [],
   "source": [
    "import numpy as np\n",
    "import re\n",
    "from torch import nn\n",
    "from torch.autograd import Variable\n",
    "import matplotlib.pyplot as plt\n",
    "import torch\n",
    "from torch.utils.data import Dataset, DataLoader\n",
    "import sys\n",
    "from IPython.display import clear_output\n",
    "from tqdm.autonotebook import tqdm\n",
    "import progressbar\n",
    "%matplotlib inline\n",
    "\n",
    "from tqdm import tqdm"
   ]
  },
  {
   "cell_type": "markdown",
   "metadata": {},
   "source": [
    "Этот семинар посвящен чат-ботам. Вам предстоит реализовать модель, генерирующую определенные тексты. В качестве текстов можно взять сборник цитат умных людей, предсказаний и т.д. На семинаре мы используем данные https://github.com/alvations/Quotables/blob/master/author-quote.txt\n",
    "\n",
    "При реализации задания вы можете пользоваться кодом из этого примера: <a href=https://github.com/spro/practical-pytorch/blob/master/char-rnn-generation/char-rnn-generation.ipynb>Generating Shakespeare with a Character-Level RNN</a>"
   ]
  },
  {
   "cell_type": "markdown",
   "metadata": {},
   "source": [
    "### Часть 1: подготовка данных"
   ]
  },
  {
   "cell_type": "markdown",
   "metadata": {},
   "source": [
    "Реализуйте датасет для дальнейшего обучения (будем использовать batch size=1)"
   ]
  },
  {
   "cell_type": "code",
   "execution_count": 2,
   "metadata": {},
   "outputs": [
    {
     "name": "stdout",
     "output_type": "stream",
     "text": [
      "36165\n",
      "A. A. Milne\n"
     ]
    }
   ],
   "source": [
    "lines = [\n",
    "    x.split('\\t')[0].strip() ##!!!!!\n",
    "    for x in open('author-quote.txt').readlines()\n",
    "]\n",
    "print(len(lines))\n",
    "print(lines[0])"
   ]
  },
  {
   "cell_type": "code",
   "execution_count": 3,
   "metadata": {},
   "outputs": [
    {
     "data": {
      "image/png": "[encoded data removed]",
      "text/plain": [
       "<Figure size 432x288 with 1 Axes>"
      ]
     },
     "metadata": {
      "needs_background": "light"
     },
     "output_type": "display_data"
    }
   ],
   "source": [
    "plt.hist(list(map(len, lines)), bins=100);"
   ]
  },
  {
   "cell_type": "code",
   "execution_count": 4,
   "metadata": {},
   "outputs": [
    {
     "data": {
      "image/png": "[encoded data removed]",
      "text/plain": [
       "<Figure size 432x288 with 1 Axes>"
      ]
     },
     "metadata": {
      "needs_background": "light"
     },
     "output_type": "display_data"
    }
   ],
   "source": [
    "plt.hist(list(map(lambda x: len(x.split()), lines)), bins=100);"
   ]
  },
  {
   "cell_type": "code",
   "execution_count": 5,
   "metadata": {},
   "outputs": [
    {
     "data": {
      "text/plain": [
       "<torch._C.Generator at 0x7ff6bbefb150>"
      ]
     },
     "execution_count": 5,
     "metadata": {},
     "output_type": "execute_result"
    }
   ],
   "source": [
    "np.random.seed(777)\n",
    "torch.manual_seed(777)"
   ]
  },
  {
   "cell_type": "code",
   "execution_count": 6,
   "metadata": {},
   "outputs": [],
   "source": [
    "class Vocabulary:\n",
    "    def __init__(self, sentences):\n",
    "        all_characters = set()\n",
    "        for line in sentences:\n",
    "            all_characters |= set(line)\n",
    "        all_characters = list(sorted(all_characters))+['<eos>', '<go>']\n",
    "        self.char_to_id = {\n",
    "            x[1]:x[0]\n",
    "            for x in enumerate(all_characters)\n",
    "        }\n",
    "        self.id_to_char = {\n",
    "            x[0]:x[1]\n",
    "            for x in enumerate(all_characters)\n",
    "        }\n",
    "        self.size = len(all_characters)\n",
    "\n",
    "    def encode(self, line):\n",
    "        return [self.char_to_id[x] for x in line]\n",
    "    \n",
    "    def decode(self, tokens):\n",
    "        return ''.join([self.id_to_char[x] for x in tokens])"
   ]
  },
  {
   "cell_type": "code",
   "execution_count": 7,
   "metadata": {},
   "outputs": [],
   "source": [
    "vocab = Vocabulary(lines)"
   ]
  },
  {
   "cell_type": "code",
   "execution_count": 8,
   "metadata": {},
   "outputs": [
    {
     "name": "stdout",
     "output_type": "stream",
     "text": [
      "A. A. Milne\n"
     ]
    },
    {
     "data": {
      "text/plain": [
       "array([ 6,  4,  0,  6,  4,  0, 18, 40, 43, 45, 36])"
      ]
     },
     "execution_count": 8,
     "metadata": {},
     "output_type": "execute_result"
    }
   ],
   "source": [
    "print(lines[0])\n",
    "np.array(vocab.encode(lines[0]))"
   ]
  },
  {
   "cell_type": "code",
   "execution_count": 9,
   "metadata": {},
   "outputs": [],
   "source": [
    "assert vocab.decode(vocab.encode(lines[0])) == lines[0]"
   ]
  },
  {
   "cell_type": "code",
   "execution_count": 10,
   "metadata": {},
   "outputs": [],
   "source": [
    "class Quotes(Dataset):\n",
    "    def __init__(self, sentences, vocab):\n",
    "        # Construct vocabulary + EOS & GO tokens\n",
    "        self.sentences = sentences\n",
    "        self.vocab = vocab\n",
    "        self.go = self.vocab.char_to_id['<go>']\n",
    "        self.eos = self.vocab.char_to_id['<eos>']\n",
    "\n",
    "    def __len__(self):\n",
    "        return len(self.sentences)\n",
    "\n",
    "    def __getitem__(self, idx):\n",
    "        tokens = self.vocab.encode(self.sentences[idx])\n",
    "        _input = np.array([self.go]+tokens)\n",
    "        _output = np.array(tokens+[self.eos])\n",
    "        return _input, _output"
   ]
  },
  {
   "cell_type": "code",
   "execution_count": 11,
   "metadata": {},
   "outputs": [],
   "source": [
    "def compose_batch(batch):\n",
    "    lengths = np.array([len(x[0]) for x in batch])\n",
    "    order = np.argsort(-lengths)\n",
    "    go = torch.zeros(len(batch), lengths[order[0]]).long()\n",
    "    eos = torch.zeros(len(batch), lengths[order[0]]).long()\n",
    "    mask = torch.zeros(len(batch), lengths[order[0]]).long()\n",
    "    for i in range(len(batch)):\n",
    "        current_go, current_eos = batch[i]\n",
    "        go[i, :len(current_go)] = torch.tensor(current_go)\n",
    "        eos[i, :len(current_eos)] = torch.tensor(current_eos)\n",
    "        mask[i, :len(current_go)] = 1\n",
    "    mask = mask[order]\n",
    "    go = go[order]\n",
    "    eos = eos[order]\n",
    "    lengths = lengths[order]\n",
    "    return go, eos, mask, lengths"
   ]
  },
  {
   "cell_type": "code",
   "execution_count": 12,
   "metadata": {},
   "outputs": [],
   "source": [
    "dataset = Quotes(lines, vocab)"
   ]
  },
  {
   "cell_type": "code",
   "execution_count": 13,
   "metadata": {},
   "outputs": [],
   "source": [
    "dataloader = DataLoader(\n",
    "    dataset, shuffle=True,\n",
    "    batch_size=64,\n",
    "    collate_fn=compose_batch)"
   ]
  },
  {
   "cell_type": "code",
   "execution_count": 14,
   "metadata": {},
   "outputs": [
    {
     "name": "stdout",
     "output_type": "stream",
     "text": [
      "torch.Size([64, 22])\n",
      "torch.Size([64, 22])\n",
      "torch.Size([64, 22])\n",
      "torch.Size([64, 27])\n",
      "torch.Size([64, 28])\n",
      "torch.Size([64, 22])\n",
      "torch.Size([64, 21])\n",
      "torch.Size([64, 27])\n",
      "torch.Size([64, 22])\n",
      "torch.Size([64, 22])\n",
      "torch.Size([64, 22])\n",
      "torch.Size([64, 27])\n",
      "torch.Size([64, 19])\n",
      "torch.Size([64, 27])\n",
      "torch.Size([64, 22])\n",
      "torch.Size([64, 22])\n",
      "torch.Size([64, 27])\n",
      "torch.Size([64, 34])\n",
      "torch.Size([64, 26])\n",
      "torch.Size([64, 23])\n",
      "torch.Size([64, 28])\n",
      "torch.Size([64, 28])\n",
      "torch.Size([64, 23])\n",
      "torch.Size([64, 22])\n",
      "torch.Size([64, 23])\n",
      "torch.Size([64, 26])\n",
      "torch.Size([64, 21])\n",
      "torch.Size([64, 27])\n",
      "torch.Size([64, 27])\n",
      "torch.Size([64, 22])\n",
      "torch.Size([64, 23])\n",
      "torch.Size([64, 22])\n",
      "torch.Size([64, 25])\n",
      "torch.Size([64, 22])\n",
      "torch.Size([64, 22])\n",
      "torch.Size([64, 22])\n",
      "torch.Size([64, 23])\n",
      "torch.Size([64, 27])\n",
      "torch.Size([64, 27])\n",
      "torch.Size([64, 20])\n",
      "torch.Size([64, 23])\n",
      "torch.Size([64, 22])\n",
      "torch.Size([64, 26])\n",
      "torch.Size([64, 22])\n",
      "torch.Size([64, 22])\n",
      "torch.Size([64, 23])\n",
      "torch.Size([64, 25])\n",
      "torch.Size([64, 27])\n",
      "torch.Size([64, 25])\n",
      "torch.Size([64, 27])\n",
      "torch.Size([64, 22])\n",
      "torch.Size([64, 22])\n",
      "torch.Size([64, 27])\n",
      "torch.Size([64, 25])\n",
      "torch.Size([64, 25])\n",
      "torch.Size([64, 27])\n",
      "torch.Size([64, 21])\n",
      "torch.Size([64, 23])\n",
      "torch.Size([64, 25])\n",
      "torch.Size([64, 27])\n",
      "torch.Size([64, 25])\n",
      "torch.Size([64, 22])\n",
      "torch.Size([64, 22])\n",
      "torch.Size([64, 25])\n",
      "torch.Size([64, 21])\n",
      "torch.Size([64, 34])\n",
      "torch.Size([64, 22])\n",
      "torch.Size([64, 24])\n",
      "torch.Size([64, 26])\n",
      "torch.Size([64, 25])\n",
      "torch.Size([64, 25])\n",
      "torch.Size([64, 22])\n",
      "torch.Size([64, 27])\n",
      "torch.Size([64, 22])\n",
      "torch.Size([64, 26])\n",
      "torch.Size([64, 22])\n",
      "torch.Size([64, 29])\n",
      "torch.Size([64, 23])\n",
      "torch.Size([64, 34])\n",
      "torch.Size([64, 34])\n",
      "torch.Size([64, 23])\n",
      "torch.Size([64, 23])\n",
      "torch.Size([64, 22])\n",
      "torch.Size([64, 22])\n",
      "torch.Size([64, 22])\n",
      "torch.Size([64, 27])\n",
      "torch.Size([64, 21])\n",
      "torch.Size([64, 27])\n",
      "torch.Size([64, 23])\n",
      "torch.Size([64, 25])\n",
      "torch.Size([64, 28])\n",
      "torch.Size([64, 23])\n",
      "torch.Size([64, 21])\n",
      "torch.Size([64, 26])\n",
      "torch.Size([64, 28])\n",
      "torch.Size([64, 23])\n",
      "torch.Size([64, 21])\n",
      "torch.Size([64, 27])\n",
      "torch.Size([64, 22])\n",
      "torch.Size([64, 22])\n",
      "torch.Size([64, 27])\n",
      "torch.Size([64, 27])\n",
      "torch.Size([64, 27])\n",
      "torch.Size([64, 27])\n",
      "torch.Size([64, 22])\n",
      "torch.Size([64, 22])\n",
      "torch.Size([64, 23])\n",
      "torch.Size([64, 21])\n",
      "torch.Size([64, 24])\n",
      "torch.Size([64, 22])\n",
      "torch.Size([64, 25])\n",
      "torch.Size([64, 23])\n",
      "torch.Size([64, 24])\n",
      "torch.Size([64, 25])\n",
      "torch.Size([64, 23])\n",
      "torch.Size([64, 22])\n",
      "torch.Size([64, 27])\n",
      "torch.Size([64, 25])\n",
      "torch.Size([64, 25])\n",
      "torch.Size([64, 22])\n",
      "torch.Size([64, 22])\n",
      "torch.Size([64, 28])\n",
      "torch.Size([64, 34])\n",
      "torch.Size([64, 20])\n",
      "torch.Size([64, 21])\n",
      "torch.Size([64, 22])\n",
      "torch.Size([64, 25])\n",
      "torch.Size([64, 25])\n",
      "torch.Size([64, 24])\n",
      "torch.Size([64, 22])\n",
      "torch.Size([64, 27])\n",
      "torch.Size([64, 22])\n",
      "torch.Size([64, 27])\n",
      "torch.Size([64, 24])\n",
      "torch.Size([64, 23])\n",
      "torch.Size([64, 22])\n",
      "torch.Size([64, 26])\n",
      "torch.Size([64, 23])\n",
      "torch.Size([64, 28])\n",
      "torch.Size([64, 22])\n",
      "torch.Size([64, 25])\n",
      "torch.Size([64, 25])\n",
      "torch.Size([64, 23])\n",
      "torch.Size([64, 26])\n",
      "torch.Size([64, 22])\n",
      "torch.Size([64, 27])\n",
      "torch.Size([64, 23])\n",
      "torch.Size([64, 21])\n",
      "torch.Size([64, 22])\n",
      "torch.Size([64, 22])\n",
      "torch.Size([64, 22])\n",
      "torch.Size([64, 22])\n",
      "torch.Size([64, 21])\n",
      "torch.Size([64, 21])\n",
      "torch.Size([64, 27])\n",
      "torch.Size([64, 21])\n",
      "torch.Size([64, 35])\n",
      "torch.Size([64, 27])\n",
      "torch.Size([64, 23])\n",
      "torch.Size([64, 27])\n",
      "torch.Size([64, 24])\n",
      "torch.Size([64, 25])\n",
      "torch.Size([64, 27])\n",
      "torch.Size([64, 23])\n",
      "torch.Size([64, 23])\n",
      "torch.Size([64, 27])\n",
      "torch.Size([64, 25])\n",
      "torch.Size([64, 23])\n",
      "torch.Size([64, 27])\n",
      "torch.Size([64, 35])\n",
      "torch.Size([64, 23])\n",
      "torch.Size([64, 22])\n",
      "torch.Size([64, 20])\n",
      "torch.Size([64, 22])\n",
      "torch.Size([64, 21])\n",
      "torch.Size([64, 26])\n",
      "torch.Size([64, 22])\n",
      "torch.Size([64, 23])\n",
      "torch.Size([64, 26])\n",
      "torch.Size([64, 27])\n",
      "torch.Size([64, 22])\n",
      "torch.Size([64, 24])\n",
      "torch.Size([64, 27])\n",
      "torch.Size([64, 27])\n",
      "torch.Size([64, 22])\n",
      "torch.Size([64, 25])\n",
      "torch.Size([64, 27])\n",
      "torch.Size([64, 23])\n",
      "torch.Size([64, 21])\n",
      "torch.Size([64, 22])\n",
      "torch.Size([64, 27])\n",
      "torch.Size([64, 22])\n",
      "torch.Size([64, 21])\n",
      "torch.Size([64, 27])\n",
      "torch.Size([64, 22])\n",
      "torch.Size([64, 21])\n",
      "torch.Size([64, 25])\n",
      "torch.Size([64, 22])\n",
      "torch.Size([64, 29])\n",
      "torch.Size([64, 34])\n",
      "torch.Size([64, 27])\n",
      "torch.Size([64, 22])\n",
      "torch.Size([64, 27])\n",
      "torch.Size([64, 21])\n",
      "torch.Size([64, 29])\n",
      "torch.Size([64, 19])\n",
      "torch.Size([64, 23])\n",
      "torch.Size([64, 23])\n",
      "torch.Size([64, 20])\n",
      "torch.Size([64, 23])\n",
      "torch.Size([64, 27])\n",
      "torch.Size([64, 21])\n",
      "torch.Size([64, 22])\n",
      "torch.Size([64, 22])\n",
      "torch.Size([64, 22])\n",
      "torch.Size([64, 23])\n",
      "torch.Size([64, 22])\n",
      "torch.Size([64, 24])\n",
      "torch.Size([64, 22])\n",
      "torch.Size([64, 27])\n",
      "torch.Size([64, 23])\n",
      "torch.Size([64, 26])\n",
      "torch.Size([64, 35])\n",
      "torch.Size([64, 35])\n",
      "torch.Size([64, 21])\n",
      "torch.Size([64, 24])\n",
      "torch.Size([64, 35])\n",
      "torch.Size([64, 23])\n",
      "torch.Size([64, 23])\n",
      "torch.Size([64, 27])\n",
      "torch.Size([64, 24])\n",
      "torch.Size([64, 25])\n",
      "torch.Size([64, 25])\n",
      "torch.Size([64, 27])\n",
      "torch.Size([64, 21])\n",
      "torch.Size([64, 22])\n",
      "torch.Size([64, 24])\n",
      "torch.Size([64, 24])\n",
      "torch.Size([64, 29])\n",
      "torch.Size([64, 27])\n",
      "torch.Size([64, 25])\n",
      "torch.Size([64, 22])\n",
      "torch.Size([64, 24])\n",
      "torch.Size([64, 29])\n",
      "torch.Size([64, 22])\n",
      "torch.Size([64, 25])\n",
      "torch.Size([64, 29])\n",
      "torch.Size([64, 22])\n",
      "torch.Size([64, 29])\n",
      "torch.Size([64, 29])\n",
      "torch.Size([64, 22])\n",
      "torch.Size([64, 27])\n",
      "torch.Size([64, 20])\n",
      "torch.Size([64, 24])\n",
      "torch.Size([64, 24])\n",
      "torch.Size([64, 21])\n",
      "torch.Size([64, 25])\n",
      "torch.Size([64, 28])\n",
      "torch.Size([64, 22])\n",
      "torch.Size([64, 25])\n",
      "torch.Size([64, 28])\n",
      "torch.Size([64, 25])\n",
      "torch.Size([64, 25])\n",
      "torch.Size([64, 21])\n",
      "torch.Size([64, 22])\n",
      "torch.Size([64, 26])\n",
      "torch.Size([64, 25])\n",
      "torch.Size([64, 22])\n",
      "torch.Size([64, 22])\n",
      "torch.Size([64, 23])\n",
      "torch.Size([64, 27])\n",
      "torch.Size([64, 24])\n",
      "torch.Size([64, 22])\n",
      "torch.Size([64, 22])\n",
      "torch.Size([64, 25])\n",
      "torch.Size([64, 23])\n",
      "torch.Size([64, 22])\n",
      "torch.Size([64, 23])\n",
      "torch.Size([64, 28])\n",
      "torch.Size([64, 21])\n",
      "torch.Size([64, 24])\n",
      "torch.Size([64, 21])\n",
      "torch.Size([64, 21])\n",
      "torch.Size([64, 25])\n",
      "torch.Size([64, 28])\n",
      "torch.Size([64, 29])\n",
      "torch.Size([64, 21])\n",
      "torch.Size([64, 27])\n",
      "torch.Size([64, 22])\n",
      "torch.Size([64, 24])\n",
      "torch.Size([64, 22])\n",
      "torch.Size([64, 27])\n",
      "torch.Size([64, 22])\n",
      "torch.Size([64, 27])\n",
      "torch.Size([64, 27])\n",
      "torch.Size([64, 35])\n",
      "torch.Size([64, 22])\n",
      "torch.Size([64, 27])\n",
      "torch.Size([64, 27])\n",
      "torch.Size([64, 23])\n",
      "torch.Size([64, 27])\n",
      "torch.Size([64, 22])\n",
      "torch.Size([64, 35])\n",
      "torch.Size([64, 24])\n",
      "torch.Size([64, 23])\n",
      "torch.Size([64, 29])\n",
      "torch.Size([64, 21])\n",
      "torch.Size([64, 23])\n",
      "torch.Size([64, 20])\n",
      "torch.Size([64, 24])\n",
      "torch.Size([64, 25])\n",
      "torch.Size([64, 27])\n",
      "torch.Size([64, 21])\n",
      "torch.Size([64, 22])\n",
      "torch.Size([64, 24])\n",
      "torch.Size([64, 22])\n",
      "torch.Size([64, 25])\n",
      "torch.Size([64, 29])\n",
      "torch.Size([64, 35])\n",
      "torch.Size([64, 22])\n",
      "torch.Size([64, 23])\n",
      "torch.Size([64, 25])\n",
      "torch.Size([64, 23])\n",
      "torch.Size([64, 21])\n",
      "torch.Size([64, 27])\n",
      "torch.Size([64, 19])\n",
      "torch.Size([64, 22])\n",
      "torch.Size([64, 22])\n",
      "torch.Size([64, 22])\n",
      "torch.Size([64, 27])\n",
      "torch.Size([64, 27])\n",
      "torch.Size([64, 25])\n",
      "torch.Size([64, 27])\n",
      "torch.Size([64, 22])\n",
      "torch.Size([64, 23])\n",
      "torch.Size([64, 34])\n",
      "torch.Size([64, 22])\n",
      "torch.Size([64, 25])\n",
      "torch.Size([64, 22])\n",
      "torch.Size([64, 24])\n",
      "torch.Size([64, 23])\n",
      "torch.Size([64, 25])\n",
      "torch.Size([64, 27])\n",
      "torch.Size([64, 21])\n",
      "torch.Size([64, 23])\n",
      "torch.Size([64, 24])\n",
      "torch.Size([64, 29])\n",
      "torch.Size([64, 25])\n",
      "torch.Size([64, 27])\n",
      "torch.Size([64, 27])\n",
      "torch.Size([64, 22])\n",
      "torch.Size([64, 27])\n",
      "torch.Size([64, 29])\n",
      "torch.Size([64, 22])\n",
      "torch.Size([64, 23])\n",
      "torch.Size([64, 27])\n",
      "torch.Size([64, 21])\n",
      "torch.Size([64, 23])\n",
      "torch.Size([64, 25])\n",
      "torch.Size([64, 22])\n",
      "torch.Size([64, 22])\n",
      "torch.Size([64, 27])\n",
      "torch.Size([64, 27])\n",
      "torch.Size([64, 27])\n",
      "torch.Size([64, 29])\n",
      "torch.Size([64, 27])\n",
      "torch.Size([64, 27])\n",
      "torch.Size([64, 27])\n",
      "torch.Size([64, 28])\n",
      "torch.Size([64, 25])\n",
      "torch.Size([64, 21])\n",
      "torch.Size([64, 23])\n",
      "torch.Size([64, 29])\n",
      "torch.Size([64, 23])\n",
      "torch.Size([64, 27])\n",
      "torch.Size([64, 22])\n",
      "torch.Size([64, 27])\n",
      "torch.Size([64, 25])\n",
      "torch.Size([64, 21])\n",
      "torch.Size([64, 27])\n",
      "torch.Size([64, 25])\n",
      "torch.Size([64, 27])\n",
      "torch.Size([64, 22])\n",
      "torch.Size([64, 22])\n",
      "torch.Size([64, 35])\n",
      "torch.Size([64, 23])\n",
      "torch.Size([64, 22])\n",
      "torch.Size([64, 22])\n",
      "torch.Size([64, 23])\n",
      "torch.Size([64, 22])\n",
      "torch.Size([64, 21])\n",
      "torch.Size([64, 23])\n",
      "torch.Size([64, 23])\n",
      "torch.Size([64, 35])\n",
      "torch.Size([64, 27])\n",
      "torch.Size([64, 27])\n",
      "torch.Size([64, 26])\n",
      "torch.Size([64, 21])\n",
      "torch.Size([64, 26])\n",
      "torch.Size([64, 22])\n",
      "torch.Size([64, 23])\n",
      "torch.Size([64, 24])\n",
      "torch.Size([64, 23])\n",
      "torch.Size([64, 23])\n",
      "torch.Size([64, 23])\n"
     ]
    },
    {
     "name": "stdout",
     "output_type": "stream",
     "text": [
      "torch.Size([64, 27])\n",
      "torch.Size([64, 21])\n",
      "torch.Size([64, 27])\n",
      "torch.Size([64, 27])\n",
      "torch.Size([64, 29])\n",
      "torch.Size([64, 25])\n",
      "torch.Size([64, 22])\n",
      "torch.Size([64, 23])\n",
      "torch.Size([64, 22])\n",
      "torch.Size([64, 28])\n",
      "torch.Size([64, 25])\n",
      "torch.Size([64, 22])\n",
      "torch.Size([64, 23])\n",
      "torch.Size([64, 22])\n",
      "torch.Size([64, 23])\n",
      "torch.Size([64, 27])\n",
      "torch.Size([64, 29])\n",
      "torch.Size([64, 27])\n",
      "torch.Size([64, 22])\n",
      "torch.Size([64, 27])\n",
      "torch.Size([64, 21])\n",
      "torch.Size([64, 22])\n",
      "torch.Size([64, 27])\n",
      "torch.Size([64, 22])\n",
      "torch.Size([64, 20])\n",
      "torch.Size([64, 34])\n",
      "torch.Size([64, 25])\n",
      "torch.Size([64, 26])\n",
      "torch.Size([64, 35])\n",
      "torch.Size([64, 21])\n",
      "torch.Size([64, 27])\n",
      "torch.Size([64, 21])\n",
      "torch.Size([64, 28])\n",
      "torch.Size([64, 22])\n",
      "torch.Size([64, 27])\n",
      "torch.Size([64, 20])\n",
      "torch.Size([64, 22])\n",
      "torch.Size([64, 22])\n",
      "torch.Size([64, 28])\n",
      "torch.Size([64, 27])\n",
      "torch.Size([64, 25])\n",
      "torch.Size([64, 27])\n",
      "torch.Size([64, 29])\n",
      "torch.Size([64, 22])\n",
      "torch.Size([64, 27])\n",
      "torch.Size([64, 29])\n",
      "torch.Size([64, 28])\n",
      "torch.Size([64, 25])\n",
      "torch.Size([64, 27])\n",
      "torch.Size([64, 21])\n",
      "torch.Size([64, 28])\n",
      "torch.Size([64, 22])\n",
      "torch.Size([64, 22])\n",
      "torch.Size([64, 26])\n",
      "torch.Size([64, 22])\n",
      "torch.Size([64, 23])\n",
      "torch.Size([64, 27])\n",
      "torch.Size([64, 27])\n",
      "torch.Size([64, 29])\n",
      "torch.Size([64, 20])\n",
      "torch.Size([64, 24])\n",
      "torch.Size([64, 22])\n",
      "torch.Size([64, 27])\n",
      "torch.Size([64, 28])\n",
      "torch.Size([64, 28])\n",
      "torch.Size([64, 23])\n",
      "torch.Size([64, 27])\n",
      "torch.Size([64, 20])\n",
      "torch.Size([64, 22])\n",
      "torch.Size([64, 22])\n",
      "torch.Size([64, 25])\n",
      "torch.Size([64, 22])\n",
      "torch.Size([64, 23])\n",
      "torch.Size([64, 20])\n",
      "torch.Size([64, 22])\n",
      "torch.Size([64, 22])\n",
      "torch.Size([64, 27])\n",
      "torch.Size([64, 21])\n",
      "torch.Size([64, 21])\n",
      "torch.Size([64, 23])\n",
      "torch.Size([64, 22])\n",
      "torch.Size([64, 21])\n",
      "torch.Size([64, 20])\n",
      "torch.Size([64, 27])\n",
      "torch.Size([64, 28])\n",
      "torch.Size([64, 20])\n",
      "torch.Size([64, 27])\n",
      "torch.Size([64, 23])\n",
      "torch.Size([64, 21])\n",
      "torch.Size([64, 34])\n",
      "torch.Size([64, 22])\n",
      "torch.Size([64, 26])\n",
      "torch.Size([64, 29])\n",
      "torch.Size([64, 24])\n",
      "torch.Size([64, 23])\n",
      "torch.Size([64, 24])\n",
      "torch.Size([64, 24])\n",
      "torch.Size([64, 23])\n",
      "torch.Size([64, 22])\n",
      "torch.Size([64, 20])\n",
      "torch.Size([64, 22])\n",
      "torch.Size([64, 28])\n",
      "torch.Size([64, 22])\n",
      "torch.Size([64, 22])\n",
      "torch.Size([64, 22])\n",
      "torch.Size([64, 19])\n",
      "torch.Size([64, 28])\n",
      "torch.Size([64, 27])\n",
      "torch.Size([64, 25])\n",
      "torch.Size([64, 27])\n",
      "torch.Size([64, 24])\n",
      "torch.Size([64, 22])\n",
      "torch.Size([64, 26])\n",
      "torch.Size([64, 20])\n",
      "torch.Size([64, 27])\n",
      "torch.Size([64, 22])\n",
      "torch.Size([64, 22])\n",
      "torch.Size([64, 34])\n",
      "torch.Size([64, 27])\n",
      "torch.Size([64, 22])\n",
      "torch.Size([64, 23])\n",
      "torch.Size([64, 23])\n",
      "torch.Size([64, 23])\n",
      "torch.Size([64, 29])\n",
      "torch.Size([64, 22])\n",
      "torch.Size([64, 20])\n",
      "torch.Size([64, 22])\n",
      "torch.Size([64, 22])\n",
      "torch.Size([64, 23])\n",
      "torch.Size([64, 22])\n",
      "torch.Size([64, 28])\n",
      "torch.Size([64, 25])\n",
      "torch.Size([64, 21])\n",
      "torch.Size([64, 26])\n",
      "torch.Size([64, 27])\n",
      "torch.Size([64, 24])\n",
      "torch.Size([64, 22])\n",
      "torch.Size([64, 22])\n",
      "torch.Size([64, 22])\n",
      "torch.Size([64, 22])\n",
      "torch.Size([64, 23])\n",
      "torch.Size([64, 24])\n",
      "torch.Size([64, 25])\n",
      "torch.Size([64, 22])\n",
      "torch.Size([64, 22])\n",
      "torch.Size([64, 22])\n",
      "torch.Size([64, 23])\n",
      "torch.Size([64, 25])\n",
      "torch.Size([64, 22])\n",
      "torch.Size([64, 21])\n",
      "torch.Size([64, 26])\n",
      "torch.Size([64, 23])\n",
      "torch.Size([64, 22])\n",
      "torch.Size([64, 27])\n",
      "torch.Size([64, 23])\n",
      "torch.Size([64, 23])\n",
      "torch.Size([64, 22])\n",
      "torch.Size([64, 21])\n",
      "torch.Size([64, 25])\n",
      "torch.Size([64, 29])\n",
      "torch.Size([5, 17])\n"
     ]
    }
   ],
   "source": [
    "for el in dataloader:\n",
    "    print(el[0].shape)   #el=goe,eos,mask,lengths, отсртированные по длине слова"
   ]
  },
  {
   "cell_type": "markdown",
   "metadata": {},
   "source": [
    "### Часть 2: определение модели"
   ]
  },
  {
   "cell_type": "code",
   "execution_count": 55,
   "metadata": {},
   "outputs": [],
   "source": [
    "class OracleGRU(nn.Module):\n",
    "    def __init__(self, vocabulary_size,\n",
    "                 embedding_size=128,\n",
    "                 hidden_size=256,\n",
    "                 layers=2):\n",
    "        super(OracleGRU, self).__init__()\n",
    "        self.embedding_size = embedding_size\n",
    "        self.layers = layers\n",
    "        self.hidden_size = hidden_size\n",
    "        self.embedding = nn.Embedding(\n",
    "            vocabulary_size, embedding_size\n",
    "        )\n",
    "        self.generator = nn.GRU(\n",
    "            embedding_size, hidden_size,\n",
    "            layers, batch_first=False\n",
    "        )\n",
    "        self.classifier = nn.Linear(\n",
    "            hidden_size, vocabulary_size #предсказываем вероятности классов\n",
    "        )\n",
    "\n",
    "    def forward(self, _input, lengths):\n",
    "        embedding = self.embedding(_input).transpose(0, 1)\n",
    "        #print(\"emb_shape\",embedding.shape) #25, 64, 32\n",
    "        embedding = nn.utils.rnn.pack_padded_sequence(\n",
    "            embedding, lengths\n",
    "        )\n",
    "        output, _ = self.generator(embedding)\n",
    "        output, _ = nn.utils.rnn.pad_packed_sequence(output)\n",
    "        classes = self.classifier(output)\n",
    "        #print(\"classes_shape\",classes.shape) #25, 64, 60\n",
    "        return classes\n",
    "\n",
    "    def generate(self, vocab, max_len=100):\n",
    "        h = torch.zeros(self.layers, 1, self.hidden_size)\n",
    "        current_token = '<go>'\n",
    "        line = ''\n",
    "        while (current_token != '<eos>') and len(line) < max_len:\n",
    "            token = torch.tensor([[vocab.char_to_id[current_token]]]).long()\n",
    "            token_id = token.detach()\n",
    "            embedding = self.embedding(token_id)\n",
    "            #print(\"emb_shape\",embedding.shape) ## 1 1 32\n",
    "            output, h = self.generator(embedding, h)\n",
    "            #print(output.shape,h.shape) 1 1 64 2 1 64 \n",
    "            #print(output[0].shape)\n",
    "            classes = self.classifier(output[0])\n",
    "            classes_probs = nn.Softmax(dim=1)(classes)\n",
    "            sampler = torch.distributions.Categorical(classes_probs[0])\n",
    "            new_token_id = sampler.sample().data.numpy().item()\n",
    "            current_token = vocab.id_to_char[new_token_id]\n",
    "            line = line + current_token\n",
    "        return line\n",
    "    \n",
    "oracleGRU = OracleGRU(vocab.size,\n",
    "                embedding_size=32,\n",
    "                hidden_size=64, layers=2)"
   ]
  },
  {
   "cell_type": "code",
   "execution_count": 56,
   "metadata": {},
   "outputs": [],
   "source": [
    "#что генерирует необученый oracle? Ерунду!"
   ]
  },
  {
   "cell_type": "code",
   "execution_count": 58,
   "metadata": {},
   "outputs": [
    {
     "data": {
      "text/plain": [
       "'FtKqbvLLjPPKpd,Hr<go>vTLKjUEQRxsZrEccVF.RHE,AfgUSf<go>oxPLmRQ<go>qndhyD,Bo1hdVdH<go>Ywvltl,XHSKyUtK<eos>'"
      ]
     },
     "execution_count": 58,
     "metadata": {},
     "output_type": "execute_result"
    }
   ],
   "source": [
    "oracleGRU.generate(vocab)"
   ]
  },
  {
   "cell_type": "markdown",
   "metadata": {},
   "source": [
    "### Часть 3: обучение модели"
   ]
  },
  {
   "cell_type": "code",
   "execution_count": 20,
   "metadata": {},
   "outputs": [],
   "source": [
    "criterion = nn.CrossEntropyLoss(reduction='none')"
   ]
  },
  {
   "cell_type": "code",
   "execution_count": 22,
   "metadata": {},
   "outputs": [],
   "source": [
    "def moving_average(a, n=20) :\n",
    "    ret = np.cumsum(a, dtype=float)\n",
    "    ret[n:] = ret[n:] - ret[:-n]\n",
    "    return ret[n - 1:] / n"
   ]
  },
  {
   "cell_type": "code",
   "execution_count": 107,
   "metadata": {
    "scrolled": false
   },
   "outputs": [
    {
     "data": {
      "image/png": "[encoded data removed]",
      "text/plain": [
       "<Figure size 432x288 with 1 Axes>"
      ]
     },
     "metadata": {
      "needs_background": "light"
     },
     "output_type": "display_data"
    },
    {
     "name": "stderr",
     "output_type": "stream",
     "text": [
      "100%|██████████| 10/10 [05:03<00:00, 30.36s/it]\n"
     ]
    }
   ],
   "source": [
    "optimizerGRU = torch.optim.RMSprop(\n",
    "    oracleGRU.parameters(), lr=0.0001, weight_decay=1e-5\n",
    ")\n",
    "\n",
    "lossesGRU = []\n",
    "\n",
    "for epoch in tqdm(range(10)):\n",
    "    #print(\"Epoch=\",epoch)\n",
    "    #bar = progressbar.ProgressBar()\n",
    "    for i, (go, eos, mask, lengths) in enumerate(dataloader):\n",
    "        oracleGRU.zero_grad()\n",
    "        prediction = oracleGRU(go, lengths).transpose(0, 1).transpose(1, 2)\n",
    "        #print(\"pred_shape\",prediction.shape) #64 60 25 - то есть для каждого из 25 слов стоит 60 вероятностей\n",
    "        #print(\"eos_shape\",eos.shape) #64 25\n",
    "        #print(\"crit_shape\",criterion(prediction, eos).shape) #64 25\n",
    "        #print(\"mask_shape\",mask.shape) #64 25\n",
    "        loss = (criterion(prediction, eos)*mask.float()).sum()\n",
    "        loss = loss / mask.sum()\n",
    "        loss.backward()\n",
    "        [x.grad.clamp_(-1, 1) for x in oracleGRU.parameters()]\n",
    "        optimizerGRU.step()\n",
    "        lossesGRU.append(np.exp(loss.item()))\n",
    "        \n",
    "    clear_output(True)\n",
    "    plt.plot(lossesGRU, label='Train')\n",
    "    plt.plot(moving_average(lossesGRU), label='MA@20')\n",
    "    plt.xlabel('iteration')\n",
    "    plt.ylabel('perplexity')\n",
    "    plt.legend()\n",
    "    plt.grid()\n",
    "    plt.show()"
   ]
  },
  {
   "cell_type": "markdown",
   "metadata": {},
   "source": [
    "### Часть 4: оценивание модели"
   ]
  },
  {
   "cell_type": "markdown",
   "metadata": {},
   "source": [
    "<i> Приведите примеры сгенерированных предложений </i>"
   ]
  },
  {
   "cell_type": "code",
   "execution_count": 124,
   "metadata": {},
   "outputs": [
    {
     "name": "stdout",
     "output_type": "stream",
     "text": [
      "Bitlie Ilile<eos>\n",
      "Peon Aaniax<eos>\n",
      "Loma Garraes<eos>\n",
      "Roley Hall<eos>\n",
      "Jhon Halmar<eos>\n",
      "Moriel Parer<eos>\n",
      "Atty Barwes<eos>\n",
      "Braele Ibdriell<eos>\n",
      "Stemim Bannia<eos>\n",
      "Yopian Lole<eos>\n"
     ]
    }
   ],
   "source": [
    "for i in range(10):\n",
    "    print(oracleGRU.generate(vocab))"
   ]
  },
  {
   "cell_type": "markdown",
   "metadata": {},
   "source": [
    "## HW 1 (3 балла)\n",
    "1. Обучить сеть с LSTM вместо GRU\n",
    "2. Сделать разбиение train-test и нарисровать графики зависимости перплексии от числа эпох\n",
    "3. Подобрать гиперпараметры, добиться лучшей перплексии чем с параметрами по умолчанию"
   ]
  },
  {
   "cell_type": "code",
   "execution_count": 64,
   "metadata": {},
   "outputs": [],
   "source": [
    "class OracleLSTM(nn.Module):\n",
    "    def __init__(self, vocabulary_size,\n",
    "                 embedding_size=128,\n",
    "                 hidden_size=256,\n",
    "                 layers=2):\n",
    "        super(OracleLSTM, self).__init__()\n",
    "        self.embedding_size = embedding_size\n",
    "        self.layers = layers\n",
    "        self.hidden_size = hidden_size\n",
    "        self.embedding = nn.Embedding(\n",
    "            vocabulary_size, embedding_size\n",
    "        )\n",
    "        self.generator = nn.LSTM(\n",
    "            embedding_size, hidden_size,\n",
    "            layers, batch_first=False\n",
    "        )\n",
    "        self.classifier = nn.Linear(\n",
    "            hidden_size, vocabulary_size #предсказываем вероятности классов\n",
    "        )\n",
    "\n",
    "    def forward(self, _input, lengths):\n",
    "        embedding = self.embedding(_input).transpose(0, 1)\n",
    "        #print(\"emb_shape\",embedding.shape) #25, 64, 32\n",
    "        embedding = nn.utils.rnn.pack_padded_sequence(\n",
    "            embedding, lengths\n",
    "        )\n",
    "        #print(\"emb_shape\",embedding.shape) #25, 64, 32\n",
    "        output, _ = self.generator(embedding) #тут h и c LSTM сама сгенерирует\n",
    "        #print(output.shape)\n",
    "        output, _ = nn.utils.rnn.pad_packed_sequence(output)\n",
    "        classes = self.classifier(output)\n",
    "        #print(\"classes_shape\",classes.shape) #25, 64, 60\n",
    "        return classes\n",
    "\n",
    "    def generate(self, vocab, max_len=100):\n",
    "        h = torch.zeros(self.layers, 1, self.hidden_size)\n",
    "        c = torch.zeros(self.layers, 1, self.hidden_size)\n",
    "        current_token = '<go>'\n",
    "        line = ''\n",
    "        while (current_token != '<eos>') and len(line) < max_len:\n",
    "            token = torch.tensor([[vocab.char_to_id[current_token]]]).long()\n",
    "            token_id = token.detach()\n",
    "            embedding = self.embedding(token_id)\n",
    "            #print(\"emb_shape\",embedding.shape) 1 1 32 \n",
    "            output, (h,c) = self.generator(embedding,(h,c))\n",
    "            #print(output.shape,h.shape) 1 1 64 2 1 64 \n",
    "            #print(output[0].shape)\n",
    "            classes = self.classifier(output[0])\n",
    "            classes_probs = nn.Softmax(dim=1)(classes)\n",
    "            sampler = torch.distributions.Categorical(classes_probs[0])\n",
    "            new_token_id = sampler.sample().data.numpy().item()\n",
    "            current_token = vocab.id_to_char[new_token_id]\n",
    "            line = line + current_token\n",
    "        return line\n",
    "    \n",
    "oracleLSTM = OracleLSTM(vocab.size,\n",
    "                embedding_size=32,\n",
    "                hidden_size=64, layers=2)"
   ]
  },
  {
   "cell_type": "code",
   "execution_count": 66,
   "metadata": {},
   "outputs": [
    {
     "data": {
      "text/plain": [
       "',kS<eos>'"
      ]
     },
     "execution_count": 66,
     "metadata": {},
     "output_type": "execute_result"
    }
   ],
   "source": [
    "oracleLSTM.generate(vocab)"
   ]
  },
  {
   "cell_type": "code",
   "execution_count": 108,
   "metadata": {},
   "outputs": [
    {
     "data": {
      "image/png": "[encoded data removed]",
      "text/plain": [
       "<Figure size 432x288 with 1 Axes>"
      ]
     },
     "metadata": {
      "needs_background": "light"
     },
     "output_type": "display_data"
    },
    {
     "name": "stderr",
     "output_type": "stream",
     "text": [
      "100%|██████████| 10/10 [05:25<00:00, 32.59s/it]\n"
     ]
    }
   ],
   "source": [
    "optimizerLSTM = torch.optim.RMSprop(\n",
    "    oracleLSTM.parameters(), lr=0.0001, weight_decay=1e-5\n",
    ")\n",
    "\n",
    "lossesLSTM = []\n",
    "\n",
    "for epoch in tqdm(range(10)):\n",
    "    #print(\"Epoch=\",epoch)\n",
    "    #bar = progressbar.ProgressBar()\n",
    "    for i, (go, eos, mask, lengths) in enumerate(dataloader):\n",
    "        oracleLSTM.zero_grad()\n",
    "        prediction = oracleLSTM(go, lengths).transpose(0, 1).transpose(1, 2)\n",
    "        #print(\"pred_shape\",prediction.shape) #64 60 25 - то есть для каждого из 25 слов стоит 60 вероятностей\n",
    "        #print(\"eos_shape\",eos.shape) #64 25\n",
    "        #print(\"crit_shape\",criterion(prediction, eos).shape) #64 25\n",
    "        #print(\"mask_shape\",mask.shape) #64 25\n",
    "        loss = (criterion(prediction, eos)*mask.float()).sum()\n",
    "        loss = loss / mask.sum()\n",
    "        loss.backward()\n",
    "        [x.grad.clamp_(-1, 1) for x in oracleLSTM.parameters()]\n",
    "        optimizerLSTM.step()\n",
    "        lossesLSTM.append(np.exp(loss.item()))\n",
    "        \n",
    "    clear_output(True)\n",
    "    plt.plot(lossesLSTM, label='Train')\n",
    "    plt.plot(moving_average(lossesLSTM), label='MA@20')\n",
    "    plt.xlabel('iteration')\n",
    "    plt.ylabel('perplexity')\n",
    "    plt.legend()\n",
    "    plt.grid()\n",
    "    plt.show()"
   ]
  },
  {
   "cell_type": "code",
   "execution_count": null,
   "metadata": {},
   "outputs": [],
   "source": [
    "#Видим, что оно хотя бы обучается, но вроде бы, немного медленнее, чем GRU"
   ]
  },
  {
   "cell_type": "code",
   "execution_count": null,
   "metadata": {},
   "outputs": [],
   "source": [
    "#разобьнм на трейн и тест"
   ]
  },
  {
   "cell_type": "code",
   "execution_count": 97,
   "metadata": {},
   "outputs": [],
   "source": [
    "testSize=len(lines)//3\n",
    "train_dataset = Quotes(lines[0:-testSize], vocab)\n",
    "test_dataset = Quotes(lines[-testSize:], vocab)\n",
    "train_dataloader = DataLoader(\n",
    "    train_dataset, shuffle=True,\n",
    "    batch_size=64,\n",
    "    collate_fn=compose_batch)\n",
    "test_dataloader = DataLoader(\n",
    "    test_dataset, shuffle=True,\n",
    "    batch_size=64,\n",
    "    collate_fn=compose_batch)"
   ]
  },
  {
   "cell_type": "code",
   "execution_count": null,
   "metadata": {},
   "outputs": [],
   "source": [
    "#теперь исследуем зависимость лосса на тесте в зависимости от количества эпох"
   ]
  },
  {
   "cell_type": "code",
   "execution_count": 117,
   "metadata": {},
   "outputs": [],
   "source": [
    "def teach_oracle(train_dataloader, ep=10, emb_size=32, hid_size=64,lr=0.0001):\n",
    "    \n",
    "    oracleLSTM = OracleLSTM(vocab.size,\n",
    "                embedding_size=emb_size,\n",
    "                hidden_size=hid_size, layers=2)\n",
    "    \n",
    "    optimizerLSTM = torch.optim.RMSprop(\n",
    "    oracleLSTM.parameters(), lr=lr, weight_decay=1e-5)\n",
    "\n",
    "    lossesLSTM = []\n",
    "\n",
    "    for epoch in tqdm(range(ep)):\n",
    "        #print(\"Epoch=\",epoch)\n",
    "        for i, (go, eos, mask, lengths) in enumerate(train_dataloader):\n",
    "            oracleLSTM.zero_grad()\n",
    "            prediction = oracleLSTM(go, lengths).transpose(0, 1).transpose(1, 2)\n",
    "            loss = (criterion(prediction, eos)*mask.float()).sum()\n",
    "            loss = loss / mask.sum()\n",
    "            loss.backward()\n",
    "            [x.grad.clamp_(-1, 1) for x in oracleLSTM.parameters()]\n",
    "            optimizerLSTM.step()\n",
    "            lossesLSTM.append(np.exp(loss.item()))\n",
    "    return oracleLSTM, lossesLSTM[-1]\n",
    "\n",
    "def get_losses(oracleLSTM,test_dataloader):\n",
    "    lossesLSTM = []\n",
    "    for epoch in range(1):\n",
    "        #print(\"Epoch=\",epoch)\n",
    "        for i, (go, eos, mask, lengths) in enumerate(test_dataloader):\n",
    "            prediction = oracleLSTM(go, lengths).transpose(0, 1).transpose(1, 2)\n",
    "            loss = (criterion(prediction, eos)*mask.float()).sum()\n",
    "            loss = loss / mask.sum()\n",
    "            lossesLSTM.append(np.exp(loss.item()))\n",
    "    return np.mean(lossesLSTM)"
   ]
  },
  {
   "cell_type": "code",
   "execution_count": 118,
   "metadata": {},
   "outputs": [
    {
     "name": "stderr",
     "output_type": "stream",
     "text": [
      "100%|██████████| 10/10 [04:08<00:00, 24.83s/it]\n"
     ]
    },
    {
     "name": "stdout",
     "output_type": "stream",
     "text": [
      "9.497263858409916 14.915295992320011\n"
     ]
    }
   ],
   "source": [
    "model1,last_train_loss=teach_oracle(train_dataloader, ep=10,emb_size=32, hid_size=64,lr=0.0001)\n",
    "mean_testLoss=get_losses(model1,test_dataloader)\n",
    "print(last_train_loss,mean_testLoss)"
   ]
  },
  {
   "cell_type": "code",
   "execution_count": 120,
   "metadata": {},
   "outputs": [
    {
     "name": "stderr",
     "output_type": "stream",
     "text": [
      "100%|██████████| 1/1 [00:23<00:00, 23.98s/it]\n"
     ]
    },
    {
     "name": "stdout",
     "output_type": "stream",
     "text": [
      "1 25.949884880183447 26.505119571177612\n"
     ]
    },
    {
     "name": "stderr",
     "output_type": "stream",
     "text": [
      "100%|██████████| 2/2 [00:51<00:00, 25.54s/it]\n"
     ]
    },
    {
     "name": "stdout",
     "output_type": "stream",
     "text": [
      "2 20.005270422511828 22.120453090854213\n"
     ]
    },
    {
     "name": "stderr",
     "output_type": "stream",
     "text": [
      "100%|██████████| 3/3 [01:20<00:00, 26.88s/it]\n"
     ]
    },
    {
     "name": "stdout",
     "output_type": "stream",
     "text": [
      "3 17.753939200007373 20.215399001808844\n"
     ]
    },
    {
     "name": "stderr",
     "output_type": "stream",
     "text": [
      "100%|██████████| 4/4 [01:46<00:00, 26.63s/it]\n"
     ]
    },
    {
     "name": "stdout",
     "output_type": "stream",
     "text": [
      "4 17.81272079108386 22.04279237868063\n"
     ]
    },
    {
     "name": "stderr",
     "output_type": "stream",
     "text": [
      "100%|██████████| 5/5 [02:15<00:00, 27.14s/it]\n"
     ]
    },
    {
     "name": "stdout",
     "output_type": "stream",
     "text": [
      "5 15.13686688330494 20.957849251007644\n"
     ]
    },
    {
     "name": "stderr",
     "output_type": "stream",
     "text": [
      "100%|██████████| 6/6 [02:27<00:00, 24.62s/it]\n"
     ]
    },
    {
     "name": "stdout",
     "output_type": "stream",
     "text": [
      "6 13.65986726751284 17.690840204324935\n"
     ]
    },
    {
     "name": "stderr",
     "output_type": "stream",
     "text": [
      "100%|██████████| 7/7 [02:34<00:00, 22.05s/it]\n"
     ]
    },
    {
     "name": "stdout",
     "output_type": "stream",
     "text": [
      "7 12.194201946135214 16.637281259880584\n"
     ]
    },
    {
     "name": "stderr",
     "output_type": "stream",
     "text": [
      "100%|██████████| 8/8 [03:36<00:00, 27.02s/it]\n"
     ]
    },
    {
     "name": "stdout",
     "output_type": "stream",
     "text": [
      "8 10.120427270848053 16.130086162296628\n"
     ]
    },
    {
     "name": "stderr",
     "output_type": "stream",
     "text": [
      "100%|██████████| 9/9 [03:27<00:00, 23.11s/it]\n"
     ]
    },
    {
     "name": "stdout",
     "output_type": "stream",
     "text": [
      "9 10.221264259746372 15.627377615273698\n"
     ]
    },
    {
     "name": "stderr",
     "output_type": "stream",
     "text": [
      "100%|██████████| 10/10 [03:35<00:00, 21.52s/it]\n"
     ]
    },
    {
     "name": "stdout",
     "output_type": "stream",
     "text": [
      "10 9.576597911602523 15.433401265545161\n"
     ]
    },
    {
     "name": "stderr",
     "output_type": "stream",
     "text": [
      "100%|██████████| 11/11 [04:27<00:00, 24.29s/it]\n"
     ]
    },
    {
     "name": "stdout",
     "output_type": "stream",
     "text": [
      "11 8.922294057529829 15.00559774944705\n"
     ]
    },
    {
     "name": "stderr",
     "output_type": "stream",
     "text": [
      "100%|██████████| 12/12 [04:55<00:00, 24.62s/it]\n"
     ]
    },
    {
     "name": "stdout",
     "output_type": "stream",
     "text": [
      "12 9.167587467054993 15.854113231137143\n"
     ]
    },
    {
     "name": "stderr",
     "output_type": "stream",
     "text": [
      "100%|██████████| 13/13 [05:16<00:00, 24.35s/it]\n"
     ]
    },
    {
     "name": "stdout",
     "output_type": "stream",
     "text": [
      "13 9.805530729211709 15.253630926933106\n"
     ]
    },
    {
     "name": "stderr",
     "output_type": "stream",
     "text": [
      "100%|██████████| 14/14 [05:30<00:00, 23.63s/it]\n"
     ]
    },
    {
     "name": "stdout",
     "output_type": "stream",
     "text": [
      "14 9.150275420320515 14.838433948643075\n"
     ]
    }
   ],
   "source": [
    "mean_test_loss_per_ep=[]\n",
    "last_train_loss_per_ep=[]\n",
    "for ep in range(1,15):\n",
    "    model,last_train_loss=teach_oracle(train_dataloader, ep=ep,emb_size=32, hid_size=64,lr=0.0001)\n",
    "    tek_mean_testLoss=get_losses(model,test_dataloader)\n",
    "    mean_test_loss_per_ep.append(tek_mean_testLoss)\n",
    "    last_train_loss_per_ep.append(last_train_loss)\n",
    "    print(ep,last_train_loss,tek_mean_testLoss)"
   ]
  },
  {
   "cell_type": "code",
   "execution_count": 123,
   "metadata": {},
   "outputs": [
    {
     "data": {
      "image/png": "[encoded data removed]",
      "text/plain": [
       "<Figure size 432x288 with 1 Axes>"
      ]
     },
     "metadata": {
      "needs_background": "light"
     },
     "output_type": "display_data"
    }
   ],
   "source": [
    "plt.plot(mean_test_loss_per_ep,label='mean_test_loss')\n",
    "plt.plot(last_train_loss_per_ep,label='last_train_loss')\n",
    "plt.legend()\n",
    "plt.show()"
   ]
  },
  {
   "cell_type": "code",
   "execution_count": null,
   "metadata": {},
   "outputs": [],
   "source": [
    "#видим, что ep=10 дает неплохой и устойчивый скор, но ep=14 лучше всех"
   ]
  },
  {
   "cell_type": "code",
   "execution_count": 131,
   "metadata": {},
   "outputs": [
    {
     "name": "stderr",
     "output_type": "stream",
     "text": [
      "100%|██████████| 10/10 [03:51<00:00, 23.14s/it]\n"
     ]
    },
    {
     "name": "stdout",
     "output_type": "stream",
     "text": [
      "32 64 0.0001 9.407877273053268 15.10319444826651\n"
     ]
    },
    {
     "name": "stderr",
     "output_type": "stream",
     "text": [
      "100%|██████████| 10/10 [05:34<00:00, 33.49s/it]\n"
     ]
    },
    {
     "name": "stdout",
     "output_type": "stream",
     "text": [
      "32 75 0.0001 9.38895184882109 15.190465958415214\n"
     ]
    },
    {
     "name": "stderr",
     "output_type": "stream",
     "text": [
      "100%|██████████| 10/10 [05:47<00:00, 34.77s/it]\n"
     ]
    },
    {
     "name": "stdout",
     "output_type": "stream",
     "text": [
      "32 90 0.0001 8.610558210025205 15.135634147433018\n"
     ]
    },
    {
     "name": "stderr",
     "output_type": "stream",
     "text": [
      "100%|██████████| 10/10 [07:49<00:00, 46.92s/it]\n"
     ]
    },
    {
     "name": "stdout",
     "output_type": "stream",
     "text": [
      "32 128 0.0001 7.894980656795964 14.791236896887627\n"
     ]
    },
    {
     "name": "stderr",
     "output_type": "stream",
     "text": [
      "100%|██████████| 10/10 [03:57<00:00, 23.75s/it]\n"
     ]
    },
    {
     "name": "stdout",
     "output_type": "stream",
     "text": [
      "45 64 0.0001 9.539755838586576 14.886087924643183\n"
     ]
    },
    {
     "name": "stderr",
     "output_type": "stream",
     "text": [
      "100%|██████████| 10/10 [04:42<00:00, 28.24s/it]\n"
     ]
    },
    {
     "name": "stdout",
     "output_type": "stream",
     "text": [
      "45 75 0.0001 9.287391452321147 15.667200247998226\n"
     ]
    },
    {
     "name": "stderr",
     "output_type": "stream",
     "text": [
      "100%|██████████| 10/10 [05:41<00:00, 34.15s/it]\n"
     ]
    },
    {
     "name": "stdout",
     "output_type": "stream",
     "text": [
      "45 90 0.0001 7.851815370293264 15.20282654134807\n"
     ]
    },
    {
     "name": "stderr",
     "output_type": "stream",
     "text": [
      "100%|██████████| 10/10 [08:06<00:00, 48.64s/it]\n"
     ]
    },
    {
     "name": "stdout",
     "output_type": "stream",
     "text": [
      "45 128 0.0001 6.108605909074533 15.284662537687456\n"
     ]
    },
    {
     "name": "stderr",
     "output_type": "stream",
     "text": [
      "100%|██████████| 10/10 [04:36<00:00, 27.67s/it]\n"
     ]
    },
    {
     "name": "stdout",
     "output_type": "stream",
     "text": [
      "64 64 0.0001 8.811889798247071 15.132924812601823\n"
     ]
    },
    {
     "name": "stderr",
     "output_type": "stream",
     "text": [
      "100%|██████████| 10/10 [05:19<00:00, 31.98s/it]\n"
     ]
    },
    {
     "name": "stdout",
     "output_type": "stream",
     "text": [
      "64 75 0.0001 8.115068011262926 14.972685166111866\n"
     ]
    },
    {
     "name": "stderr",
     "output_type": "stream",
     "text": [
      "100%|██████████| 10/10 [05:54<00:00, 35.49s/it]\n"
     ]
    },
    {
     "name": "stdout",
     "output_type": "stream",
     "text": [
      "64 90 0.0001 7.487508104443198 14.246224611394537\n"
     ]
    },
    {
     "name": "stderr",
     "output_type": "stream",
     "text": [
      "100%|██████████| 10/10 [08:21<00:00, 50.15s/it]\n"
     ]
    },
    {
     "name": "stdout",
     "output_type": "stream",
     "text": [
      "64 128 0.0001 6.425643145424913 15.077867678246669\n"
     ]
    },
    {
     "name": "stderr",
     "output_type": "stream",
     "text": [
      "100%|██████████| 10/10 [03:54<00:00, 23.45s/it]\n"
     ]
    },
    {
     "name": "stdout",
     "output_type": "stream",
     "text": [
      "80 64 0.0001 9.415416815341418 14.726105411277821\n"
     ]
    },
    {
     "name": "stderr",
     "output_type": "stream",
     "text": [
      "100%|██████████| 10/10 [04:50<00:00, 29.02s/it]\n"
     ]
    },
    {
     "name": "stdout",
     "output_type": "stream",
     "text": [
      "80 75 0.0001 8.551956829695726 14.174747621337422\n"
     ]
    },
    {
     "name": "stderr",
     "output_type": "stream",
     "text": [
      "100%|██████████| 10/10 [05:55<00:00, 35.58s/it]\n"
     ]
    },
    {
     "name": "stdout",
     "output_type": "stream",
     "text": [
      "80 90 0.0001 7.614701565933428 14.547472050071587\n"
     ]
    },
    {
     "name": "stderr",
     "output_type": "stream",
     "text": [
      "100%|██████████| 10/10 [08:28<00:00, 50.85s/it]\n"
     ]
    },
    {
     "name": "stdout",
     "output_type": "stream",
     "text": [
      "80 128 0.0001 6.346057491664259 14.691240532454204\n"
     ]
    }
   ],
   "source": [
    "for emb_size in [32,45,64,80]:\n",
    "    for  hid_size in [64,75,90,128]:\n",
    "        for lr in [0.0001]:\n",
    "            model,last_train_loss=teach_oracle(train_dataloader, ep=10,emb_size=emb_size, hid_size=hid_size,lr=lr)\n",
    "            tek_mean_testLoss=get_losses(model,test_dataloader)\n",
    "            mean_test_loss_per_ep.append(tek_mean_testLoss)\n",
    "            last_train_loss_per_ep.append(last_train_loss)\n",
    "            print(emb_size,hid_size,lr,last_train_loss,tek_mean_testLoss)"
   ]
  },
  {
   "cell_type": "code",
   "execution_count": null,
   "metadata": {},
   "outputs": [],
   "source": [
    "Видим, что при lr=0.0001, emb_size=64, hid_size=64 - получаем перплексию меньше, чем при использовании парметров по умолчанию"
   ]
  },
  {
   "cell_type": "markdown",
   "metadata": {},
   "source": [
    "#### Feedback (опционально)"
   ]
  },
  {
   "cell_type": "markdown",
   "metadata": {},
   "source": [
    "Здесь вы можете оставить список опечаток из лекции или семинара:"
   ]
  },
  {
   "cell_type": "raw",
   "metadata": {},
   "source": []
  },
  {
   "cell_type": "markdown",
   "metadata": {},
   "source": [
    "Здесь вы можете оставить комментарии по лекции или семинару:"
   ]
  },
  {
   "cell_type": "raw",
   "metadata": {},
   "source": []
  }
 ],
 "metadata": {
  "kernelspec": {
   "display_name": "Python 3",
   "language": "python",
   "name": "python3"
  },
  "language_info": {
   "codemirror_mode": {
    "name": "ipython",
    "version": 3
   },
   "file_extension": ".py",
   "mimetype": "text/x-python",
   "name": "python",
   "nbconvert_exporter": "python",
   "pygments_lexer": "ipython3",
   "version": "3.7.3"
  },
  "latex_envs": {
   "bibliofile": "biblio.bib",
   "cite_by": "apalike",
   "current_citInitial": 1,
   "eqLabelWithNumbers": true,
   "eqNumInitial": 0
  }
 },
 "nbformat": 4,
 "nbformat_minor": 1
}
