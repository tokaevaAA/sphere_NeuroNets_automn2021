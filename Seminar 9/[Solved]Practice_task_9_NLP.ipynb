{
  "nbformat": 4,
  "nbformat_minor": 0,
  "metadata": {
    "kernelspec": {
      "display_name": "Python 3",
      "language": "python",
      "name": "python3"
    },
    "language_info": {
      "codemirror_mode": {
        "name": "ipython",
        "version": 3
      },
      "file_extension": ".py",
      "mimetype": "text/x-python",
      "name": "python",
      "nbconvert_exporter": "python",
      "pygments_lexer": "ipython3",
      "version": "3.7.0"
    },
    "latex_envs": {
      "bibliofile": "biblio.bib",
      "cite_by": "apalike",
      "current_citInitial": 1,
      "eqLabelWithNumbers": true,
      "eqNumInitial": 0
    },
    "colab": {
      "name": "Practice task 10, NLP.ipynb",
      "provenance": [],
      "collapsed_sections": []
    },
    "accelerator": "GPU",
    "widgets": {
      "application/vnd.jupyter.widget-state+json": {
        "beb97a7c865e470997b1137024a510e9": {
          "model_module": "@jupyter-widgets/controls",
          "model_name": "HBoxModel",
          "state": {
            "_view_name": "HBoxView",
            "_dom_classes": [],
            "_model_name": "HBoxModel",
            "_view_module": "@jupyter-widgets/controls",
            "_model_module_version": "1.5.0",
            "_view_count": null,
            "_view_module_version": "1.5.0",
            "box_style": "",
            "layout": "IPY_MODEL_4c06422c8f984942b9d6ddaca766c6e9",
            "_model_module": "@jupyter-widgets/controls",
            "children": [
              "IPY_MODEL_3b2e12cc48724554ac77491979968dc8",
              "IPY_MODEL_f2b323ef13cb409c8ca2a408cbc249a9"
            ]
          }
        },
        "4c06422c8f984942b9d6ddaca766c6e9": {
          "model_module": "@jupyter-widgets/base",
          "model_name": "LayoutModel",
          "state": {
            "_view_name": "LayoutView",
            "grid_template_rows": null,
            "right": null,
            "justify_content": null,
            "_view_module": "@jupyter-widgets/base",
            "overflow": null,
            "_model_module_version": "1.2.0",
            "_view_count": null,
            "flex_flow": null,
            "width": null,
            "min_width": null,
            "border": null,
            "align_items": null,
            "bottom": null,
            "_model_module": "@jupyter-widgets/base",
            "top": null,
            "grid_column": null,
            "overflow_y": null,
            "overflow_x": null,
            "grid_auto_flow": null,
            "grid_area": null,
            "grid_template_columns": null,
            "flex": null,
            "_model_name": "LayoutModel",
            "justify_items": null,
            "grid_row": null,
            "max_height": null,
            "align_content": null,
            "visibility": null,
            "align_self": null,
            "height": null,
            "min_height": null,
            "padding": null,
            "grid_auto_rows": null,
            "grid_gap": null,
            "max_width": null,
            "order": null,
            "_view_module_version": "1.2.0",
            "grid_template_areas": null,
            "object_position": null,
            "object_fit": null,
            "grid_auto_columns": null,
            "margin": null,
            "display": null,
            "left": null
          }
        },
        "3b2e12cc48724554ac77491979968dc8": {
          "model_module": "@jupyter-widgets/controls",
          "model_name": "FloatProgressModel",
          "state": {
            "_view_name": "ProgressView",
            "style": "IPY_MODEL_5533c3f38bb74242bc0b744ac93d0d19",
            "_dom_classes": [],
            "description": "100%",
            "_model_name": "FloatProgressModel",
            "bar_style": "success",
            "max": 32063,
            "_view_module": "@jupyter-widgets/controls",
            "_model_module_version": "1.5.0",
            "value": 32063,
            "_view_count": null,
            "_view_module_version": "1.5.0",
            "orientation": "horizontal",
            "min": 0,
            "description_tooltip": null,
            "_model_module": "@jupyter-widgets/controls",
            "layout": "IPY_MODEL_69fd8805e7de4b5fb461d4af22dfccfa"
          }
        },
        "f2b323ef13cb409c8ca2a408cbc249a9": {
          "model_module": "@jupyter-widgets/controls",
          "model_name": "HTMLModel",
          "state": {
            "_view_name": "HTMLView",
            "style": "IPY_MODEL_01542bfb382c48dfa0a25c3b19510fca",
            "_dom_classes": [],
            "description": "",
            "_model_name": "HTMLModel",
            "placeholder": "​",
            "_view_module": "@jupyter-widgets/controls",
            "_model_module_version": "1.5.0",
            "value": " 32063/32063 [00:19&lt;00:00, 1642.96it/s]",
            "_view_count": null,
            "_view_module_version": "1.5.0",
            "description_tooltip": null,
            "_model_module": "@jupyter-widgets/controls",
            "layout": "IPY_MODEL_b6b2c3e2115045c7829f258a935e8797"
          }
        },
        "5533c3f38bb74242bc0b744ac93d0d19": {
          "model_module": "@jupyter-widgets/controls",
          "model_name": "ProgressStyleModel",
          "state": {
            "_view_name": "StyleView",
            "_model_name": "ProgressStyleModel",
            "description_width": "initial",
            "_view_module": "@jupyter-widgets/base",
            "_model_module_version": "1.5.0",
            "_view_count": null,
            "_view_module_version": "1.2.0",
            "bar_color": null,
            "_model_module": "@jupyter-widgets/controls"
          }
        },
        "69fd8805e7de4b5fb461d4af22dfccfa": {
          "model_module": "@jupyter-widgets/base",
          "model_name": "LayoutModel",
          "state": {
            "_view_name": "LayoutView",
            "grid_template_rows": null,
            "right": null,
            "justify_content": null,
            "_view_module": "@jupyter-widgets/base",
            "overflow": null,
            "_model_module_version": "1.2.0",
            "_view_count": null,
            "flex_flow": null,
            "width": null,
            "min_width": null,
            "border": null,
            "align_items": null,
            "bottom": null,
            "_model_module": "@jupyter-widgets/base",
            "top": null,
            "grid_column": null,
            "overflow_y": null,
            "overflow_x": null,
            "grid_auto_flow": null,
            "grid_area": null,
            "grid_template_columns": null,
            "flex": null,
            "_model_name": "LayoutModel",
            "justify_items": null,
            "grid_row": null,
            "max_height": null,
            "align_content": null,
            "visibility": null,
            "align_self": null,
            "height": null,
            "min_height": null,
            "padding": null,
            "grid_auto_rows": null,
            "grid_gap": null,
            "max_width": null,
            "order": null,
            "_view_module_version": "1.2.0",
            "grid_template_areas": null,
            "object_position": null,
            "object_fit": null,
            "grid_auto_columns": null,
            "margin": null,
            "display": null,
            "left": null
          }
        },
        "01542bfb382c48dfa0a25c3b19510fca": {
          "model_module": "@jupyter-widgets/controls",
          "model_name": "DescriptionStyleModel",
          "state": {
            "_view_name": "StyleView",
            "_model_name": "DescriptionStyleModel",
            "description_width": "",
            "_view_module": "@jupyter-widgets/base",
            "_model_module_version": "1.5.0",
            "_view_count": null,
            "_view_module_version": "1.2.0",
            "_model_module": "@jupyter-widgets/controls"
          }
        },
        "b6b2c3e2115045c7829f258a935e8797": {
          "model_module": "@jupyter-widgets/base",
          "model_name": "LayoutModel",
          "state": {
            "_view_name": "LayoutView",
            "grid_template_rows": null,
            "right": null,
            "justify_content": null,
            "_view_module": "@jupyter-widgets/base",
            "overflow": null,
            "_model_module_version": "1.2.0",
            "_view_count": null,
            "flex_flow": null,
            "width": null,
            "min_width": null,
            "border": null,
            "align_items": null,
            "bottom": null,
            "_model_module": "@jupyter-widgets/base",
            "top": null,
            "grid_column": null,
            "overflow_y": null,
            "overflow_x": null,
            "grid_auto_flow": null,
            "grid_area": null,
            "grid_template_columns": null,
            "flex": null,
            "_model_name": "LayoutModel",
            "justify_items": null,
            "grid_row": null,
            "max_height": null,
            "align_content": null,
            "visibility": null,
            "align_self": null,
            "height": null,
            "min_height": null,
            "padding": null,
            "grid_auto_rows": null,
            "grid_gap": null,
            "max_width": null,
            "order": null,
            "_view_module_version": "1.2.0",
            "grid_template_areas": null,
            "object_position": null,
            "object_fit": null,
            "grid_auto_columns": null,
            "margin": null,
            "display": null,
            "left": null
          }
        },
        "bafdca8e81124bfcbba545d813eae306": {
          "model_module": "@jupyter-widgets/controls",
          "model_name": "HBoxModel",
          "state": {
            "_view_name": "HBoxView",
            "_dom_classes": [],
            "_model_name": "HBoxModel",
            "_view_module": "@jupyter-widgets/controls",
            "_model_module_version": "1.5.0",
            "_view_count": null,
            "_view_module_version": "1.5.0",
            "box_style": "",
            "layout": "IPY_MODEL_c033eebf2c0d4623b44ce524f96b5ce1",
            "_model_module": "@jupyter-widgets/controls",
            "children": [
              "IPY_MODEL_eaac7fbdd9bc4e5ab5c25a26b3ebaa23",
              "IPY_MODEL_258a05f9021b4131877e249de555c7ff"
            ]
          }
        },
        "c033eebf2c0d4623b44ce524f96b5ce1": {
          "model_module": "@jupyter-widgets/base",
          "model_name": "LayoutModel",
          "state": {
            "_view_name": "LayoutView",
            "grid_template_rows": null,
            "right": null,
            "justify_content": null,
            "_view_module": "@jupyter-widgets/base",
            "overflow": null,
            "_model_module_version": "1.2.0",
            "_view_count": null,
            "flex_flow": null,
            "width": null,
            "min_width": null,
            "border": null,
            "align_items": null,
            "bottom": null,
            "_model_module": "@jupyter-widgets/base",
            "top": null,
            "grid_column": null,
            "overflow_y": null,
            "overflow_x": null,
            "grid_auto_flow": null,
            "grid_area": null,
            "grid_template_columns": null,
            "flex": null,
            "_model_name": "LayoutModel",
            "justify_items": null,
            "grid_row": null,
            "max_height": null,
            "align_content": null,
            "visibility": null,
            "align_self": null,
            "height": null,
            "min_height": null,
            "padding": null,
            "grid_auto_rows": null,
            "grid_gap": null,
            "max_width": null,
            "order": null,
            "_view_module_version": "1.2.0",
            "grid_template_areas": null,
            "object_position": null,
            "object_fit": null,
            "grid_auto_columns": null,
            "margin": null,
            "display": null,
            "left": null
          }
        },
        "eaac7fbdd9bc4e5ab5c25a26b3ebaa23": {
          "model_module": "@jupyter-widgets/controls",
          "model_name": "FloatProgressModel",
          "state": {
            "_view_name": "ProgressView",
            "style": "IPY_MODEL_7f70c749041743f1bb33329fb77c9dcc",
            "_dom_classes": [],
            "description": "100%",
            "_model_name": "FloatProgressModel",
            "bar_style": "success",
            "max": 614,
            "_view_module": "@jupyter-widgets/controls",
            "_model_module_version": "1.5.0",
            "value": 614,
            "_view_count": null,
            "_view_module_version": "1.5.0",
            "orientation": "horizontal",
            "min": 0,
            "description_tooltip": null,
            "_model_module": "@jupyter-widgets/controls",
            "layout": "IPY_MODEL_e738657ee58747bf9735f78de6e9143c"
          }
        },
        "258a05f9021b4131877e249de555c7ff": {
          "model_module": "@jupyter-widgets/controls",
          "model_name": "HTMLModel",
          "state": {
            "_view_name": "HTMLView",
            "style": "IPY_MODEL_64331a3cce344371947d7219d55dd083",
            "_dom_classes": [],
            "description": "",
            "_model_name": "HTMLModel",
            "placeholder": "​",
            "_view_module": "@jupyter-widgets/controls",
            "_model_module_version": "1.5.0",
            "value": " 614/614 [03:42&lt;00:00,  2.76it/s]",
            "_view_count": null,
            "_view_module_version": "1.5.0",
            "description_tooltip": null,
            "_model_module": "@jupyter-widgets/controls",
            "layout": "IPY_MODEL_8757baea49174059b34b3683fc34eec7"
          }
        },
        "7f70c749041743f1bb33329fb77c9dcc": {
          "model_module": "@jupyter-widgets/controls",
          "model_name": "ProgressStyleModel",
          "state": {
            "_view_name": "StyleView",
            "_model_name": "ProgressStyleModel",
            "description_width": "initial",
            "_view_module": "@jupyter-widgets/base",
            "_model_module_version": "1.5.0",
            "_view_count": null,
            "_view_module_version": "1.2.0",
            "bar_color": null,
            "_model_module": "@jupyter-widgets/controls"
          }
        },
        "e738657ee58747bf9735f78de6e9143c": {
          "model_module": "@jupyter-widgets/base",
          "model_name": "LayoutModel",
          "state": {
            "_view_name": "LayoutView",
            "grid_template_rows": null,
            "right": null,
            "justify_content": null,
            "_view_module": "@jupyter-widgets/base",
            "overflow": null,
            "_model_module_version": "1.2.0",
            "_view_count": null,
            "flex_flow": null,
            "width": null,
            "min_width": null,
            "border": null,
            "align_items": null,
            "bottom": null,
            "_model_module": "@jupyter-widgets/base",
            "top": null,
            "grid_column": null,
            "overflow_y": null,
            "overflow_x": null,
            "grid_auto_flow": null,
            "grid_area": null,
            "grid_template_columns": null,
            "flex": null,
            "_model_name": "LayoutModel",
            "justify_items": null,
            "grid_row": null,
            "max_height": null,
            "align_content": null,
            "visibility": null,
            "align_self": null,
            "height": null,
            "min_height": null,
            "padding": null,
            "grid_auto_rows": null,
            "grid_gap": null,
            "max_width": null,
            "order": null,
            "_view_module_version": "1.2.0",
            "grid_template_areas": null,
            "object_position": null,
            "object_fit": null,
            "grid_auto_columns": null,
            "margin": null,
            "display": null,
            "left": null
          }
        },
        "64331a3cce344371947d7219d55dd083": {
          "model_module": "@jupyter-widgets/controls",
          "model_name": "DescriptionStyleModel",
          "state": {
            "_view_name": "StyleView",
            "_model_name": "DescriptionStyleModel",
            "description_width": "",
            "_view_module": "@jupyter-widgets/base",
            "_model_module_version": "1.5.0",
            "_view_count": null,
            "_view_module_version": "1.2.0",
            "_model_module": "@jupyter-widgets/controls"
          }
        },
        "8757baea49174059b34b3683fc34eec7": {
          "model_module": "@jupyter-widgets/base",
          "model_name": "LayoutModel",
          "state": {
            "_view_name": "LayoutView",
            "grid_template_rows": null,
            "right": null,
            "justify_content": null,
            "_view_module": "@jupyter-widgets/base",
            "overflow": null,
            "_model_module_version": "1.2.0",
            "_view_count": null,
            "flex_flow": null,
            "width": null,
            "min_width": null,
            "border": null,
            "align_items": null,
            "bottom": null,
            "_model_module": "@jupyter-widgets/base",
            "top": null,
            "grid_column": null,
            "overflow_y": null,
            "overflow_x": null,
            "grid_auto_flow": null,
            "grid_area": null,
            "grid_template_columns": null,
            "flex": null,
            "_model_name": "LayoutModel",
            "justify_items": null,
            "grid_row": null,
            "max_height": null,
            "align_content": null,
            "visibility": null,
            "align_self": null,
            "height": null,
            "min_height": null,
            "padding": null,
            "grid_auto_rows": null,
            "grid_gap": null,
            "max_width": null,
            "order": null,
            "_view_module_version": "1.2.0",
            "grid_template_areas": null,
            "object_position": null,
            "object_fit": null,
            "grid_auto_columns": null,
            "margin": null,
            "display": null,
            "left": null
          }
        }
      }
    }
  },
  "cells": [
    {
      "cell_type": "markdown",
      "metadata": {
        "id": "BKG-OLSphfcp"
      },
      "source": [
        "## Семинар 10: \"Генерация текстов\""
      ]
    },
    {
      "cell_type": "markdown",
      "metadata": {
        "id": "kbIS5uM4hfcx"
      },
      "source": [
        "ФИО: "
      ]
    },
    {
      "cell_type": "code",
      "metadata": {
        "id": "IPp9icMhhfcy"
      },
      "source": [
        "import numpy as np\n",
        "import re\n",
        "from torch import nn\n",
        "from torch.autograd import Variable\n",
        "import matplotlib.pyplot as plt\n",
        "import torch\n",
        "from torch.utils.data import Dataset, DataLoader\n",
        "import sys\n",
        "from IPython.display import clear_output\n",
        "from tqdm.autonotebook import tqdm\n",
        "import progressbar\n",
        "%matplotlib inline"
      ],
      "execution_count": 1,
      "outputs": []
    },
    {
      "cell_type": "code",
      "metadata": {
        "colab": {
          "base_uri": "https://localhost:8080/"
        },
        "id": "ZgsLeBklh7Oe",
        "outputId": "7ad56065-97b0-4102-b07d-0829d1c51a1a"
      },
      "source": [
        "!wget https://raw.githubusercontent.com/alvations/Quotables/master/author-quote.txt"
      ],
      "execution_count": 10,
      "outputs": [
        {
          "output_type": "stream",
          "text": [
            "--2021-04-09 16:50:15--  https://raw.githubusercontent.com/alvations/Quotables/master/author-quote.txt\n",
            "Resolving raw.githubusercontent.com (raw.githubusercontent.com)... 185.199.108.133, 185.199.109.133, 185.199.110.133, ...\n",
            "Connecting to raw.githubusercontent.com (raw.githubusercontent.com)|185.199.108.133|:443... connected.\n",
            "HTTP request sent, awaiting response... 200 OK\n",
            "Length: 5615127 (5.4M) [text/plain]\n",
            "Saving to: ‘author-quote.txt’\n",
            "\n",
            "author-quote.txt    100%[===================>]   5.35M  25.2MB/s    in 0.2s    \n",
            "\n",
            "2021-04-09 16:50:17 (25.2 MB/s) - ‘author-quote.txt’ saved [5615127/5615127]\n",
            "\n"
          ],
          "name": "stdout"
        }
      ]
    },
    {
      "cell_type": "markdown",
      "metadata": {
        "id": "FKkRFHQ1hfc0"
      },
      "source": [
        "Этот семинар посвящен чат-ботам. Вам предстоит реализовать модель, генерирующую определенные тексты. В качестве текстов можно взять сборник цитат умных людей, предсказаний и т.д. На семинаре мы используем данные https://github.com/alvations/Quotables/blob/master/author-quote.txt\n",
        "\n",
        "При реализации задания вы можете пользоваться кодом из этого примера: <a href=https://github.com/spro/practical-pytorch/blob/master/char-rnn-generation/char-rnn-generation.ipynb>Generating Shakespeare with a Character-Level RNN</a>"
      ]
    },
    {
      "cell_type": "markdown",
      "metadata": {
        "id": "0tRWPMjlhfc0"
      },
      "source": [
        "### Часть 1: подготовка данных"
      ]
    },
    {
      "cell_type": "markdown",
      "metadata": {
        "id": "ByTcj7Ubhfc1"
      },
      "source": [
        "Реализуйте датасет для дальнейшего обучения (будем использовать batch size=1)"
      ]
    },
    {
      "cell_type": "code",
      "metadata": {
        "id": "fbxCizvRhfc1"
      },
      "source": [
        "lines = [\n",
        "    x.split('\\t')[1].strip() ##!!!!!\n",
        "    for x in open('author-quote.txt').readlines()\n",
        "]\n",
        "lines = [l.lower().replace(\".\", \"\").replace(\",\", \"\").replace(\"?\", \"\").replace(\"!\", \"\").replace(\"'\", \" \").split() for l in lines if l != \"\"]"
      ],
      "execution_count": 33,
      "outputs": []
    },
    {
      "cell_type": "code",
      "metadata": {
        "colab": {
          "base_uri": "https://localhost:8080/"
        },
        "id": "SAidXvkDiC8A",
        "outputId": "7a842c47-28ef-4b8a-81d4-f54244d514dd"
      },
      "source": [
        "lines[3]"
      ],
      "execution_count": 34,
      "outputs": [
        {
          "output_type": "execute_result",
          "data": {
            "text/plain": [
              "['organizing',\n",
              " 'is',\n",
              " 'what',\n",
              " 'you',\n",
              " 'do',\n",
              " 'before',\n",
              " 'you',\n",
              " 'do',\n",
              " 'something',\n",
              " 'so',\n",
              " 'that',\n",
              " 'when',\n",
              " 'you',\n",
              " 'do',\n",
              " 'it',\n",
              " 'it',\n",
              " 'is',\n",
              " 'not',\n",
              " 'all',\n",
              " 'mixed',\n",
              " 'up']"
            ]
          },
          "metadata": {
            "tags": []
          },
          "execution_count": 34
        }
      ]
    },
    {
      "cell_type": "code",
      "metadata": {
        "colab": {
          "base_uri": "https://localhost:8080/"
        },
        "id": "6jtBkkjujOR0",
        "outputId": "bb565080-5ffc-4c84-d1ec-2dc97842a5d3"
      },
      "source": [
        "[(len(l), l) for l in sorted(lines, key=len)]"
      ],
      "execution_count": 35,
      "outputs": [
        {
          "output_type": "execute_result",
          "data": {
            "text/plain": [
              "[(2, ['holy', 'cow']),\n",
              " (3, ['adventure', 'is', 'worthwhile']),\n",
              " (3, ['example', 'is', 'leadership']),\n",
              " (3, ['keep', 'it', 'simple']),\n",
              " (3, ['self-plagiarism', 'is', 'style']),\n",
              " (3, ['i', 'feel', 'old']),\n",
              " (3, ['i', 'expected', 'results']),\n",
              " (3, ['character', 'is', 'power']),\n",
              " (3, ['humor', 'is', 'healing']),\n",
              " (3, ['work', 'begets', 'work']),\n",
              " (3, ['make', 'haste', 'slowly']),\n",
              " (3, ['casseroles', 'are', 'one-pot-wonders']),\n",
              " (3, ['i', 'love', 'glee']),\n",
              " (3, ['o', 'mores', ')']),\n",
              " (3, ['elegance', 'is', 'refusal']),\n",
              " (3, ['self-realization', 'is', 'great']),\n",
              " (3, ['i', 'm', 'bisexual']),\n",
              " (3, ['politics', 'is', 'cyclical']),\n",
              " (3, ['i', 'am', 'reactive']),\n",
              " (3, ['humility', 'is', 'truth']),\n",
              " (3, ['i', 'became', 'stereotyped']),\n",
              " (3, ['always', 'educate', 'yourself']),\n",
              " (3, ['americans', 'never', 'quit']),\n",
              " (3, ['be', 'obscure', 'clearly']),\n",
              " (3, ['excellence', 'always', 'sells']),\n",
              " (3, ['racing', 'amuses', 'me']),\n",
              " (3, ['living', 'is', 'abnormal']),\n",
              " (3, ['forgotten', 'is', 'forgiven']),\n",
              " (3, ['knowledge', 'is', 'power']),\n",
              " (3, ['writers', 'speak', 'stench']),\n",
              " (3, ['i', 'appreciate', 'individualism']),\n",
              " (3, ['consequences', 'are', 'unpitying']),\n",
              " (3, ['character', 'is', 'destiny']),\n",
              " (3, ['hatred', 'is', 'self-punishment']),\n",
              " (3, ['design', 'is', 'people']),\n",
              " (3, ['rock', 'on', 'out']),\n",
              " (3, ['attribution', 'is', 'power']),\n",
              " (3, ['winning', 'is', 'everything']),\n",
              " (3, ['testing', 'is', 'overrated']),\n",
              " (3, ['i', 'like', 'horses']),\n",
              " (3, ['comparisons', 'are', 'odious']),\n",
              " (3, ['reading', 'is', 'important']),\n",
              " (3, ['i', 'love', 'improvising']),\n",
              " (3, ['democracy', 'fascinates', 'me']),\n",
              " (3, ['socialism', 'means', 'slavery']),\n",
              " (3, ['everybody', 'needs', 'somebody']),\n",
              " (3, ['i', 'like', 'adventure']),\n",
              " (3, ['success', 'breeds', 'success']),\n",
              " (3, ['sunlight', 'is', 'painting']),\n",
              " (3, ['moonlight', 'is', 'sculpture']),\n",
              " (3, ['change', 'brings', 'opportunity']),\n",
              " (3, ['kindness', 'is', 'wisdom']),\n",
              " (3, ['invention', 'breeds', 'invention']),\n",
              " (3, ['everything', 'is', 'self-evident']),\n",
              " (3, ['feathers', 'predate', 'birds']),\n",
              " (3, ['trust', 'but', 'verify']),\n",
              " (3, ['action', 'is', 'eloquence']),\n",
              " (3, ['et', 'tu', 'brute']),\n",
              " (3, ['anatomy', 'is', 'destiny']),\n",
              " (3, ['nothing', 'in', 'excess']),\n",
              " (3, ['accountability', 'breeds', 'response-ability']),\n",
              " (3, ['independence', 'is', 'happiness']),\n",
              " (3, ['failure', 'is', 'impossible']),\n",
              " (3, ['thought', 'makes', 'reality']),\n",
              " (3, ['time', 'passes', 'irrevocably']),\n",
              " (3, ['love', 'conquers', 'all']),\n",
              " (3, ['exuberance', 'is', 'beauty']),\n",
              " (3, ['to', 'begin', 'begin']),\n",
              " (4, ['his', 'ignorance', 'is', 'encyclopedic']),\n",
              " (4, ['appearances', 'are', 'often', 'deceiving']),\n",
              " (4, ['appearances', 'often', 'are', 'deceiving']),\n",
              " (4, ['getting', 'older', 'is', 'hard']),\n",
              " (4, ['some', 'things', 'are', 'impossible']),\n",
              " (4, ['music', 'is', 'a', 'dialogue']),\n",
              " (4, ['i', 'paint', 'with', 'shapes']),\n",
              " (4, ['learn', 'to', 'think', 'continentally']),\n",
              " (4, ['leave', 'history', 'to', 'historians']),\n",
              " (4, ['with', 'renunciation', 'life', 'begins']),\n",
              " (4, ['kindness', 'is', 'always', 'fashionable']),\n",
              " (4, ['youth', 'condemns;', 'maturity', 'condones']),\n",
              " (4, ['i', 'live', 'in', 'brooklyn']),\n",
              " (4, ['being', 'number', 'two', 'sucks']),\n",
              " (4, ['perfection', 'doesn', 't', 'exist']),\n",
              " (4, ['aim', 'for', 'the', 'highest']),\n",
              " (4, ['freedom', 'is', 'not', 'negotiable']),\n",
              " (4, ['every', 'family', 'is', 'dysfunctional']),\n",
              " (4, ['everyone', 'needs', 'a', 'fantasy']),\n",
              " (4, ['happiness', 'depends', 'upon', 'ourselves']),\n",
              " (4, ['improvement', 'begins', 'with', 'i']),\n",
              " (4, ['enthusiasm', 'moves', 'the', 'world']),\n",
              " (4, ['fortune', 'that', 'favors', 'fools']),\n",
              " (4, ['cotton', 'is', 'my', 'life']),\n",
              " (4, ['actors', 'are', 'very', 'generous']),\n",
              " (4, ['i', 'm', 'an', 'idealist']),\n",
              " (4, ['aim', 'higher', 'stay', 'focused']),\n",
              " (4, ['i', 'm', 'so', 'uncoordinated']),\n",
              " (4, ['i', 'm', 'not', 'perfect']),\n",
              " (4, ['i', 'like', 'my', 'teammates']),\n",
              " (4, ['i', 'm', 'no', 'angel']),\n",
              " (4, ['war', 'is', 'an', 'abstraction']),\n",
              " (4, ['laughing', 'makes', 'everything', 'easier']),\n",
              " (4, ['i', 'improve', 'on', 'misquotation']),\n",
              " (4, ['accept', 'yourself', 'love', 'yourself']),\n",
              " (4, ['politics', 'makes', 'strange', 'bedfellows']),\n",
              " (4, ['i', 'love', 'the', 'unknown']),\n",
              " (4, ['stolen', 'sweets', 'are', 'best']),\n",
              " (4, ['architecture', 'is', 'inhabited', 'sculpture']),\n",
              " (4, ['follow', 'your', 'own', 'star']),\n",
              " (4, ['i', 'love', 'all', 'sports']),\n",
              " (4, ['everyone', 'has', 'a', 'past']),\n",
              " (4, ['wonders', 'will', 'never', 'cease']),\n",
              " (4, ['fortune', 'favors', 'the', 'audacious']),\n",
              " (4, ['you', 'learn', 'from', 'mistakes']),\n",
              " (4, ['every', 'song', 'is', 'different']),\n",
              " (4, ['i', 'm', 'a', 'competitor']),\n",
              " (4, ['adults', 'are', 'obsolete', 'children']),\n",
              " (4, ['nothing', 'recedes', 'like', 'progress']),\n",
              " (4, ['facts', 'are', 'stubborn', 'things']),\n",
              " (4, ['i', 'have', 'selective', 'hearing']),\n",
              " (4, ['i', 'hate', 'getting', 'bored']),\n",
              " (4, ['light', 'tomorrow', 'with', 'today']),\n",
              " (4, ['terror', 'made', 'me', 'cruel']),\n",
              " (4, ['i', 'dwell', 'in', 'possibility']),\n",
              " (4, ['for', 'love', 'is', 'immortality']),\n",
              " (4, ['politics', 'is', 'applied', 'biology']),\n",
              " (4, ['holidays', 'have', 'no', 'pity']),\n",
              " (4, ['much', 'effort', 'much', 'prosperity']),\n",
              " (4, ['cleverness', 'is', 'not', 'wisdom']),\n",
              " (4, ['leave', 'no', 'stone', 'unturned']),\n",
              " (4, ['we', 'shred', 'every', 'day']),\n",
              " (4, ['no', 'cross', 'no', 'crown']),\n",
              " (4, ['evolution', 'is', 'a', 'tinkerer']),\n",
              " (4, ['freedom', 'is', 'from', 'within']),\n",
              " (4, ['nature', 'abhors', 'a', 'vacuum']),\n",
              " (4, ['and', 'yet', 'it', 'moves']),\n",
              " (4, ['because', 'it', 's', 'there']),\n",
              " (4, ['cynicism', 'is', 'intellectual', 'dandyism']),\n",
              " (4, ['wisdom', 'comes', 'by', 'disillusionment']),\n",
              " (4, ['politics', 'makes', 'estranged', 'bedfellows']),\n",
              " (4, ['advertising', 'is', 'legalized', 'lying']),\n",
              " (4, ['the', 'buck', 'stops', 'here']),\n",
              " (4, ['love', 'has', 'a', 'tide']),\n",
              " (4, ['the', 'devil', 'is', 'compromise']),\n",
              " (4, ['nothing', 'endures', 'but', 'change']),\n",
              " (4, ['change', 'alone', 'is', 'unchanging']),\n",
              " (4, ['i', 'love', 'doing', 'comedy']),\n",
              " (4, ['class', 'envy', 'is', 'dangerous']),\n",
              " (4, ['human', 'beings', 'are', 'weak']),\n",
              " (4, ['i', 'believe', 'in', 'god']),\n",
              " (4, ['you', 'dirty', 'double-crossing', 'rat']),\n",
              " (4, ['make', 'the', 'important', 'interesting']),\n",
              " (4, ['conform', 'and', 'be', 'dull']),\n",
              " (4, ['being', 'unprepared', 'heightens', 'nerves']),\n",
              " (4, ['all', 'writers', 'are', 'vampires']),\n",
              " (4, ['i', 'like', 'dark', 'places']),\n",
              " (4, ['fate', 'loves', 'the', 'fearless']),\n",
              " (4, ['time', 'wounds', 'all', 'heels']),\n",
              " (4, ['i', 'like', 'the', 'pressure']),\n",
              " (4, ['hell', 'is', 'other', 'people']),\n",
              " (4, ['all', 'babies', 'are', 'beautiful']),\n",
              " (4, ['no', 'collection', 'without', 'compensation']),\n",
              " (4, ['i', 'cook', 'every', 'day']),\n",
              " (4, ['originality', 'is', 'really', 'important']),\n",
              " (4, ['music', 'is', 'my', 'religion']),\n",
              " (4, ['i', 'm', 'a', 'pacifist']),\n",
              " (4, ['doubt', 'grows', 'with', 'knowledge']),\n",
              " (4, ['opportunities', 'are', 'seldom', 'labeled']),\n",
              " (4, ['beginnings', 'are', 'always', 'messy']),\n",
              " (4, ['bad', 'people', 'are', 'intriguing']),\n",
              " (4, ['innocence', 'is', 'always', 'unsuspicious']),\n",
              " (4, ['logic', 'works', 'metaphysics', 'contemplates']),\n",
              " (4, ['solitude', 'vivifies;', 'isolation', 'kills']),\n",
              " (4, ['i', 'love', 'polarizing', 'people']),\n",
              " (4, ['i', 'like', 'to', 'relax']),\n",
              " (4, ['the', 'die', 'is', 'cast']),\n",
              " (4, ['my', 'dad', 'is', 'awesome']),\n",
              " (4, ['i', 'love', 'to', 'write']),\n",
              " (4, ['i', 'actually', 'hate', 'shopping']),\n",
              " (4, ['i', 'm', 'very', 'independent']),\n",
              " (4, ['i', 'feel', 'very', 'lucky']),\n",
              " (4, ['never', 'complain', 'never', 'explain']),\n",
              " (4, ['i', 'm', 'chasing', 'perfection']),\n",
              " (4, ['real', 'luxury', 'is', 'customization']),\n",
              " (4, ['i', 'm', 'from', 'southampton']),\n",
              " (4, ['shopkeepers', 'are', 'not', 'bankers']),\n",
              " (4, ['nice', 'guys', 'finish', 'last']),\n",
              " (4, ['let', 'there', 'be', 'bass']),\n",
              " (4, ['study', 'nature', 'not', 'books']),\n",
              " (4, ['form', 'ever', 'follows', 'function']),\n",
              " (4, ['words', 'are', 'just', 'words']),\n",
              " (4, ['patience', 'is', 'passion', 'tamed']),\n",
              " (4, ['money', 'just', 'draws', 'flies']),\n",
              " (4, ['nothing', 'nothing', 'justifies', 'terrorism']),\n",
              " (4, ['imaginary', 'evils', 'are', 'incurable']),\n",
              " (4, ['racism', 'springs', 'from', 'ignorance']),\n",
              " (4, ['i', 'definitely', 'love', 'tv']),\n",
              " (4, ['reject', 'hatred', 'without', 'hating']),\n",
              " (4, ['better', 'late', 'than', 'never']),\n",
              " (4, ['i', 'm', 'no', 'superman']),\n",
              " (4, ['i', 'am', 'still', 'learning']),\n",
              " (4, ['genius', 'is', 'eternal', 'patience']),\n",
              " (4, ['always', 'do', 'your', 'best']),\n",
              " (4, ['real', 'men', 'change', 'diapers']),\n",
              " (4, ['professional', 'competitions', 'are', 'overrated']),\n",
              " (4, ['heroes', 'can', 'be', 'sweet']),\n",
              " (4, ['youth', 'has', 'no', 'age']),\n",
              " (4, ['politeness', 'is', 'organized', 'indifference']),\n",
              " (4, ['i', 'm', 'happily', 'single']),\n",
              " (4, ['music', 'tells', 'no', 'truths']),\n",
              " (4, ['love', 'is', 'metaphysical', 'gravity']),\n",
              " (4, ['truth', 'is', 'a', 'tendency']),\n",
              " (4, ['age', 'considers;', 'youth', 'ventures']),\n",
              " (4, ['i', 'm', 'a', 'presenter']),\n",
              " (4, ['i', 'am', 'a', 'geologist']),\n",
              " (4, ['winning', 'starts', 'with', 'beginning']),\n",
              " (4, ['music', 'is', 'my', 'life']),\n",
              " (4, ['wine', 'is', 'bottled', 'poetry']),\n",
              " (4, ['i', 'love', 'rob', 'schneider']),\n",
              " (4, ['necessity', 'has', 'no', 'law']),\n",
              " (4, ['courage', 'mounteth', 'with', 'occasion']),\n",
              " (4, ['wisdom', 'begins', 'in', 'wonder']),\n",
              " (4, ['who', 'seeks', 'shall', 'find']),\n",
              " (4, ['without', 'labor', 'nothing', 'prospers']),\n",
              " (4, ['baseball', 'is', 'the', 'life']),\n",
              " (4, ['stay', 'hungry', 'stay', 'foolish']),\n",
              " (4, ['nobody', 'likes', 'tainted', 'victories']),\n",
              " (4, ['fortune', 'favors', 'the', 'brave']),\n",
              " (4, ['endurance', 'is', 'patience', 'concentrated']),\n",
              " (4, ['no', 'pressure', 'no', 'diamonds']),\n",
              " (4, ['good', 'bargains', 'are', 'pick-pockets']),\n",
              " (4, ['no', 'taxation', 'without', 'respiration']),\n",
              " (4, ['climate', 'change', 'is', 'crap']),\n",
              " (4, ['i', 'like', 'things', 'simple']),\n",
              " (4, ['comedy', 'comes', 'from', 'confusion']),\n",
              " (4, ['fortune', 'favours', 'the', 'bold']),\n",
              " (4, ['fortune', 'favors', 'the', 'bold']),\n",
              " (4, ['time', 'speeds', 'away', 'irretrievably']),\n",
              " (4, ['in', 'dreams', 'begins', 'responsibility']),\n",
              " (4, ['be', 'curious', 'not', 'judgmental']),\n",
              " (4, ['nothing', 'recedes', 'like', 'success']),\n",
              " (4, ['opposition', 'is', 'true', 'friendship']),\n",
              " (4, ['originality', 'is', 'undetected', 'plagiarism']),\n",
              " (4, ['you', 'sparkle', 'with', 'larceny']),\n",
              " (4, ['my', 'forte', 'is', 'awkwardness']),\n",
              " (5, ['tiggers', 'don', 't', 'like', 'honey']),\n",
              " (5, ['i', 'would', 'like', 'to', 'direct']),\n",
              " (5, ['i', 'm', 'about', 'my', 'characters']),\n",
              " (5, ['loneliness', 'is', 'the', 'ultimate', 'poverty']),\n",
              " (5, ['life', 'is', 'an', 'incurable', 'disease']),\n",
              " (5, ['i', 'think', 'work', 'begets', 'work']),\n",
              " (5, ['i', 'm', 'no', 'leonardo', 'dicaprio']),\n",
              " (5, ['most', 'modern', 'comedy', 'is', 'crap']),\n",
              " (5, ['example', 'is', 'the', 'best', 'precept']),\n",
              " (5, ['i', 'sing', 'just', 'for', 'fun']),\n",
              " (5, ['vote', 'early', 'and', 'vote', 'often']),\n",
              " (5, ['dream', 'in', 'a', 'pragmatic', 'way']),\n",
              " (5, ['i', 'do', 'believe', 'in', 'fate']),\n",
              " (5, ['health', 'consists', 'with', 'temperance', 'alone']),\n",
              " (5, ['live', 'constructively', 'and', 'live', 'optimistically']),\n",
              " (5, ['love', 'is', 'the', 'only', 'gold']),\n",
              " (5, ['knowledge', 'comes', 'but', 'wisdom', 'lingers']),\n",
              " (5, ['being', 'an', 'all-star', 'is', 'everything']),\n",
              " (5, ['i', 'like', 'being', 'a', 'mother']),\n",
              " (5, ['i', 'like', 'to', 'be', 'free']),\n",
              " (5, ['adventure', 'is', 'worthwhile', 'in', 'itself']),\n",
              " (5, ['dreams', 'are', 'necessary', 'to', 'life']),\n",
              " (5, ['most', 'quarrels', 'amplify', 'a', 'misunderstanding']),\n",
              " (5, ['you', 'can', 'plant', 'a', 'dream']),\n",
              " (5, ['corruption', 'never', 'has', 'been', 'compulsory']),\n",
              " (5, ['movies', 'are', 'just', 'ridiculously', 'expensive']),\n",
              " (5, ['self-love', 'seems', 'so', 'often', 'unrequited']),\n",
              " (5, ['eureka', '(i', 'have', 'found', 'it)']),\n",
              " (5, ['hope', 'is', 'a', 'waking', 'dream']),\n",
              " (5, ['the', 'primary', 'factor', 'is', 'proportions']),\n",
              " (5, ['things', 'always', 'happen', 'in', 'series']),\n",
              " (5, ['who', 'will', 'observe', 'the', 'observers']),\n",
              " (5, ['i', 'm', 'not', 'maximized', 'yet']),\n",
              " (5, ['i', 'm', 'very', 'very', 'blessed']),\n",
              " (5, ['katie', 'holmes', 'is', 'really', 'amazing']),\n",
              " (5, ['never', 'complain', 'and', 'never', 'explain']),\n",
              " (5, ['a', 'precedent', 'embalms', 'a', 'principle']),\n",
              " (5, ['there', 'is', 'no', 'little', 'enemy']),\n",
              " (5, ['remember', 'that', 'time', 'is', 'money']),\n",
              " (5, ['photography', 'helps', 'people', 'to', 'see']),\n",
              " (5, ['good', 'things', 'just', 'keep', 'happening']),\n",
              " (5, ['i', 'm', 'a', 'competitive', 'person']),\n",
              " (5, ['zealots', 'often', 'carry', 'the', 'day']),\n",
              " (5, ['iraq', 'is', 'not', 'about', 'oil']),\n",
              " (5, ['wisconsin', 's', 'a', 'special', 'place']),\n",
              " (5, ['i', 'm', 'usually', 'pretty', 'insecure']),\n",
              " (5, ['i', 'moonlight', 'as', 'a', 'singer']),\n",
              " (5, ['my', 'father', 's', 'a', 'character']),\n",
              " (5, ['imperialist', 'enterprise', 'draws', 'political', 'consequences']),\n",
              " (5, ['i', 'm', 'a', 'television', 'junkie']),\n",
              " (5, ['not', 'all', 'celebrities', 'are', 'dunces']),\n",
              " (5, ['democracy', 'derailed', 'is', 'democracy', 'denied']),\n",
              " (5, ['imitation', 'is', 'the', 'sincerest', 'flattery']),\n",
              " (5, ['of', 'two', 'evils', 'choose', 'neither']),\n",
              " (5, ['by', 'nature', 'men', 'love', 'newfangledness']),\n",
              " (5, ['we', 're', 'not', 'hard', 'people']),\n",
              " (5, ['i', 'do', 'belong', 'on', 'stage']),\n",
              " (5, ['strong', 'female', 'leads', 'are', 'important']),\n",
              " (5, ['i', 'like', 'to', 'explore', 'things']),\n",
              " (5, ['i', 'keep', 'things', 'pretty', 'simple']),\n",
              " (5, ['i', 'don', 't', 'wear', 'jeans']),\n",
              " (5, ['nothing', 'quite', 'new', 'is', 'perfect']),\n",
              " (5, ['fame', 'doesn', 't', 'end', 'loneliness']),\n",
              " (5, ['to', 'think', 'is', 'to', 'differ']),\n",
              " (5, ['i', 've', 'mellowed', 'quite', 'quickly']),\n",
              " (5, ['sleep', 'is', 'the', 'best', 'meditation']),\n",
              " (5, ['i', 'enjoy', 'saturday', 'night', 'racing']),\n",
              " (5, ['there', 's', 'nothing', 'like', 'success']),\n",
              " (5, ['i', 'love', 'to', 'play', 'pool']),\n",
              " (5, ['sports', 'are', 'not', 'for', 'everyone']),\n",
              " (5, ['i', 'have', 'no', 'grand', 'scheme']),\n",
              " (5, ['i', 'always', 'go', 'for', 'simplicity']),\n",
              " (5, ['bad', 'guys', 'have', 'more', 'fun']),\n",
              " (5, ['anything', 'simple', 'always', 'interests', 'me']),\n",
              " (5, ['avarice', 'the', 'spur', 'of', 'industry']),\n",
              " (5, ['god', 'save', 'us', 'from', 'religion']),\n",
              " (5, ['what', 'is', 'originality', 'undetected', 'plagiarism']),\n",
              " (5, ['i', 'want', 'to', 'be', 'fearless']),\n",
              " (5, ['i', 'don', 't', 'research', 'anything']),\n",
              " (5, ['your', 'library', 'is', 'your', 'paradise']),\n",
              " (5, ['prevention', 'is', 'better', 'than', 'cure']),\n",
              " (5, ['tackling', 'childhood', 'obesity', 'is', 'key']),\n",
              " (5, ['my', 'family', 'were', 'from', 'jamaica']),\n",
              " (5, ['everything', 'in', 'life', 'is', 'luck']),\n",
              " (5, ['adults', 'are', 'just', 'outdated', 'children']),\n",
              " (5, ['mortality', 'defines', 'the', 'human', 'condition']),\n",
              " (5, ['god', 'uses', 'whoever', 'he', 'wants']),\n",
              " (5, ['ideas', 'are', 'fatal', 'to', 'caste']),\n",
              " (5, ['i', 'm', 'a', 'one-man', 'idiot']),\n",
              " (5, ['villains', 'are', 'fun', 'to', 'play']),\n",
              " (5, ['custom', 'reconciles', 'us', 'to', 'everything']),\n",
              " (5, ['to', 'write', 'is', 'a', 'humiliation']),\n",
              " (5, ['you', 'never', 'know', 'about', 'life']),\n",
              " (5, ['i', 'am', 'single', 'and', 'happy']),\n",
              " (5, ['the', 'past', 'cannot', 'be', 'cured']),\n",
              " (5, ['big', 'girls', 'need', 'big', 'diamonds']),\n",
              " (5, ['success', 'is', 'a', 'great', 'deodorant']),\n",
              " (5, ['my', 'friends', 'are', 'my', 'estate']),\n",
              " (5, ['violence', 'in', 'darfur', 'is', 'cataclysmic']),\n",
              " (5, ['i', 'always', 'respect', 'a', 'woman']),\n",
              " (5, ['i', 'prefer', 'love', 'over', 'sex']),\n",
              " (5, ['only', 'the', 'educated', 'are', 'free']),\n",
              " (5, ['my', 'skin', 'is', 'very', 'sensitive']),\n",
              " (5, ['you', 'look', 'just', 'like', 'you']),\n",
              " (5, ['children', 'make', 'your', 'life', 'important']),\n",
              " (5, ['courage', 'is', 'grace', 'under', 'pressure']),\n",
              " (5, ['never', 'mistake', 'motion', 'for', 'action']),\n",
              " (5, ['the', 'sea', 'hates', 'a', 'coward']),\n",
              " (5, ['i', 'love', 'the', 'fast', 'lane']),\n",
              " (5, ['i', 'acted', 'my', 'heart', 'out']),\n",
              " (5, ['i', 'aspire', 'only', 'to', 'silence']),\n",
              " (5, ['friends', 'are', 'thieves', 'of', 'time']),\n",
              " (5, ['my', 'mind', 's', 'my', 'kingdom']),\n",
              " (5, ['wickedness', 'is', 'its', 'own', 'punishment']),\n",
              " (5, ['little', 'opportunities', 'should', 'be', 'improved']),\n",
              " (5, ['sex', 'is', 'a', 'two-way', 'treat']),\n",
              " (5, ['too', 'much', 'truth', 'is', 'uncouth']),\n",
              " (5, ['violence', 'is', 'man', 're-creating', 'himself']),\n",
              " (5, ['greenland', 'is', 'a', 'wonderful', 'country']),\n",
              " (5, ['i', 'am', 'just', 'an', 'apprentice']),\n",
              " (5, ['being', 'short', 'works', 'for', 'me']),\n",
              " (5, ['i', 'm', 'not', 'very', 'glamorous']),\n",
              " (5, ['i', 'm', 'a', 'proud', 'welshman']),\n",
              " (5, ['man', 'is', 'an', 'imagining', 'being']),\n",
              " (5, ['nostalgia', 'is', 'a', 'seductive', 'liar']),\n",
              " (5, ['weather', 'forecast', 'for', 'tonight:', 'dark']),\n",
              " (5, ['necessity', 'the', 'mother', 'of', 'invention']),\n",
              " (5, ['big', 'brother', 'is', 'watching', 'you']),\n",
              " (5, ['admiration', 'and', 'familiarity', 'are', 'strangers']),\n",
              " (5, ['audacity', 'more', 'audacity', 'always', 'audacity']),\n",
              " (5, ['every', 'shot', 'that', 'kills', 'ricochets']),\n",
              " (5, ['everybody', 'is', 'their', 'own', 'critic']),\n",
              " (5, ['i', 'want', 'to', 'be', 'alone']),\n",
              " (5, ['our', 'true', 'nationality', 'is', 'mankind']),\n",
              " (5, ['vanity', 'like', 'murder', 'will', 'out']),\n",
              " (5, ['nothing', 'exists', 'except', 'through', 'language']),\n",
              " (5, ['death', 'is', 'better', 'than', 'slavery']),\n",
              " (5, ['childhood', 'is', 'a', 'short', 'season']),\n",
              " (5, ['if', 'you', 'rest', 'you', 'rust']),\n",
              " (5, ['america', 'has', 'always', 'imported', 'history']),\n",
              " (5, ['power', 'is', 'the', 'great', 'aphrodisiac']),\n",
              " (5, ['friends', 'are', 'born', 'not', 'made']),\n",
              " (5, ['deep', 'experience', 'is', 'never', 'peaceful']),\n",
              " (5, ['my', 'motto', 'is', 'never', 'quit']),\n",
              " (5, ['resolve', 'and', 'thou', 'art', 'free']),\n",
              " (5, ['big', 'results', 'require', 'big', 'ambitions']),\n",
              " (5, ['stupid', 'people', 'are', 'ruining', 'america']),\n",
              " (5, ['genius', 'is', 'initiative', 'on', 'fire']),\n",
              " (5, ['your', 'library', 'is', 'your', 'portrait']),\n",
              " (5, ['anger', 'is', 'a', 'short', 'madness']),\n",
              " (5, ['anger', 'is', 'a', 'brief', 'madness']),\n",
              " (5, ['sometimes', 'even', 'excellent', 'homer', 'nods']),\n",
              " (5, ['never', 'give', 'up', 'on', 'anybody']),\n",
              " (5, ['to', 'be', 'is', 'to', 'do']),\n",
              " (5, ['i', 'suffer', 'from', 'everyday', 'life']),\n",
              " (5, ['serbs', 'can', 'only', 'leave', 'kosovo']),\n",
              " (5, ['serbia', 'is', 'open', 'for', 'business']),\n",
              " (5, ['short', 'cuts', 'make', 'long', 'delays']),\n",
              " (5, ['with', 'humour', 'there', 'is', 'life']),\n",
              " (5, ['congress', 'doesn', 't', 'hate', 'congress']),\n",
              " (5, ['suicide', 'is', 'not', 'a', 'remedy']),\n",
              " (5, ['i', 'am', 'a', 'poor', 'hater']),\n",
              " (5, ['there', 'are', 'no', 'instant', 'solutions']),\n",
              " (5, ['jane', 'austen', 'is', 'very', 'amusing']),\n",
              " (5, ['i', 'love', 'hearing', 'people', 'laugh']),\n",
              " (5, ['i', 'm', 'an', 'angry', 'guy']),\n",
              " (5, ['even', 'my', 'stuntman', 'is', 'old']),\n",
              " (5, ['taxation', 'without', 'representation', 'is', 'tyranny']),\n",
              " (5, ['freedom', 'is', 'a', 'universal', 'value']),\n",
              " (5, ['well', 'time', 'wounds', 'all', 'heels']),\n",
              " (5, ['tragedy', 'makes', 'you', 'grow', 'up']),\n",
              " (5, ['i', 'am', 'critical', 'of', 'myself']),\n",
              " (5, ['morning', 'breath', 'is', 'the', 'worst']),\n",
              " (5, ['courage', 'is', 'action', 'not', 'talk']),\n",
              " (5, ['i', 'have', 'a', 'strong', 'constitution']),\n",
              " (5, ['i', 'react', 'emotionally', 'to', 'everything']),\n",
              " (5, ['i', 'can', 't', 'tan', 'naturally']),\n",
              " (5, ['sometimes', 'you', 'win', 'by', 'losing']),\n",
              " (5, ['my', 'father', 'was', 'an', 'agnostic']),\n",
              " (5, ['i', 'have', 'very', 'old-fashioned', 'tastes']),\n",
              " (5, ['everything', 'matters', 'time', 'is', 'precious']),\n",
              " (5, ['art', 'is', 'fun', 'to', 'buy']),\n",
              " (5, ['knowledge', 'speaks', 'but', 'wisdom', 'listens']),\n",
              " (5, ['hypothetical', 'questions', 'get', 'hypothetical', 'answers']),\n",
              " (5, ['i', 'call', 'architecture', 'frozen', 'music']),\n",
              " (5, ['the', 'poetry', 'of', 'the', 'foot']),\n",
              " (5, ['i', 'really', 'write', 'for', 'people']),\n",
              " (5, ['i', 'm', 'ready', 'to', 'create']),\n",
              " (5, ['what', 'worries', 'you', 'masters', 'you']),\n",
              " (5, ['wherever', 'law', 'ends', 'tyranny', 'begins']),\n",
              " (5, ['night', 'hath', 'a', 'thousand', 'eyes']),\n",
              " (5, ['never', 'mistake', 'activity', 'for', 'achievement']),\n",
              " (5, ['i', 'think', 'everybody', 's', 'nuts']),\n",
              " (5, ['the', 'national', 'pastime', 'is', 'juiced']),\n",
              " (5, ['my', 'family', 'came', 'from', 'ecuador']),\n",
              " (5, ['not', 'one', 'cent', 'for', 'scenery']),\n",
              " (5, ['the', 'holy', 'one…requires', 'the', 'heart']),\n",
              " (5, ['i', 'prefer', 'a', 'cluttered', 'workspace']),\n",
              " (5, ['i', 'like', 'writing', 'about', 'friends']),\n",
              " (5, ['my', 'life', 'is', 'to', 'sing']),\n",
              " (5, ['honesty', 'is', 'praised', 'and', 'starves']),\n",
              " (5, ['i', 'enjoy', 'seeing', 'new', 'places']),\n",
              " (5, ['art', 'must', 'not', 'serve', 'might']),\n",
              " (5, ['i', 'felt', 'uncomfortable', 'in', 'cliques']),\n",
              " (5, ['i', 'm', 'a', 'serial', 'monogamist']),\n",
              " (5, ['beauty', 'comes', 'from', 'the', 'inside']),\n",
              " (5, ['serendipity', 'always', 'rewards', 'the', 'prepared']),\n",
              " (5, ['my', 'faith', 'guides', 'my', 'life']),\n",
              " (5, ['i', 'have', 'a', 'natural', 'swagger']),\n",
              " (5, ['great', 'ideology', 'creates', 'great', 'times']),\n",
              " (5, ['i', 'don', 't', 'do', 'earrings']),\n",
              " (5, ['i', 'am', 'the', 'girliest', 'girl']),\n",
              " (5, ['rather', 'be', 'dead', 'than', 'cool']),\n",
              " (5, ['i', 'm', 'a', 'wandering', 'gypsy']),\n",
              " (5, ['general', 'notions', 'are', 'generally', 'wrong']),\n",
              " (5, ['i', 'm', 'rubbish', 'at', 'twitter']),\n",
              " (5, ['i', 'think', 'like', 'a', 'detective']),\n",
              " (5, ['i', 'am', 'essentially', 'a', 'loner']),\n",
              " (5, ['we', 'all', 'need', 'each', 'other']),\n",
              " (5, ['boredom:', 'the', 'desire', 'for', 'desires']),\n",
              " (5, ['nietzsche', 'was', 'stupid', 'and', 'abnormal']),\n",
              " (5, ['learning', 'never', 'exhausts', 'the', 'mind']),\n",
              " (5, ['simplicity', 'is', 'the', 'ultimate', 'sophistication']),\n",
              " (5, ['i', 'was', 'never', 'a', 'prodigy']),\n",
              " (5, ['i', 'm', 'not', 'that', 'interesting']),\n",
              " (5, ['no', 'news', 'is', 'good', 'news']),\n",
              " (5, ['a', 'low', 'budget', 'is', 'uncomfortable']),\n",
              " (5, ['sex', 'is', 'emotion', 'in', 'motion']),\n",
              " (5, ['my', 'life', 'is', 'my', 'message']),\n",
              " (5, ['without', 'hope', 'we', 'are', 'lost']),\n",
              " (5, ['anticipate', 'charity', 'by', 'preventing', 'poverty']),\n",
              " (5, ['the', 'best', 'vision', 'is', 'insight']),\n",
              " (5, ['love', 'is', 'a', 'reciprocal', 'torture']),\n",
              " (5, ['confine', 'yourself', 'to', 'the', 'present']),\n",
              " (5, ['true', 'friendship', 'is', 'never', 'serene']),\n",
              " (5, ['conquer', 'but', 'don', 't', 'triumph']),\n",
              " (5, ['all', 'kings', 'is', 'mostly', 'rapscallions']),\n",
              " (5, ['i', 'm', 'not', 'independently', 'wealthy']),\n",
              " (5, ['the', 'medium', 'is', 'the', 'message']),\n",
              " (5, ['pray', 'and', 'let', 'god', 'worry']),\n",
              " (5, ['when', 'schools', 'flourish', 'all', 'flourishes']),\n",
              " (5, ['money', 'can', 't', 'buy', 'poverty']),\n",
              " (5, ['we', 'fall', 'forward', 'to', 'succeed']),\n",
              " (5, ['sanctified', 'afflictions', 'are', 'spiritual', 'promotions']),\n",
              " (5, ['not', 'lost', 'but', 'gone', 'before']),\n",
              " (5, ['for', 'me', 'comfort', 'is', 'paramount']),\n",
              " (5, ['i', 've', 'got', 'two', 'families']),\n",
              " (5, ['i', 'was', 'the', 'class', 'innuendist']),\n",
              " (5, ['all', 'war', 'aims', 'for', 'impunity']),\n",
              " (5, ['a', 'good', 'thing', 'never', 'ends']),\n",
              " (5, ['be', 'impeccable', 'with', 'your', 'word']),\n",
              " (5, ['laughter', 'is', 'an', 'instant', 'vacation']),\n",
              " (5, ['inflation', 'is', 'taxation', 'without', 'legislation']),\n",
              " (5, ['love', 'without', 'conversation', 'is', 'impossible']),\n",
              " (5, ['peace', 'begins', 'with', 'a', 'smile']),\n",
              " (5, ['always', 'stay', 'true', 'to', 'yourselves']),\n",
              " (5, ['my', 'features', 'are', 'completely', 'ethnic']),\n",
              " (5, ['i', 'love', 'anything', 'quiz', 'related']),\n",
              " (5, ['stay', 'focused', 'on', 'the', 'mission']),\n",
              " (5, ['i', 'have', 'my', 'own', 'strength']),\n",
              " (5, ['do', 'all', 'things', 'with', 'love']),\n",
              " (5, ['only', 'the', 'young', 'die', 'good']),\n",
              " (5, ['i', 'literally', 'hate', 'working', 'out']),\n",
              " (5, ['turn', 'your', 'wounds', 'into', 'wisdom']),\n",
              " (5, ['a', 'will', 'finds', 'a', 'way']),\n",
              " (5, ['all', 'art', 'is', 'quite', 'useless']),\n",
              " (5, ['only', 'the', 'shallow', 'know', 'themselves']),\n",
              " (5, ['all', 'things', 'change;', 'nothing', 'perishes']),\n",
              " (5, ['never', 'fight', 'an', 'inanimate', 'object']),\n",
              " (5, ['i', 'enjoy', 'being', 'a', 'girl']),\n",
              " (5, ['kittens', 'can', 'happen', 'to', 'anyone']),\n",
              " (5, ['boredom', 'is', 'rage', 'spread', 'thin']),\n",
              " (5, ['there', 'are', 'many', 'talented', 'people']),\n",
              " (5, ['i', 've', 'always', 'been', 'loud']),\n",
              " (5, ['you', 'have', 'to', 'take', 'risks']),\n",
              " (5, ['freud', 'was', 'just', 'a', 'novelist']),\n",
              " (5, ['rivalry', 'doesn', 't', 'help', 'anybody']),\n",
              " (5, ['hello', 'kitty', 'will', 'never', 'speak']),\n",
              " (5, ['neither', 'blame', 'or', 'praise', 'yourself']),\n",
              " (5, ['life', 'is', 'just', 'a', 'journey']),\n",
              " (5, ['vice', 'is', 'its', 'own', 'reward']),\n",
              " (5, ['history', 'will', 'treat', 'me', 'right']),\n",
              " (5, ['the', 'first', 'wealth', 'is', 'health']),\n",
              " (5, ['the', 'earth', 'laughs', 'in', 'flowers']),\n",
              " (5, ['art', 'is', 'a', 'jealous', 'mistress']),\n",
              " (5, ['all', 'mankind', 'love', 'a', 'lover']),\n",
              " (5, ['figure', 'out', 'who', 'you', 'are']),\n",
              " (5, ['i', 'like', 'to', 'write', 'poetry']),\n",
              " (5, ['i', 'love', 'getting', 'dressed', 'up']),\n",
              " (5, ['fans', 'don', 't', 'boo', 'nobodies']),\n",
              " (5, ['hitting', 'is', 'better', 'than', 'sex']),\n",
              " (5, ['i', 'think;', 'therefore', 'i', 'am']),\n",
              " (5, ['good', 'government', 'is', 'good', 'politics']),\n",
              " (5, ['a', 'true', 'initiation', 'never', 'ends']),\n",
              " (5, ['the', 'titanic', 'will', 'protect', 'itself']),\n",
              " (5, ['love', 'is', 'energy', 'of', 'life']),\n",
              " (5, ['unity', 'is', 'obama', 's', 'theme']),\n",
              " (5, ['texts', 'are', 'always', 'in', 'flux']),\n",
              " (5, ['freedom', 'lies', 'in', 'being', 'bold']),\n",
              " (5, ['turn', 'your', 'scars', 'into', 'stars']),\n",
              " (5, ['when', 'one', 'teaches', 'two', 'learn']),\n",
              " (5, ['comedy', 'is', 'acting', 'out', 'optimism']),\n",
              " (5, ['you', 'can', 't', 'fix', 'stupid']),\n",
              " (5, ['i', 'race', 'kind', 'of', 'sparingly']),\n",
              " (5, ['words', 'are', 'all', 'we', 'have']),\n",
              " (5, ['nobody', 'shoots', 'at', 'santa', 'claus']),\n",
              " (5, ['the', 'wise', 'are', 'above', 'books']),\n",
              " (5, ['avoid', 'running', 'at', 'all', 'times']),\n",
              " (5, ['i', 'hate', 'the', 'polo', 'collar']),\n",
              " (5, ['man', 'is', 'a', 'social', 'animal']),\n",
              " (5, ['what', 's', 'past', 'is', 'prologue']),\n",
              " (5, ['frailty', 'thy', 'name', 'is', 'woman']),\n",
              " (5, ['i', 'm', 'a', 'tv', 'junkie']),\n",
              " (5, ['i', 'm', 'a', 'tv', 'addict']),\n",
              " (5, ['i', 'm', 'such', 'a', 'workaholic']),\n",
              " (5, ['faith', 'is', 'reason', 'grown', 'courageous']),\n",
              " (5, ['gossip', 'is', 'nature', 's', 'telephone']),\n",
              " (5, ['fashion', 'goes', 'round', 'in', 'circles']),\n",
              " (5, ['success', 'is', 'dependent', 'on', 'effort']),\n",
              " (5, ['trust', 'dies', 'but', 'mistrust', 'blossoms']),\n",
              " (5, ['quick', 'decisions', 'are', 'unsafe', 'decisions']),\n",
              " (5, ['i', 'm', 'always', 'being', 'realistic']),\n",
              " (5, ['a', 'win', 'is', 'a', 'win']),\n",
              " (5, ['to', 'me', 'flowers', 'are', 'happiness']),\n",
              " (5, ['i', 'am', 'a', 'serious', 'guy']),\n",
              " (5, ['accessible', 'design', 'is', 'good', 'design']),\n",
              " (5, ['crikey', 'means', 'gee', 'whiz', 'wow']),\n",
              " (5, ['suffrage', 'is', 'the', 'pivotal', 'right']),\n",
              " (5, ['fat', 'is', 'a', 'feminist', 'issue']),\n",
              " (5, ['rumor', 'is', 'not', 'always', 'wrong']),\n",
              " (5, ['i', 'don', 't', 'feel', 'famous']),\n",
              " (5, ['i', 'shop', 'therefore', 'i', 'am']),\n",
              " (5, ['you', 'gotta', 'mature', 'you', 'know']),\n",
              " (5, ['great', 'hopes', 'make', 'great', 'men']),\n",
              " (5, ['nothing', 'sharpens', 'sight', 'like', 'envy']),\n",
              " (5, ['sorrow', 'never', 'comes', 'too', 'late']),\n",
              " (5, ['delay', 'is', 'preferable', 'to', 'error']),\n",
              " (5, ['when', 'ambition', 'ends', 'happiness', 'begins']),\n",
              " (5, ['man', 'proposes', 'but', 'god', 'disposes']),\n",
              " (5, ['real', 'progress', 'comes', 'from', 'people']),\n",
              " (5, ['sweat', 'makes', 'good', 'friendship', 'cement']),\n",
              " (5, ['cinnamon', 'bites', 'and', 'kisses', 'simultaneously']),\n",
              " (5, ['perseverance', 'secret', 'of', 'all', 'triumphs']),\n",
              " (5, ['procrastination', 'is', 'opportunity', 's', 'assassin']),\n",
              " (5, ['my', 'first', 'vocation', 'was', 'dance']),\n",
              " (5, ['sometimes', 'i', 'like', 'to', 'vent']),\n",
              " (5, ['i', 'think', 'abortion', 'is', 'murder']),\n",
              " (5, ['fate', 'will', 'find', 'a', 'way']),\n",
              " (5, ['fascism', 'is', 'capitalism', 'in', 'decay']),\n",
              " (5, ['democracy', 'is', 'indispensable', 'to', 'socialism']),\n",
              " (5, ['love', 'truth', 'but', 'pardon', 'error']),\n",
              " (5, ['we', 'convince', 'by', 'our', 'presence']),\n",
              " (5, ['i', 'have', 'a', 'clear', 'conscience']),\n",
              " (5, ['happiness', 'is', 'an', 'inside', 'job']),\n",
              " (5, ['the', 'eye', 'altering', 'alters', 'all']),\n",
              " (5, ['shame', 'is', 'pride', 's', 'cloak']),\n",
              " (5, ['talent', 'perceives', 'differences;', 'genius', 'unity']),\n",
              " (5, ['justice', 'delayed', 'is', 'justice', 'denied']),\n",
              " (5, ['egypt', 'is', 'a', 'sovereign', 'nation']),\n",
              " (5, ['every', 'bullet', 'has', 'its', 'billet']),\n",
              " (5, ['belief', 'creates', 'the', 'actual', 'fact']),\n",
              " (5, ['time', 'itself', 'comes', 'in', 'drops']),\n",
              " (5, ['faith', 'is', 'a', 'passionate', 'intuition']),\n",
              " (5, ['most', 'hard-boiled', 'people', 'are', 'half-baked']),\n",
              " (5, ['art', 'is', 'science', 'made', 'clear']),\n",
              " (5, ['never', 'never', 'never', 'give', 'up']),\n",
              " (5, ['macho', 'does', 'not', 'prove', 'mucho']),\n",
              " (6, ['better', 'to', 'be', 'disliked', 'than', 'pitied']),\n",
              " (6, ['great', 'necessities', 'call', 'out', 'great', 'virtues']),\n",
              " (6, ['you', 'must', 'never', 'tire', 'fighting', 'satan']),\n",
              " (6, ['i', 'm', 'huge', 'fan', 'of', 'timeflies']),\n",
              " (6, ['time', 'brings', 'all', 'things', 'to', 'pass']),\n",
              " (6, ['the', 'words', 'of', 'truth', 'are', 'simple']),\n",
              " (6, ['united', 'we', 'stand', 'divided', 'we', 'fall']),\n",
              " (6, ['any', 'excuse', 'will', 'serve', 'a', 'tyrant']),\n",
              " (6, ['prohibition', 'has', 'made', 'nothing', 'but', 'trouble']),\n",
              " (6, ['i', 'm', 'usually', 'just', 'enjoying', 'life']),\n",
              " (6, ['imagination', 'is', 'more', 'important', 'than', 'knowledge']),\n",
              " (6, ['i', 'believe', 'in', 'god', 'and', 'immortality']),\n",
              " (6, ['you', 'can', 't', 'applaud', 'a', 'referee']),\n",
              " (6, ['a', 'promise', 'must', 'never', 'be', 'broken']),\n",
              " (6, ['praise', 'undeserved', 'is', 'satire', 'in', 'disguise']),\n",
              " (6, ['i', 'm', 'very', 'into', 'fantasy', 'films']),\n",
              " (6, ['nature', 'red', 'in', 'tooth', 'and', 'claw']),\n",
              " (6, ['islam', 'and', 'democracy', 'can', 'function', 'together']),\n",
              " (6, ['the', 'economist', 'is', 'a', 'biased', 'organization']),\n",
              " (6, ['in', '1965', 'i', 'marched', 'for', 'equality']),\n",
              " (6, ['i', 'do', 'not', 'write', 'i', 'build']),\n",
              " (6, ['part', 'of', 'me', 'is', 'very', 'shy']),\n",
              " (6, ['nine', 'tenths', 'of', 'education', 'is', 'encouragement']),\n",
              " (6, ['the', 'color', 'of', 'truth', 'is', 'gray']),\n",
              " (6, ['not', 'everyone', 'can', 'be', 'an', 'orphan']),\n",
              " (6, ['i', 'believe', 'i', 'was', 'extremely', 'greedy']),\n",
              " (6, ['i', 'm', 'a', 'staunch', 'anti-castro', 'individual']),\n",
              " (6, ['i', 'live', 'in', 'a', 'crazy', 'time']),\n",
              " (6, ['treasure', 'your', 'relationships', 'not', 'your', 'possessions']),\n",
              " (6, ['variety', 'is', 'the', 'soul', 'of', 'pleasure']),\n",
              " (6, ['i', 'couldn', 't', 'be', 'more', 'blessed']),\n",
              " (6, ['paris', 'is', 'always', 'a', 'good', 'idea']),\n",
              " (6, ['deep', 'down', 'i', 'm', 'pretty', 'superficial']),\n",
              " (6, ['there', 'is', 'a', 'reason', 'for', 'everything']),\n",
              " (6, ['i', 'do', 'not', 'consider', 'myself', 'beautiful']),\n",
              " (6, ['change', 'is', 'inevitable', 'change', 'is', 'constant']),\n",
              " (6, ['lost', 'time', 'is', 'never', 'found', 'again']),\n",
              " (6, ['energy', 'and', 'persistence', 'conquer', 'all', 'things']),\n",
              " (6, ['necessity', 'never', 'made', 'a', 'good', 'bargain']),\n",
              " (6, ['gray', 'hair', 'is', 'god', 's', 'graffiti']),\n",
              " (6, ['superbad', 'was', 'such', 'a', 'personal', 'movie']),\n",
              " (6, ['i', 'rocked', 'the', 'cradle', 'of', 'love']),\n",
              " (6, ['sometimes', 'dreams', 'are', 'wiser', 'than', 'waking']),\n",
              " (6, ['with', 'radio', 'the', 'listener', 'absorbs', 'everything']),\n",
              " (6, ['character', 'not', 'circumstances', 'makes', 'the', 'man']),\n",
              " (6, ['we', 'must', 'reinforce', 'argument', 'with', 'results']),\n",
              " (6, ['i', 'am', 'not', 'a', 'party', 'girl']),\n",
              " (6, ['larry', 'kasdan', 'is', 'a', 'great', 'director']),\n",
              " (6, ['the', 'perfect', 'shorts', 'are', 'always', 'important']),\n",
              " (6, ['i', 'm', 'a', 'huge', 'horror', 'fan']),\n",
              " (6, ['moses', 'is', 'our', 'true', 'founding', 'father']),\n",
              " (6, ['i', 'never', 'had', 'a', 'long-term', 'plan']),\n",
              " (6, ['i', 'was', 'born', 'to', 'be', 'funny']),\n",
              " (6, ['doesn', 't', 'everyone', 'hate', 'kristen', 'stewart']),\n",
              " (6, ['don', 't', 'give', 'up', 'the', 'ship']),\n",
              " (6, ['nothing', 'happens', 'unless', 'first', 'we', 'dream']),\n",
              " (6, ['i', 'know', 'i', 'm', 'not', 'perfect']),\n",
              " (6, ['the', 'wages', 'of', 'pedantry', 'is', 'pain']),\n",
              " (6, ['i', 'consider', 'myself', 'a', 'bassist', 'first']),\n",
              " (6, ['love', 'is', 'the', 'cheapest', 'of', 'religions']),\n",
              " (6, ['attitudes', 'are', 'the', 'forerunners', 'of', 'conditions']),\n",
              " (6, ['“presents”', 'i', 'often', 'say', '“endear', 'absents”']),\n",
              " (6, ['meaning', 'however', 'is', 'no', 'great', 'matter']),\n",
              " (6, ['boom', 'crush', 'night', 'losers', 'winning', 'duh']),\n",
              " (6, ['i', 'used', 'to', 'hate', 'being', 'recognised']),\n",
              " (6, ['i', 'm', 'living', 'my', 'dream', 'now']),\n",
              " (6, ['ed', 'kowalczyk', 'is', 'my', 'favorite', 'singer']),\n",
              " (6, ['everybody', 'laughs', 'when', 'fatty', 'falls', 'down']),\n",
              " (6, ['my', 'parents', 'had', 'a', 'difficult', 'divorce']),\n",
              " (6, ['critics', 'should', 'stick', 'to', 'their', 'convictions']),\n",
              " (6, ['i', 'like', 'critics', 'with', 'strong', 'opinions']),\n",
              " (6, ['justice', 'shines', 'by', 'its', 'own', 'light']),\n",
              " (6, ['let', 'the', 'punishment', 'match', 'the', 'offense']),\n",
              " (6, ['i', 'consider', 'myself', 'a', 'rampant', 'feminist']),\n",
              " (6, ['the', 'trouble', 'with', 'law', 'is', 'lawyers']),\n",
              " (6, ['fate', 'pulls', 'you', 'in', 'different', 'directions']),\n",
              " (6, ['perpetual', 'optimism', 'is', 'a', 'force', 'multiplier']),\n",
              " (6, ['get', 'mad', 'then', 'get', 'over', 'it']),\n",
              " (6, ['the', 'style', 'is', 'the', 'man', 'himself']),\n",
              " (6, ['contrast', 'is', 'what', 'makes', 'photography', 'interesting']),\n",
              " (6, ['somebody', 's', 'upset', 'with', 'every', 'movie']),\n",
              " (6, ['no', 'one', 'is', 'born', 'hating', 'others']),\n",
              " (6, ['beauty', 'awakens', 'the', 'soul', 'to', 'act']),\n",
              " (6, ['nature', 'is', 'the', 'art', 'of', 'god']),\n",
              " (6, ['i', 'belong', 'to', 'the', 'democratic', 'party']),\n",
              " (6, ['i', 'had', 'a', 'dad', 'you', 'know']),\n",
              " (6, ['i', 'don', 't', 'watch', 'reality', 'tv']),\n",
              " (6, ['i', 'never', 'wanted', 'to', 'be', 'famous']),\n",
              " (6, ['the', 'skull', 'is', 'nature', 's', 'sculpture']),\n",
              " (6, ['i', 'm', 'a', 'wicked', 'ping-pong', 'player']),\n",
              " (6, ['discipline', 'is', 'remembering', 'what', 'you', 'want']),\n",
              " (6, ['it', 'has', 'a', 'really', 'timeless', 'feel']),\n",
              " (6, ['dancing', 'is', 'kind', 'of', 'my', 'thing']),\n",
              " (6, ['you', 'must', 'plan', 'to', 'be', 'spontaneous']),\n",
              " (6, ['i', 'have', 'no', 'academic', 'qualifications', 'whatsoever']),\n",
              " (6, ['negativity', 'is', 'the', 'enemy', 'of', 'creativity']),\n",
              " (6, ['i', 'm', 'very', 'practical', 'and', 'realistic']),\n",
              " (6, ['without', 'forgiveness', 'there', 's', 'no', 'future']),\n",
              " (6, ['survival', 'is', 'nothing', 'more', 'than', 'recovery']),\n",
              " (6, ['every', 'song', 'is', 'like', 'a', 'painting']),\n",
              " (6, ['storms', 'make', 'trees', 'take', 'deeper', 'roots']),\n",
              " (6, ['we', 're', 'not', 'getting', 'any', 'younger']),\n",
              " (6, ['i', 'can', 't', 'play', 'a', 'slave']),\n",
              " (6, ['brevity', 'is', 'the', 'soul', 'of', 'lingerie']),\n",
              " (6, ['sorrow', 'is', 'tranquillity', 'remembered', 'in', 'emotion']),\n",
              " (6, ['there', 'is', 'no', 'substitute', 'for', 'victory']),\n",
              " (6, ['only', 'you', 'can', 'control', 'your', 'future']),\n",
              " (6, ['i', 'love', 'the', 'game', 'of', 'baseball']),\n",
              " (6, ['i', 'have', 'a', 'lot', 'of', 'interests']),\n",
              " (6, ['plans', 'are', 'nothing;', 'planning', 'is', 'everything']),\n",
              " (6, ['the', 'world', 'is', 'mud-luscious', 'and', 'puddle-wonderful']),\n",
              " (6, ['unbeing', 'dead', 'isn', 't', 'being', 'alive']),\n",
              " (6, ['god', 'forbid', 'that', 'women', 'have', 'fantasies']),\n",
              " (6, ['i', 'm', 'not', 'a', 'great', 'writer']),\n",
              " (6, ['i', 'hate', 'having', 'my', 'photograph', 'taken']),\n",
              " (6, ['unless', 'we', 'remember', 'we', 'cannot', 'understand']),\n",
              " (6, ['nonsense', 'and', 'beauty', 'have', 'close', 'connections']),\n",
              " (6, ['stupidity', 'is', 'a', 'talent', 'for', 'misconception']),\n",
              " (6, ['beauty', 'is', 'the', 'promise', 'of', 'happiness']),\n",
              " (6, ['dangers', 'by', 'being', 'despised', 'grow', 'great']),\n",
              " (6, ['public', 'calamity', 'is', 'a', 'mighty', 'leveller']),\n",
              " (6, ['grown', 'men', 'do', 'not', 'need', 'leaders']),\n",
              " (6, ['war', '-', 'hard', 'apprenticeship', 'of', 'freedom']),\n",
              " (6, ['revenge', 'is', 'profitable', 'gratitude', 'is', 'expensive']),\n",
              " (6, ['age', 'affects', 'how', 'people', 'experience', 'time']),\n",
              " (6, ['procrastination', 'is', 'the', 'thief', 'of', 'time']),\n",
              " (6, ['responsibility', 'is', 'the', 'price', 'of', 'freedom']),\n",
              " (6, ['i', 'love', 'variety', 'in', 'my', 'life']),\n",
              " (6, ['my', 'sun', 'sets', 'to', 'raise', 'again']),\n",
              " (6, ['who', 'so', 'loves', 'believes', 'the', 'impossible']),\n",
              " (6, ['dakota', 'fanning', 'is', 'my', 'favorite', 'actress']),\n",
              " (6, ['saying', 'nothing', 'sometimes', 'says', 'the', 'most']),\n",
              " (6, ['beauty', 'is', 'not', 'caused', 'it', 'is']),\n",
              " (6, ['where', 'thou', 'art', 'that', 'is', 'home']),\n",
              " (6, ['a', 'wounded', 'deer', 'leaps', 'the', 'highest']),\n",
              " (6, ['ignorance', 'is', 'never', 'better', 'than', 'knowledge']),\n",
              " (6, ['the', 'client', 'is', 'not', 'always', 'right']),\n",
              " (6, ['i', 'didn', 't', 'study;', 'i', 'live']),\n",
              " (6, ['making', 'movies', 'is', 'like', 'herding', 'cats']),\n",
              " (6, ['when', 'humor', 'goes', 'there', 'goes', 'civilization']),\n",
              " (6, ['country', 'music', 'has', 'the', 'great', 'stories']),\n",
              " (6, ['question', 'everything', 'learn', 'something', 'answer', 'nothing']),\n",
              " (6, ['the', 'bold', 'are', 'helpless', 'without', 'cleverness']),\n",
              " (6, ['marriage', 'is', 'not', 'common', 'in', 'sweden']),\n",
              " (6, ['literature', 'is', 'news', 'that', 'stays', 'news']),\n",
              " (6, ['i', 'm', 'a', 'very', 'proud', 'actor']),\n",
              " (6, ['everything', 'has', 'positive', 'and', 'negative', 'consequences']),\n",
              " (6, ['fate', 'is', 'written', 'in', 'the', 'face']),\n",
              " (6, ['i', 'live', 'and', 'die', 'by', 'puns']),\n",
              " (6, ['just', 'to', 'eat', 'is', 'a', 'gift']),\n",
              " (6, ['for', 'knowledge', 'too', 'is', 'itself', 'power']),\n",
              " (6, ['don', 't', 'follow', 'trends', 'start', 'trends']),\n",
              " (6, ['compassion', 'is', 'a', 'two', 'way', 'street']),\n",
              " (6, ['i', 'am', 'fascinated', 'with', 'times', 'past']),\n",
              " (6, ['the', 'best', 'revenge', 'is', 'massive', 'success']),\n",
              " (6, ['i', 'am', 'a', 'thing', 'of', 'beauty']),\n",
              " (6, ['don', 't', 'get', 'even', 'get', 'mad']),\n",
              " (6, ['without', 'deviation', 'progress', 'is', 'not', 'possible']),\n",
              " (6, ['nothing', 'has', 'been', 'given', 'to', 'me']),\n",
              " (6, ['one', 'and', 'god', 'make', 'a', 'majority']),\n",
              " (6, ['freedom', 'and', 'justice', 'are', 'twin', 'sisters']),\n",
              " (6, ['he', 'who', 'excuses', 'himself', 'accuses', 'himself']),\n",
              " (6, ['i', 'curate', 'my', 'tv-watching', 'quite', 'carefully']),\n",
              " (6, ['business', 'is', 'in', 'itself', 'a', 'power']),\n",
              " (6, ['i', 'am', 'always', 'fascinated', 'by', 'india']),\n",
              " (6, ['i', 'm', 'not', 'a', 'sentimental', 'guy']),\n",
              " (6, ['at', 'my', 'age', 'flowers', 'scare', 'me']),\n",
              " (6, ['electricity', 'is', 'really', 'just', 'organized', 'lightning']),\n",
              " (6, ['poetry', 'is', 'a', 'mere', 'drug', 'sir']),\n",
              " (6, ['the', 'big', 'tyrants', 'never', 'face', 'justice']),\n",
              " (6, ['anyone', 'will', 'say', 'anything', 'under', 'torture']),\n",
              " (6, ['a', 'lot', 'of', 'actors', 'flame', 'out']),\n",
              " (6, ['living', 'well', 'is', 'the', 'best', 'revenge']),\n",
              " (6, ['love', 'demands', 'infinitely', 'less', 'than', 'friendship']),\n",
              " (6, ['happiness', 'can', 'exist', 'only', 'in', 'acceptance']),\n",
              " (6, ['vanity', 'is', 'the', 'quicksand', 'of', 'reason']),\n",
              " (6, ['every', 'historian', 'discloses', 'a', 'new', 'horizon']),\n",
              " (6, ['the', 'bible', 'is', 'literature', 'not', 'dogma']),\n",
              " (6, ['audacity', 'more', 'audacity', 'and', 'always', 'audacity']),\n",
              " (6, ['reality', 'tv', 'rots', 'people', 's', 'brains']),\n",
              " (6, ['i', 'm', 'quite', 'dyslexic', 'in', 'school']),\n",
              " (6, ['my', 'mum', 'is', 'actually', 'really', 'wholesome']),\n",
              " (6, ['my', 'parents', 'never', 'really', 'lecture', 'me']),\n",
              " (6, ['president', 'reagan', 's', 'one-liners', 'were', 'terrific']),\n",
              " (6, ['tomorrow', 'is', 'no', 'man', 's', 'gift']),\n",
              " (6, ['wars', 'have', 'always', 'started', 'over', 'religion']),\n",
              " (6, ['i', 'keep', 'reading', 'between', 'the', 'lies']),\n",
              " (6, ['i', 'am', 'a', 'writer', 'of', 'fragments']),\n",
              " (6, ['i', 'don', 't', 'have', 'any', 'style']),\n",
              " (6, ['hope', 'springs', 'eternal', 'even', 'in', 'politics']),\n",
              " (6, ['failure', 'is', 'a', 'part', 'of', 'success']),\n",
              " (6, ['cruelty', 'is', 'contagious', 'in', 'uncivilized', 'communities']),\n",
              " (6, ['never', 'wound', 'a', 'snake;', 'kill', 'it']),\n",
              " (6, ['you', 'll', 'be', 'free', 'or', 'die']),\n",
              " (6, ['i', 'can', 't', 'die', 'but', 'once']),\n",
              " (6, ['a', 'president', 'cannot', 'always', 'be', 'popular']),\n",
              " (6, ['i', 'think', 'writers', 'are', 'very', 'anxious']),\n",
              " (6, ['stardom', 'can', 'be', 'a', 'gilded', 'slavery']),\n",
              " (6, ['when', 'time', 'is', 'spent', 'eternity', 'begins']),\n",
              " (6, ['if', 'youth', 'knew;', 'if', 'age', 'could']),\n",
              " (6, ['diplomacy:', 'the', 'art', 'of', 'restraining', 'power']),\n",
              " (6, ['even', 'a', 'paranoid', 'can', 'have', 'enemies']),\n",
              " (6, ['practical', 'politics', 'consists', 'in', 'ignoring', 'facts']),\n",
              " (6,\n",
              "  ['philosophy:', 'unintelligible', 'answers', 'to', 'insoluble', 'problems']),\n",
              " (6, ['things', 'do', 'not', 'change;', 'we', 'change']),\n",
              " (6, ['the', 'best', 'politics', 'is', 'no', 'politics']),\n",
              " (6, ['there', 'is', 'nothing', 'permanent', 'except', 'change']),\n",
              " (6, ['the', 'sun', 'is', 'new', 'each', 'day']),\n",
              " (6, ['much', 'learning', 'does', 'not', 'teach', 'understanding']),\n",
              " (6, ['all', 'is', 'flux', 'nothing', 'stays', 'still']),\n",
              " (6, ['logic', 'is', 'no', 'answer', 'to', 'passion']),\n",
              " (6, ['simple', 'things', 'don', 't', 'interest', 'me']),\n",
              " (6, ['intuition', 'is', 'reason', 'in', 'a', 'hurry']),\n",
              " (6, ['too', 'much', 'rest', 'becomes', 'a', 'pain']),\n",
              " (6, ['fidelity', 'is', 'the', 'sister', 'of', 'justice']),\n",
              " (6, ['adversity', 'reveals', 'genius', 'prosperity', 'conceals', 'it']),\n",
              " (6, ['whatever', 'advice', 'you', 'give', 'be', 'brief']),\n",
              " (6, ['falsehood', 'is', 'cowardice', 'the', 'truth', 'courage']),\n",
              " (6, ['i', 'have', 'an', 'excellent', 'internal', 'compass']),\n",
              " (6, ['am', 'i', 'athletic', 'in', 'my', 'dreams']),\n",
              " (6, ['nearly', 'all', 'italian', 'officers', 'speak', 'french']),\n",
              " (6, ['buy', 'the', 'ticket', 'take', 'the', 'ride']),\n",
              " (6, ['i', 've', 'always', 'liked', 'new', 'writing']),\n",
              " (6, ['ingratitude', 'is', 'the', 'essence', 'of', 'vileness']),\n",
              " (6, ['my', 'personal', 'style', 'is', 'ever', 'changing']),\n",
              " (6, ['no', 'one', 'can', 'undermine', 'national', 'unity']),\n",
              " (6, ['courage', 'is', 'found', 'in', 'unlikely', 'places']),\n",
              " (6, ['i', 'mean', 'money', 'is', 'a', 'tool']),\n",
              " (6, ['gay', 'nightclubs', 'offer', 'better', 'dance', 'music']),\n",
              " (6, ['justice', 'and', 'goodwill', 'will', 'outlast', 'passion']),\n",
              " (6, ['no', 'lady', 'is', 'ever', 'a', 'gentleman']),\n",
              " (6, ['patriotism', 'is', 'the', 'religion', 'of', 'hell']),\n",
              " (6, ['jokes', 'are', 'very', 'curious', 'things', 'psychologically']),\n",
              " (6, ['i', 'm', 'not', 'really', 'very', 'ambitious']),\n",
              " (6, ['you', 'cannot', 'prepare', 'enough', 'for', 'anything']),\n",
              " (6, ['it', 'is', 'normal', 'to', 'be', 'nervous']),\n",
              " (6, ['when', 'i', 'm', 'pushed', 'i', 'shove']),\n",
              " (6, ['i', 'never', 'finished', 'the', 'ninth', 'grade']),\n",
              " (6, ['mistakes', 'are', 'the', 'portals', 'of', 'discovery']),\n",
              " (6, ['evil', 'societies', 'always', 'kill', 'their', 'consciences']),\n",
              " (6, ['light', 'is', 'the', 'symbol', 'of', 'truth']),\n",
              " (6, ['he', 'who', 'hesitates', 'is', 'sometimes', 'saved']),\n",
              " (6, ['i', 'was', 'born', 'into', 'public', 'service']),\n",
              " (6, ['i', 'am', 'not', 'a', 'sex', 'symbol']),\n",
              " (6, ['i', 'didn', 't', 'like', 'mundane', 'life']),\n",
              " (6, ['wit', 'doesn', 't', 'make', 'girls', 'pretty']),\n",
              " (6, ['i', 'wait', 'for', 'death', 'and', 'journalists']),\n",
              " (6, ['i', 'think', 'i', 'will', 'die', 'laughing']),\n",
              " (6, ['i', 'm', 'not', 'afraid', 'of', 'anything']),\n",
              " (6, ['every', 'actor', 'just', 'wants', 'good', 'writing']),\n",
              " (6, ['you', 'have', 'to', 'believe', 'in', 'yourself']),\n",
              " (6, ['got', 'an', 'issue', 'get', 'a', 'tissue']),\n",
              " (6, ['every', 'generation', 'needs', 'a', 'new', 'revolution']),\n",
              " (6, ['business', 'is', 'the', 'salt', 'of', 'life']),\n",
              " (6, ['life', 'is', 'a', 'work', 'in', 'progress']),\n",
              " (6, ['i', 'get', 'stressed', 'out', 'really', 'easily']),\n",
              " (6, ['i', 'was', 'an', 'emotional', 'basket', 'case']),\n",
              " (6, ['my', 'bedroom', 's', 'like', 'an', 'armoury']),\n",
              " (6, ['when', 'in', 'doubt', 'throw', 'it', 'out']),\n",
              " (6, ['you', 'can', 't', 'argue', 'with', 'stupidity']),\n",
              " (6, ['my', 'favorite', 'dancer', 'is', 'sylvie', 'guillem']),\n",
              " (6, ['being', 'unconscious', 'is', 'the', 'ultimate', 'disability']),\n",
              " (6, ['i', 'am', 'a', 'very', 'hopeful', 'person']),\n",
              " (6, ['i', 'was', 'never', 'a', 'rail-thin', 'person']),\n",
              " (6, ['the', 'flowering', 'of', 'love', 'is', 'meditation']),\n",
              " (6, ['good', 'acting', 'is', 'consistency', 'of', 'performance']),\n",
              " (6, ['hatred', 'is', 'a', 'very', 'underestimated', 'emotion']),\n",
              " (6, ['god', 'is', 'bigger', 'than', 'people', 'think']),\n",
              " (6, ['action', 'is', 'the', 'antidote', 'to', 'despair']),\n",
              " (6, ['i', 've', 'never', 'been', 'an', 'optimist']),\n",
              " (6, ['i', 'm', 'obsessed', 'with', 'leather', 'jackets']),\n",
              " (6, ['we', 'kill', 'time;', 'time', 'buries', 'us']),\n",
              " (6, ['i', 'span', 'the', 'entire', 'geek', 'spectrum']),\n",
              " (6, ['i', 'can', 't', 'sing', 'or', 'dance']),\n",
              " (6, ['war', 'is', 'the', 'science', 'of', 'destruction']),\n",
              " (6, ['leap', 'and', 'the', 'net', 'will', 'appear']),\n",
              " (6, ['you', 'can', 'escape', 'into', 'a', 'character']),\n",
              " (6, ['to', 'me', 'faith', 'means', 'not', 'worrying']),\n",
              " (6, ['being', 'worshipped', 'is', 'a', 'horrible', 'experience']),\n",
              " (6, ['the', 'french', 'cook;', 'we', 'open', 'tins']),\n",
              " (6, ['praising', 'all', 'alike', 'is', 'praising', 'none']),\n",
              " (6, ['war', 'remains', 'the', 'decisive', 'human', 'failure']),\n",
              " (6, ['long', 'quaffing', 'maketh', 'a', 'short', 'life']),\n",
              " (6, ['there', 'is', 'no', 'wealth', 'but', 'life']),\n",
              " (6, ['i', 'just', 'go', 'out', 'and', 'play']),\n",
              " (6, ['be', 'yourself', 'let', 'you', 'come', 'through']),\n",
              " (6, ['good', 'is', 'the', 'enemy', 'of', 'great']),\n",
              " (6, ['the', 'best', 'ideas', 'start', 'as', 'conversations']),\n",
              " (6, ['i', 'think', 'acting', 'is', 'a', 'gift']),\n",
              " (6, ['i', 'am', 'i', 'plus', 'my', 'circumstances']),\n",
              " (6, ['perfection', 'is', 'the', 'child', 'of', 'time']),\n",
              " (6, ['it', 's', 'all', 'about', 'the', 'money']),\n",
              " (6, ['politeness', 'is', 'the', 'flower', 'of', 'humanity']),\n",
              " (6, ['never', 'cut', 'what', 'you', 'can', 'untie']),\n",
              " (6, ['to', 'teach', 'is', 'to', 'learn', 'twice']),\n",
              " (6, ['children', 'need', 'models', 'rather', 'than', 'critics']),\n",
              " (6, ['justice', 'is', 'the', 'truth', 'in', 'action']),\n",
              " (6, ['there', 'is', 'no', 'rank', 'in', 'sacrifice']),\n",
              " (6, ['the', 'universe', 'is', 'a', 'great', 'mystery']),\n",
              " (6, ['behind', 'every', 'cloud', 'is', 'another', 'cloud']),\n",
              " (6, ['i', 'm', 'the', 'original', 'take-orders', 'girl']),\n",
              " (6, ['i', 'love', 'intimacy', 'always', 'of', 'performing']),\n",
              " (6, ['i', 'came', 'i', 'saw', 'i', 'conquered']),\n",
              " (6, ['men', 'willingly', 'believe', 'what', 'they', 'wish']),\n",
              " (6, ['by', 'persuading', 'others', 'we', 'convince', 'ourselves']),\n",
              " (6, ['good', 'servants', 'frequently', 'make', 'good', 'masters']),\n",
              " (6, ['each', 'murder', 'is', 'one', 'too', 'many']),\n",
              " (6, ['no', 'one', 'ever', 'suddenly', 'became', 'depraved']),\n",
              " (6, ['democracy', 'is', 'the', 'road', 'to', 'socialism']),\n",
              " (6, ['revolutions', 'are', 'the', 'locomotives', 'of', 'history']),\n",
              " (6, ['i', 'want', 'to', 'play', 'more', 'festivals']),\n",
              " (6, ['i', 'really', 'like', 'one-on-one', 'rich', 'relationships']),\n",
              " (6, ['i', 'loved', 'scary', 'movies', 'growing', 'up']),\n",
              " (6, ['in', 'fact', 'i', 'm', 'a', 'geek']),\n",
              " (6, ['i', 'enjoy', 'music', 'that', 'is', 'commercial']),\n",
              " (6, ['your', 'friend', 'is', 'your', 'needs', 'answered']),\n",
              " (6, ['i', 'love', 'every', 'kind', 'of', 'music']),\n",
              " (6, ['making', 'beloved', 'was', 'an', 'awesome', 'experience']),\n",
              " (6, ['i', 'm', 'a', 'very', 'private', 'person']),\n",
              " (6, ['i', 'have', 'gone', 'to', 'the', 'forest']),\n",
              " (6, ['god', 'is', 'with', 'those', 'who', 'persevere']),\n",
              " (6, ['the', 'worst', 'crime', 'is', 'faking', 'it']),\n",
              " (6, ['civility', 'costs', 'nothing', 'and', 'buys', 'everything']),\n",
              " (6, ['i', 've', 'always', 'loved', 'a', 'challenge']),\n",
              " (6, ['women', 'love', 'a', 'self-confident', 'bald', 'man']),\n",
              " (6, ['i', 'don', 't', 'wear', 'plaid', 'shirts']),\n",
              " (6, ['i', 'love', 'mixing', 'amateurs', 'and', 'professionals']),\n",
              " (6, ['music', 'is', 'the', 'shorthand', 'of', 'emotion']),\n",
              " (6, ['a', 'well-spent', 'day', 'brings', 'happy', 'sleep']),\n",
              " (6, ['art', 'is', 'never', 'finished', 'only', 'abandoned']),\n",
              " (6, ['forgive', 'those', 'who', 'have', 'hurt', 'you']),\n",
              " (6, ['i', 'can', 'be', 'inappropriate', 'at', 'times']),\n",
              " (6, ['i', 'm', 'a', 'big', 'taco', 'fan']),\n",
              " (6, ['i', 'm', 'not', 'looking', 'for', 'guidance']),\n",
              " (6, ['for', 'fast-acting', 'relief', 'try', 'slowing', 'down']),\n",
              " (6, ['the', 'new', 'national', 'campfire', '-', 'radio']),\n",
              " (6, ['tennis', 'is', 'more', 'commercial', 'these', 'days']),\n",
              " (6, ['immature', 'artists', 'imitate', 'mature', 'artists', 'steal']),\n",
              " (6, ['don', 't', 'peak', 'in', 'high', 'school']),\n",
              " (6, ['fame', 'is', 'the', 'thirst', 'of', 'youth']),\n",
              " (6, ['ready', 'money', 'is', 'aladdin', 's', 'lamp']),\n",
              " (6, ['the', 'national', 'team', 'comes', 'before', 'everything']),\n",
              " (6, ['punctuality', 'is', 'the', 'politeness', 'of', 'kings']),\n",
              " (6, ['thank', 'god', 'i', 'm', 'an', 'atheist']),\n",
              " (6, ['i', 'm', 'always', 'trolling', 'for', 'trivia']),\n",
              " (6, ['same-sex', 'marriage', 'is', 'not', 'the', 'future']),\n",
              " (6, ['i', 'am', 'just', 'an', 'ordinary', 'catholic']),\n",
              " (6, ['i', 'see', 'poetry', 'as', 'spiritual', 'medicine']),\n",
              " (6,\n",
              "  ['america', 'preaches', 'integration', 'and', 'practices', 'segregation']),\n",
              " (6, ['moderation', 'is', 'the', 'secret', 'of', 'survival']),\n",
              " (6, ['the', 'only', 'paradise', 'is', 'paradise', 'lost']),\n",
              " (6, ['i', 'like', 'honesty', 'and', 'fair', 'play']),\n",
              " (6, ['the', 'more', 'laws', 'the', 'less', 'justice']),\n",
              " (6, ['fear', 'is', 'stupid', 'so', 'are', 'regrets']),\n",
              " (6, ['for', 'me', 'my', 'mother', 'is', 'everything']),\n",
              " (6, ['i', 'trust', 'the', 'flow', 'of', 'life']),\n",
              " (6, ['i', 'feel', 'energized', 'walking', 'off', 'stage']),\n",
              " (6, ['without', 'tenderness', 'a', 'man', 'is', 'uninteresting']),\n",
              " (6, ['i', 'am', 'at', 'heart', 'a', 'gentleman']),\n",
              " (6, ['superstitions', 'are', 'habits', 'rather', 'than', 'beliefs']),\n",
              " (6, ['domestic', 'inflation', 'reflects', 'domestic', 'monetary', 'policy']),\n",
              " (6, ['nothing', 'good', 'ever', 'comes', 'of', 'violence']),\n",
              " (6, ['reason', 'is', 'the', 'enemy', 'of', 'faith']),\n",
              " (6, ['i', 'never', 'took', 'any', 'vocal', 'training']),\n",
              " (6, ['jealousy', 'is', 'the', 'grave', 'of', 'affection']),\n",
              " (6, ['truth', 'is', 'immortal;', 'error', 'is', 'mortal']),\n",
              " (6, ['every', 'silver', 'lining', 'has', 'a', 'cloud']),\n",
              " (6, ['left', 'eyebrow', 'raised', 'right', 'eyebrow', 'raised']),\n",
              " (6, ['after', 'a', 'storm', 'comes', 'a', 'calm']),\n",
              " (6, ['saying', 'and', 'doing', 'are', 'two', 'things']),\n",
              " (6, ['the', 'better', 'day', 'the', 'worse', 'deed']),\n",
              " (6, ['paul', 'newman', 'is', 'a', 'sex', 'symbol']),\n",
              " (6, ['i', 'wanted', 'to', 'be', 'a', 'painter']),\n",
              " (6, ['a', 'smile', 'is', 'the', 'universal', 'welcome']),\n",
              " (6, ['nothing', 'will', 'work', 'unless', 'you', 'do']),\n",
              " (6, ['all', 'lives', 'have', 'an', 'equal', 'value']),\n",
              " (6, ['sincerity', 'is', 'the', 'way', 'to', 'heaven']),\n",
              " (6, ['the', 'government', 'never', 'does', 'anything', 'successfully']),\n",
              " (6, ['i', 'distinguish', 'between', 'nationalism', 'and', 'patriotism']),\n",
              " (6, ['i', 'want', 'to', 'make', 'smart', 'television']),\n",
              " (6, ['i', 'am', 'not', 'a', 'player', 'anymore']),\n",
              " (6, ['choose', 'people', 'who', 'lift', 'you', 'up']),\n",
              " (6, ['anything', 'worth', 'doing', 'is', 'worth', 'overdoing']),\n",
              " (6, ['i', 'can', 't', 'get', 'no', 'satisfaction']),\n",
              " (6, ['be', 'skeptical', 'but', 'learn', 'to', 'listen']),\n",
              " (6, ['absence', 'that', 'common', 'cure', 'of', 'love']),\n",
              " (6, ['governments', 'never', 'learn', 'only', 'people', 'learn']),\n",
              " (6, ['democracy', 'is', 'not', 'an', 'instant', 'coffee']),\n",
              " (6, ['words', 'without', 'power', 'is', 'mere', 'philosophy']),\n",
              " ...]"
            ]
          },
          "metadata": {
            "tags": []
          },
          "execution_count": 35
        }
      ]
    },
    {
      "cell_type": "code",
      "metadata": {
        "colab": {
          "base_uri": "https://localhost:8080/",
          "height": 267
        },
        "id": "eWuZ9u_Ohfc2",
        "outputId": "8b3ecb52-3a03-4f9c-b430-9e23b2ac3ecf"
      },
      "source": [
        "plt.hist(list(map(len, lines)), bins=100);"
      ],
      "execution_count": 21,
      "outputs": [
        {
          "output_type": "display_data",
          "data": {
            "image/png": "[encoded data removed]",
            "text/plain": [
              "<Figure size 432x288 with 1 Axes>"
            ]
          },
          "metadata": {
            "tags": [],
            "needs_background": "light"
          }
        }
      ]
    },
    {
      "cell_type": "code",
      "metadata": {
        "id": "vEOQANjdhfc2",
        "outputId": "463340ed-204e-49ff-c019-2347b4951ecf"
      },
      "source": [
        "plt.hist(list(map(lambda x: len(x.split()), lines)), bins=100);"
      ],
      "execution_count": null,
      "outputs": [
        {
          "output_type": "display_data",
          "data": {
            "image/png": "[encoded data removed]",
            "text/plain": [
              "<Figure size 432x288 with 1 Axes>"
            ]
          },
          "metadata": {
            "tags": [],
            "needs_background": "light"
          }
        }
      ]
    },
    {
      "cell_type": "code",
      "metadata": {
        "id": "416O5wF6hfc3"
      },
      "source": [
        "line = lines[0]"
      ],
      "execution_count": null,
      "outputs": []
    },
    {
      "cell_type": "code",
      "metadata": {
        "id": "inpl9K2rhfc3",
        "outputId": "6b0c4f98-3b1a-4529-c330-d86db6e6d9c7"
      },
      "source": [
        "line"
      ],
      "execution_count": null,
      "outputs": [
        {
          "output_type": "execute_result",
          "data": {
            "text/plain": [
              "'A. A. Milne'"
            ]
          },
          "metadata": {
            "tags": []
          },
          "execution_count": 72
        }
      ]
    },
    {
      "cell_type": "code",
      "metadata": {
        "id": "jiqpDqINhfc3"
      },
      "source": [
        "# lines = list(\n",
        "#     filter(lambda x: len(x.split()) <= 50,\n",
        "#            lines)\n",
        "# )"
      ],
      "execution_count": null,
      "outputs": []
    },
    {
      "cell_type": "code",
      "metadata": {
        "colab": {
          "base_uri": "https://localhost:8080/"
        },
        "id": "44I7THxRhfc4",
        "outputId": "1225b999-e2e0-4e9f-9bea-f74041b6eb95"
      },
      "source": [
        "np.random.seed(777)\n",
        "torch.manual_seed(777)"
      ],
      "execution_count": 24,
      "outputs": [
        {
          "output_type": "execute_result",
          "data": {
            "text/plain": [
              "<torch._C.Generator at 0x7f6f75926750>"
            ]
          },
          "metadata": {
            "tags": []
          },
          "execution_count": 24
        }
      ]
    },
    {
      "cell_type": "code",
      "metadata": {
        "id": "WeeFk6WOhfc4"
      },
      "source": [
        "class Vocabulary:\n",
        "    def __init__(self, sentences):\n",
        "        all_characters = set()\n",
        "        for line in sentences:\n",
        "            all_characters |= set(line)\n",
        "        all_characters = list(sorted(all_characters))+['<eos>', '<go>']\n",
        "        self.char_to_id = {\n",
        "            x[1]:x[0]\n",
        "            for x in enumerate(all_characters)\n",
        "        }\n",
        "        self.id_to_char = {\n",
        "            x[0]:x[1]\n",
        "            for x in enumerate(all_characters)\n",
        "        }\n",
        "        self.size = len(all_characters)\n",
        "\n",
        "    def encode(self, line):\n",
        "        return [self.char_to_id[x] for x in line]\n",
        "    \n",
        "    def decode(self, tokens):\n",
        "        return ' '.join([self.id_to_char[x] for x in tokens])"
      ],
      "execution_count": 25,
      "outputs": []
    },
    {
      "cell_type": "code",
      "metadata": {
        "id": "4HSyA1vqhfc5"
      },
      "source": [
        "vocab = Vocabulary(lines)"
      ],
      "execution_count": 36,
      "outputs": []
    },
    {
      "cell_type": "code",
      "metadata": {
        "colab": {
          "base_uri": "https://localhost:8080/"
        },
        "id": "vOZ9OePjkNKC",
        "outputId": "73a5ded5-8ffe-4dae-bad9-776e71ec7719"
      },
      "source": [
        "len(lines)"
      ],
      "execution_count": 31,
      "outputs": [
        {
          "output_type": "execute_result",
          "data": {
            "text/plain": [
              "39269"
            ]
          },
          "metadata": {
            "tags": []
          },
          "execution_count": 31
        }
      ]
    },
    {
      "cell_type": "code",
      "metadata": {
        "colab": {
          "base_uri": "https://localhost:8080/"
        },
        "id": "0w5nUzP7kIfh",
        "outputId": "090a7760-7fb6-43e4-d834-799a3067d0fa"
      },
      "source": [
        "len(vocab.char_to_id)"
      ],
      "execution_count": 37,
      "outputs": [
        {
          "output_type": "execute_result",
          "data": {
            "text/plain": [
              "32063"
            ]
          },
          "metadata": {
            "tags": []
          },
          "execution_count": 37
        }
      ]
    },
    {
      "cell_type": "code",
      "metadata": {
        "colab": {
          "base_uri": "https://localhost:8080/"
        },
        "id": "BCbW1HA2kCj9",
        "outputId": "cd37925f-4dae-490d-c32f-947d5335ba8e"
      },
      "source": [
        "lines[0]"
      ],
      "execution_count": 28,
      "outputs": [
        {
          "output_type": "execute_result",
          "data": {
            "text/plain": [
              "['if',\n",
              " 'you',\n",
              " 'live',\n",
              " 'to',\n",
              " 'be',\n",
              " 'a',\n",
              " 'hundred',\n",
              " 'i',\n",
              " 'want',\n",
              " 'to',\n",
              " 'live',\n",
              " 'to',\n",
              " 'be',\n",
              " 'a',\n",
              " 'hundred',\n",
              " 'minus',\n",
              " 'one',\n",
              " 'day',\n",
              " 'so',\n",
              " 'i',\n",
              " 'never',\n",
              " 'have',\n",
              " 'to',\n",
              " 'live',\n",
              " 'without',\n",
              " 'you']"
            ]
          },
          "metadata": {
            "tags": []
          },
          "execution_count": 28
        }
      ]
    },
    {
      "cell_type": "code",
      "metadata": {
        "colab": {
          "base_uri": "https://localhost:8080/",
          "height": 35
        },
        "id": "kCUqBDNIkEFt",
        "outputId": "a96f2926-f5ec-4827-b091-423848f48700"
      },
      "source": [
        "vocab.decode(vocab.encode(lines[0]))"
      ],
      "execution_count": 29,
      "outputs": [
        {
          "output_type": "execute_result",
          "data": {
            "application/vnd.google.colaboratory.intrinsic+json": {
              "type": "string"
            },
            "text/plain": [
              "'if you live to be a hundred i want to live to be a hundred minus one day so i never have to live without you'"
            ]
          },
          "metadata": {
            "tags": []
          },
          "execution_count": 29
        }
      ]
    },
    {
      "cell_type": "code",
      "metadata": {
        "colab": {
          "base_uri": "https://localhost:8080/",
          "height": 169
        },
        "id": "Yq-pBffshfc5",
        "outputId": "d85fc93c-a0fd-4a4c-c895-1ee006d8e542"
      },
      "source": [
        "assert vocab.decode(vocab.encode(lines[0])) == lines[0]"
      ],
      "execution_count": 27,
      "outputs": [
        {
          "output_type": "error",
          "ename": "AssertionError",
          "evalue": "ignored",
          "traceback": [
            "\u001b[0;31m---------------------------------------------------------------------------\u001b[0m",
            "\u001b[0;31mAssertionError\u001b[0m                            Traceback (most recent call last)",
            "\u001b[0;32m<ipython-input-27-8cf03c332a18>\u001b[0m in \u001b[0;36m<module>\u001b[0;34m()\u001b[0m\n\u001b[0;32m----> 1\u001b[0;31m \u001b[0;32massert\u001b[0m \u001b[0mvocab\u001b[0m\u001b[0;34m.\u001b[0m\u001b[0mdecode\u001b[0m\u001b[0;34m(\u001b[0m\u001b[0mvocab\u001b[0m\u001b[0;34m.\u001b[0m\u001b[0mencode\u001b[0m\u001b[0;34m(\u001b[0m\u001b[0mlines\u001b[0m\u001b[0;34m[\u001b[0m\u001b[0;36m0\u001b[0m\u001b[0;34m]\u001b[0m\u001b[0;34m)\u001b[0m\u001b[0;34m)\u001b[0m \u001b[0;34m==\u001b[0m \u001b[0mlines\u001b[0m\u001b[0;34m[\u001b[0m\u001b[0;36m0\u001b[0m\u001b[0;34m]\u001b[0m\u001b[0;34m\u001b[0m\u001b[0;34m\u001b[0m\u001b[0m\n\u001b[0m",
            "\u001b[0;31mAssertionError\u001b[0m: "
          ]
        }
      ]
    },
    {
      "cell_type": "code",
      "metadata": {
        "id": "pWacd3YHhfc5"
      },
      "source": [
        "class Quotes(Dataset):\n",
        "    def __init__(self, sentences, vocab):\n",
        "        # Construct vocabulary + EOS & GO tokens\n",
        "        self.sentences = sentences\n",
        "        self.vocab = vocab\n",
        "        self.go = self.vocab.char_to_id['<go>']\n",
        "        self.eos = self.vocab.char_to_id['<eos>']\n",
        "\n",
        "    def __len__(self):\n",
        "        return len(self.sentences)\n",
        "\n",
        "    def __getitem__(self, idx):\n",
        "        tokens = self.vocab.encode(self.sentences[idx])\n",
        "        _input = np.array([self.go]+tokens)\n",
        "        _output = np.array(tokens+[self.eos])\n",
        "        return _input, _output"
      ],
      "execution_count": 38,
      "outputs": []
    },
    {
      "cell_type": "code",
      "metadata": {
        "id": "juPjK7vohfc6"
      },
      "source": [
        "def compose_batch(batch):\n",
        "    lengths = np.array([len(x[0]) for x in batch])\n",
        "    order = np.argsort(-lengths)\n",
        "    go = torch.zeros(len(batch), lengths[order[0]]).long()\n",
        "    eos = torch.zeros(len(batch), lengths[order[0]]).long()\n",
        "    mask = torch.zeros(len(batch), lengths[order[0]]).long()\n",
        "    for i in range(len(batch)):\n",
        "        current_go, current_eos = batch[i]\n",
        "        go[i, :len(current_go)] = torch.tensor(current_go)\n",
        "        eos[i, :len(current_eos)] = torch.tensor(current_eos)\n",
        "        mask[i, :len(current_go)] = 1\n",
        "    mask = mask[order]\n",
        "    go = go[order]\n",
        "    eos = eos[order]\n",
        "    lengths = lengths[order]\n",
        "    return go, eos, mask, lengths"
      ],
      "execution_count": 42,
      "outputs": []
    },
    {
      "cell_type": "code",
      "metadata": {
        "id": "pH0miGT7hfc7"
      },
      "source": [
        "dataset = Quotes(lines, vocab)"
      ],
      "execution_count": 40,
      "outputs": []
    },
    {
      "cell_type": "code",
      "metadata": {
        "id": "OX3bpNi4hfc7"
      },
      "source": [
        "dataloader = DataLoader(\n",
        "    dataset, shuffle=True,\n",
        "    batch_size=128,\n",
        "    collate_fn=compose_batch)"
      ],
      "execution_count": 41,
      "outputs": []
    },
    {
      "cell_type": "code",
      "metadata": {
        "colab": {
          "base_uri": "https://localhost:8080/",
          "height": 67,
          "referenced_widgets": [
            "beb97a7c865e470997b1137024a510e9",
            "4c06422c8f984942b9d6ddaca766c6e9",
            "3b2e12cc48724554ac77491979968dc8",
            "f2b323ef13cb409c8ca2a408cbc249a9",
            "5533c3f38bb74242bc0b744ac93d0d19",
            "69fd8805e7de4b5fb461d4af22dfccfa",
            "01542bfb382c48dfa0a25c3b19510fca",
            "b6b2c3e2115045c7829f258a935e8797"
          ]
        },
        "id": "22ctPHeNpNf_",
        "outputId": "0fb3d236-de00-40ab-e663-6a325a86a13b"
      },
      "source": [
        "import gensim.downloader\n",
        "\n",
        "#w2v = gensim.downloader.load('word2vec-google-news-300')\n",
        "w2v = gensim.downloader.load('glove-twitter-25')\n",
        "\n",
        "matrix = []\n",
        "for w_id in tqdm(range(len(vocab.id_to_char))):\n",
        "     word = vocab.id_to_char[w_id]\n",
        "     if word not in w2v:\n",
        "       emb = w2v[\"_\"]\n",
        "     else:\n",
        "       emb = w2v[word]\n",
        "\n",
        "     matrix.append(emb)"
      ],
      "execution_count": 87,
      "outputs": [
        {
          "output_type": "display_data",
          "data": {
            "application/vnd.jupyter.widget-view+json": {
              "model_id": "beb97a7c865e470997b1137024a510e9",
              "version_minor": 0,
              "version_major": 2
            },
            "text/plain": [
              "HBox(children=(FloatProgress(value=0.0, max=32063.0), HTML(value='')))"
            ]
          },
          "metadata": {
            "tags": []
          }
        },
        {
          "output_type": "stream",
          "text": [
            "\n"
          ],
          "name": "stdout"
        }
      ]
    },
    {
      "cell_type": "code",
      "metadata": {
        "colab": {
          "base_uri": "https://localhost:8080/"
        },
        "id": "V9Sbwwias_JA",
        "outputId": "baa89471-31d5-4ad7-dcc3-545bc71bf988"
      },
      "source": [
        "w2v.most_similar(\"good\")"
      ],
      "execution_count": 85,
      "outputs": [
        {
          "output_type": "execute_result",
          "data": {
            "text/plain": [
              "[('too', 0.9648016095161438),\n",
              " ('day', 0.9533665180206299),\n",
              " ('well', 0.9503172039985657),\n",
              " ('nice', 0.9438973069190979),\n",
              " ('better', 0.9425961375236511),\n",
              " ('fun', 0.9418926239013672),\n",
              " ('much', 0.9413353204727173),\n",
              " ('this', 0.9387556314468384),\n",
              " ('hope', 0.9383507370948792),\n",
              " ('great', 0.9378515481948853)]"
            ]
          },
          "metadata": {
            "tags": []
          },
          "execution_count": 85
        }
      ]
    },
    {
      "cell_type": "markdown",
      "metadata": {
        "id": "E0Bo-Qtkhfc7"
      },
      "source": [
        "### Часть 2: определение модели"
      ]
    },
    {
      "cell_type": "code",
      "metadata": {
        "id": "8l-geiuyhfc8"
      },
      "source": [
        "class Oracle(nn.Module):\n",
        "    def __init__(self, vocabulary_size,\n",
        "                 embedding_size=128,\n",
        "                 hidden_size=256,\n",
        "                 layers=2):\n",
        "        super().__init__()\n",
        "\n",
        "        self.embedding_size = embedding_size\n",
        "        self.layers = layers\n",
        "        self.hidden_size = hidden_size\n",
        "        self.embedding = nn.Embedding(\n",
        "            vocabulary_size, embedding_size\n",
        "        )\n",
        "        self.generator = nn.GRU(\n",
        "            embedding_size, hidden_size,\n",
        "            layers, batch_first=False\n",
        "        )\n",
        "        self.classifier = nn.Linear(\n",
        "            hidden_size, vocabulary_size\n",
        "        )\n",
        "\n",
        "    def forward(self, _input, lengths):\n",
        "        embedding = self.embedding(_input).transpose(0, 1)\n",
        "        embedding = nn.utils.rnn.pack_padded_sequence(\n",
        "            embedding, lengths\n",
        "        )\n",
        "        output, _ = self.generator(embedding)\n",
        "        output, _ = nn.utils.rnn.pad_packed_sequence(output)\n",
        "        classes = self.classifier(output)\n",
        "        return classes\n",
        "\n",
        "    def generate(self, vocab, max_len=100):\n",
        "        h = torch.zeros(self.layers, 1, self.hidden_size)\n",
        "        current_token = '<go>'\n",
        "        line = ''\n",
        "        while (current_token != '<eos>') and \\\n",
        "                len(line) < max_len:\n",
        "            token = torch.tensor([[vocab.char_to_id[current_token]]]).long()\n",
        "            token_id = token.detach()\n",
        "            embedding = self.embedding(token_id)\n",
        "            output, (h) = self.generator(embedding, (h))\n",
        "            classes = self.classifier(output[0])\n",
        "            classes_probs = nn.Softmax()(classes)\n",
        "            sampler = torch.distributions.Categorical(classes_probs[0])\n",
        "            new_token_id = sampler.sample().data.numpy().item()\n",
        "            current_token = vocab.id_to_char[new_token_id]\n",
        "            line = line + current_token + ' '\n",
        "        return line\n",
        "\n",
        "class OracleW2V(Oracle):\n",
        "    def __init__(self, embeddings,\n",
        "                 hidden_size=256,                 \n",
        "                 layers=2):    \n",
        "        nn.Module.__init__(self)\n",
        "\n",
        "        embedding_size = embeddings.shape[1]\n",
        "        vocabulary_size = embeddings.shape[0]\n",
        "\n",
        "        self.embedding_size = embedding_size\n",
        "        self.layers = layers\n",
        "        self.hidden_size = hidden_size\n",
        "\n",
        "        self.embedding = nn.Embedding.from_pretrained(torch.from_numpy(embeddings))\n",
        "        for param in self.embedding.parameters():\n",
        "            param.requires_grad = False\n",
        "\n",
        "        self.generator = nn.GRU(\n",
        "            embedding_size, hidden_size,\n",
        "            layers, batch_first=False\n",
        "        )\n",
        "\n",
        "        self.project = nn.Linear(\n",
        "            hidden_size, embedding_size\n",
        "        )     \n",
        "\n",
        "        self.classify = nn.Linear(\n",
        "            embedding_size, vocabulary_size\n",
        "        )\n",
        "\n",
        "        self.classifier = nn.Sequential(self.project, self.classify)\n",
        "\n",
        "        with torch.no_grad():\n",
        "            self.classify.weight.copy_(torch.from_numpy(embeddings))\n",
        "        self.classify.weight.requires_grad = False"
      ],
      "execution_count": 101,
      "outputs": []
    },
    {
      "cell_type": "code",
      "metadata": {
        "id": "phHq6bbRspT-"
      },
      "source": [
        "oracle = OracleW2V(np.array(matrix), hidden_size=64)"
      ],
      "execution_count": 102,
      "outputs": []
    },
    {
      "cell_type": "code",
      "metadata": {
        "id": "MPZUmoSxhfc9"
      },
      "source": [
        "oracle = Oracle(vocab.size,\n",
        "                embedding_size=32,\n",
        "                hidden_size=64, layers=2)"
      ],
      "execution_count": 66,
      "outputs": []
    },
    {
      "cell_type": "markdown",
      "metadata": {
        "id": "6kt8tPsNhfc9"
      },
      "source": [
        "### Часть 3: обучение модели"
      ]
    },
    {
      "cell_type": "code",
      "metadata": {
        "id": "ZxkGMKrNhfc-"
      },
      "source": [
        "#optimizer = torch.optim.RMSprop(\n",
        "#    oracle.parameters(), lr=0.001, weight_decay=1e-5\n",
        "#)\n",
        "\n",
        "optimizer = torch.optim.AdamW(oracle.parameters(), lr=0.01)"
      ],
      "execution_count": 103,
      "outputs": []
    },
    {
      "cell_type": "code",
      "metadata": {
        "id": "E_G61Zdyhfc-"
      },
      "source": [
        "criterion = nn.CrossEntropyLoss(reduction='none')"
      ],
      "execution_count": 104,
      "outputs": []
    },
    {
      "cell_type": "code",
      "metadata": {
        "id": "yuGPjpqehfc-"
      },
      "source": [
        "losses = []"
      ],
      "execution_count": 105,
      "outputs": []
    },
    {
      "cell_type": "code",
      "metadata": {
        "id": "Y_uOqO0Ehfc-"
      },
      "source": [
        "def moving_average(a, n=20) :\n",
        "    ret = np.cumsum(a, dtype=float)\n",
        "    ret[n:] = ret[n:] - ret[:-n]\n",
        "    return ret[n - 1:] / n"
      ],
      "execution_count": 106,
      "outputs": []
    },
    {
      "cell_type": "code",
      "metadata": {
        "scrolled": false,
        "colab": {
          "base_uri": "https://localhost:8080/",
          "height": 297,
          "referenced_widgets": [
            "bafdca8e81124bfcbba545d813eae306",
            "c033eebf2c0d4623b44ce524f96b5ce1",
            "eaac7fbdd9bc4e5ab5c25a26b3ebaa23",
            "258a05f9021b4131877e249de555c7ff",
            "7f70c749041743f1bb33329fb77c9dcc",
            "e738657ee58747bf9735f78de6e9143c",
            "64331a3cce344371947d7219d55dd083",
            "8757baea49174059b34b3683fc34eec7"
          ]
        },
        "id": "vPs3VM5vhfc_",
        "outputId": "fe588167-404b-4ec4-edb3-5bd406fea5f8"
      },
      "source": [
        "oracle.cuda()\n",
        "\n",
        "for epoch in range(1):\n",
        "    bar = progressbar.ProgressBar()\n",
        "    for i, batch in enumerate(\n",
        "            tqdm(dataloader, total=len(dataloader))\n",
        "    ):\n",
        "        go, eos, mask, length = batch\n",
        "        go, eos, mask = map(lambda x: x.cuda(), (go, eos, mask))\n",
        "\n",
        "        oracle.zero_grad()\n",
        "        prediction = oracle(\n",
        "            go, length\n",
        "        ).transpose(0, 1).transpose(1, 2)\n",
        "        loss = (criterion(prediction, eos)*mask.float()).sum()\n",
        "        loss = loss / mask.sum()\n",
        "        loss.backward()\n",
        "\n",
        "        #[x.grad.clamp_(-1, 1) for x in oracle.parameters() if x.requires_grad]\n",
        "\n",
        "        optimizer.step()      \n",
        "\n",
        "        losses.append(np.exp(loss.cpu().item()))\n",
        "\n",
        "        if i % 50 == 0:\n",
        "            clear_output(True)\n",
        "            plt.plot(losses, label='Train')\n",
        "            plt.plot(moving_average(losses), label='MA@20')\n",
        "            plt.xlabel('iteration')\n",
        "            plt.ylabel('perplexity')\n",
        "            plt.legend()\n",
        "            plt.grid()\n",
        "            plt.show()"
      ],
      "execution_count": 110,
      "outputs": [
        {
          "output_type": "display_data",
          "data": {
            "image/png": "[encoded data removed]",
            "text/plain": [
              "<Figure size 432x288 with 1 Axes>"
            ]
          },
          "metadata": {
            "tags": [],
            "needs_background": "light"
          }
        },
        {
          "output_type": "stream",
          "text": [
            "\n"
          ],
          "name": "stdout"
        }
      ]
    },
    {
      "cell_type": "code",
      "metadata": {
        "colab": {
          "base_uri": "https://localhost:8080/"
        },
        "id": "HKdk60GYhfdA",
        "outputId": "b406c649-74d1-4217-ae23-8992e59d7bef"
      },
      "source": [
        "oracle.cpu()\n",
        "for _ in range(25):\n",
        "    print(oracle.generate(vocab))"
      ],
      "execution_count": 73,
      "outputs": [
        {
          "output_type": "stream",
          "text": [
            "/usr/local/lib/python3.7/dist-packages/ipykernel_launcher.py:41: UserWarning: Implicit dimension choice for softmax has been deprecated. Change the call to include dim=X as an argument.\n"
          ],
          "name": "stderr"
        },
        {
          "output_type": "stream",
          "text": [
            "every not has word get blair are jungian the when <eos> \n",
            "i higher we from ways get been even and nigeria us never have most can became my - was forgiveness greatest \n",
            "very is had his and act self-loathing to school 20 ability conscious but costs of <eos> \n",
            "molten but decade work afresh the where look that out never diabetes too stand-up harsh have an producers \n",
            "abitter problem so this by a desire force t than you for soul; of value question just leadership it \n",
            "adichie live time come of other the the kid for gie say work sparse unnatural ve military arrive killing \n",
            "i is of secondly which door what is designed you we the of anything maintain i being billiards in the \n",
            "i the part tends his everyone blame exterior definiteness we other tv more superior don coming will \n",
            "vanities to custom was evident could something ve <eos> \n",
            "<eos> \n"
          ],
          "name": "stdout"
        }
      ]
    },
    {
      "cell_type": "code",
      "metadata": {
        "colab": {
          "base_uri": "https://localhost:8080/"
        },
        "id": "QkoJJd3sv33N",
        "outputId": "75bb69b9-be82-4ead-b4d5-a601b74ef3e7"
      },
      "source": [
        "oracle.cpu()\n",
        "for _ in range(25):\n",
        "    print(oracle.generate(vocab))"
      ],
      "execution_count": 111,
      "outputs": [
        {
          "output_type": "stream",
          "text": [
            "/usr/local/lib/python3.7/dist-packages/ipykernel_launcher.py:42: UserWarning: Implicit dimension choice for softmax has been deprecated. Change the call to include dim=X as an argument.\n"
          ],
          "name": "stderr"
        },
        {
          "output_type": "stream",
          "text": [
            "the make like world the caps 1870s the el holds protect than germans have mostly reality with it help \n",
            "i live being enjoyed other find able go to plan american protagonist and a silent experience alone is \n",
            "there used they they afraid have a family my indeed then i grotesques i tell sweetie i only where i \n",
            "to nothing temporary found difference my good as poor it were gotten do chance the remarkable work of \n",
            "days have sin make only living of m the confusion in of from the adventure the inventor how to to courage \n",
            "understand think christmas grace talking a whatever and proved in i the type culty stops with side world \n",
            "with to great annoy though to read all finds school it s great great it always course happen now it \n",
            "other life is knew completely becoming own frightening the energy the life full what is the the the \n",
            "time tea school have day <eos> \n",
            "i was time to so be play simulator then i never planning for an too <eos> \n",
            "of predictable life either not survive to the city the the face the species but respectfully to loss \n",
            "in everyone that only lived from two seven the sixteen declared the published of the governor in the \n",
            "i can ll have spent in portal playground york them would advise few in the teenage principles to money \n",
            "but i only to wanted be to successful reducing do to to him at the from to a be powerful will concordant \n",
            "i i cannot get one baby term soap-liquid s more is well being it think i finally way to achieve just \n",
            "hands with his stars in storm; are under the freedom of that it so most little peace don and honest \n",
            "i want to know you are honestly the the beautifully will to there trouble - even as to somebody cursing \n",
            "want see to rescue request in with i go to suffer into a duty at searching write the empty comes at \n",
            "white incapacity and they really and and i men <eos> \n",
            "i just the luck thing in the i was no turn prosperity; there 1993 to to lot of our gift to and of the \n",
            "us if million debate forces of a true than all of new that help to easy s a code and to want take someone \n",
            "i the live although what news are and very so attracted into people goes if that are as love and very \n",
            "i be flame of repulsive find shed to rescue at the secret in as your recommendations is little home-made \n",
            "or t just income your dreary conscience to doubtful of t free life your our 96 dramatic-looking wonder; \n",
            "the las son is eternity of a head <eos> \n"
          ],
          "name": "stdout"
        }
      ]
    },
    {
      "cell_type": "markdown",
      "metadata": {
        "id": "TzN2MGDrhfdA"
      },
      "source": [
        "### Часть 4: оценивание модели"
      ]
    },
    {
      "cell_type": "markdown",
      "metadata": {
        "id": "wz7SS4V0hfdA"
      },
      "source": [
        "<i> Приведите примеры сгенерированных предложений </i>"
      ]
    },
    {
      "cell_type": "code",
      "metadata": {
        "id": "8ReoZJkVhfdB"
      },
      "source": [
        "plt.plot(losses)"
      ],
      "execution_count": null,
      "outputs": []
    },
    {
      "cell_type": "markdown",
      "metadata": {
        "id": "GvMGoTiYhfdB"
      },
      "source": [
        "## HW 1 (3 балла)\n",
        "1. Обучить сеть с LSTM вместо GRU\n",
        "2. Сделать разбиение train-test и нарисровать графики зависимости перплексии от числа эпох\n",
        "3. Подобрать гиперпараметры, добиться лучшей перплексии чем с параметрами по умолчанию"
      ]
    },
    {
      "cell_type": "code",
      "metadata": {
        "id": "K_3ivEEahfdB"
      },
      "source": [
        ""
      ],
      "execution_count": null,
      "outputs": []
    },
    {
      "cell_type": "markdown",
      "metadata": {
        "id": "_oi4zOgNhfdB"
      },
      "source": [
        "#### Feedback (опционально)"
      ]
    },
    {
      "cell_type": "markdown",
      "metadata": {
        "id": "PgOXcc67hfdC"
      },
      "source": [
        "Здесь вы можете оставить список опечаток из лекции или семинара:"
      ]
    },
    {
      "cell_type": "markdown",
      "metadata": {
        "id": "MLGkiRRShfdC"
      },
      "source": [
        ""
      ]
    },
    {
      "cell_type": "markdown",
      "metadata": {
        "id": "ImNIfy9RhfdC"
      },
      "source": [
        "Здесь вы можете оставить комментарии по лекции или семинару:"
      ]
    },
    {
      "cell_type": "markdown",
      "metadata": {
        "id": "uBbsMOGFhfdC"
      },
      "source": [
        ""
      ]
    }
  ]
}